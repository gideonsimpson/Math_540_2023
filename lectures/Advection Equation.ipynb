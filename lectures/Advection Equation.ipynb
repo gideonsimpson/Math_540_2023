{
 "cells": [
  {
   "cell_type": "code",
   "execution_count": null,
   "id": "0c611529-a740-40f4-9afa-fc924f9b4104",
   "metadata": {},
   "outputs": [],
   "source": [
    "using Plots\n",
    "using LinearAlgebra\n",
    "using Printf\n",
    "using LaTeXStrings\n",
    "using DifferentialEquations"
   ]
  },
  {
   "cell_type": "code",
   "execution_count": null,
   "id": "c13b6e3b-45e4-49f1-861b-eb39295471ac",
   "metadata": {},
   "outputs": [],
   "source": [
    "default(lw=2,markersize = 6,\n",
    "    xtickfont=font(12), ytickfont=font(12), \n",
    "    guidefont=font(14), legendfont=font(12),titlefont=font(12))"
   ]
  },
  {
   "cell_type": "markdown",
   "id": "2f189f44-fc34-413b-9b29-f43edd51ea06",
   "metadata": {},
   "source": [
    "# Advection Equation\n",
    "Solve\n",
    "$$\n",
    "u_t + c u_x = 0,\n",
    "$$\n",
    "on the periodic domain $[0,L)$ and $c$ is a constant."
   ]
  },
  {
   "cell_type": "code",
   "execution_count": null,
   "id": "e4aba5c4-8a43-424d-85fa-f077aef1fcc6",
   "metadata": {},
   "outputs": [],
   "source": [
    "L = 10;\n",
    "c = 1.;\n",
    "\n",
    "N = 50;\n",
    "x = LinRange(0, L,N+1)[1:end-1];\n",
    "@show Δx = x[2] - x[1];\n",
    "Δt = 1.999*Δx/(2*c);\n",
    "n_steps = 100;\n",
    "\n",
    "u0 = @. exp( -(x- L/2)^2);\n",
    "plot(x, u0,label=\"\")\n",
    "xlabel!(L\"$x$\")\n",
    "ylabel!(L\"$u_0$\")"
   ]
  },
  {
   "cell_type": "code",
   "execution_count": null,
   "id": "7f724425-4b15-4e72-ad6b-f6a0c20bec74",
   "metadata": {},
   "outputs": [],
   "source": [
    "function integrate_advection_equation1(u0, c, Δx, Δt, n_steps)\n",
    "    u = deepcopy(u0);\n",
    "    t = 0.\n",
    "    \n",
    "    u_traj = [deepcopy(u)];\n",
    "    t_traj = Float64[t];\n",
    "    \n",
    "    u_new = similar(u);\n",
    "    \n",
    "    N = length(u);\n",
    "    \n",
    "    for n in 1:n_steps\n",
    "        # update u\n",
    "        for j in 1:N-1\n",
    "            u_new[j] = u[j] - c * Δt/Δx * (u[j+1]-u[j]);\n",
    "        end\n",
    "        u_new[end] = u[end] - c * Δt/Δx * (u[1]-u[end]); # for periodic BCs\n",
    "        # copy over\n",
    "        @. u = u_new;\n",
    "        \n",
    "        t  += Δt;\n",
    "        \n",
    "        push!(u_traj, deepcopy(u));\n",
    "        push!(t_traj, t);\n",
    "    end\n",
    "\n",
    "    return t_traj, u_traj\n",
    "\n",
    "end"
   ]
  },
  {
   "cell_type": "code",
   "execution_count": null,
   "id": "8c23e59e-56d2-420a-b4f0-a27808e553ce",
   "metadata": {},
   "outputs": [],
   "source": [
    "t_traj, u_traj = integrate_advection_equation1(u0, c, Δx, Δt, n_steps);"
   ]
  },
  {
   "cell_type": "code",
   "execution_count": null,
   "id": "fc83bc7b-77c1-452c-888c-f8f2796383d0",
   "metadata": {},
   "outputs": [],
   "source": [
    "anim = @animate for (n,t) in enumerate(t_traj)\n",
    "    plot(x, u_traj[n], label=\"\");\n",
    "    title!(@sprintf(\"t = %.2f\", t))\n",
    "    xlabel!(L\"$x$\");\n",
    "end "
   ]
  },
  {
   "cell_type": "code",
   "execution_count": null,
   "id": "767f78db-caa8-4bcb-9daa-9e4229e6f61c",
   "metadata": {},
   "outputs": [],
   "source": [
    "gif(anim, fps = 15)\n"
   ]
  },
  {
   "cell_type": "code",
   "execution_count": null,
   "id": "fb053170-4c6d-41d2-b707-a4a4f734adef",
   "metadata": {},
   "outputs": [],
   "source": [
    "function integrate_advection_equation2(u0, c, Δx, Δt, n_steps)\n",
    "    u = deepcopy(u0);\n",
    "    t = 0.\n",
    "    \n",
    "    u_traj = [deepcopy(u)];\n",
    "    t_traj = Float64[t];\n",
    "    \n",
    "    u_new = similar(u);\n",
    "    \n",
    "    N = length(u);\n",
    "    \n",
    "    for n in 1:n_steps\n",
    "        # update u\n",
    "        u_new[1] = u[1] - c * Δt/Δx * (u[1]-u[end-1]); # for periodic boundary conditions\n",
    "        for j in 2:N\n",
    "            u_new[j] = u[j] - c * Δt/Δx * (u[j]-u[j-1]);\n",
    "        end\n",
    "        # copy over\n",
    "        @. u = u_new;\n",
    "        \n",
    "        t  += Δt;\n",
    "        \n",
    "        push!(u_traj, deepcopy(u));\n",
    "        push!(t_traj, t);\n",
    "    end\n",
    "\n",
    "    return t_traj, u_traj\n",
    "\n",
    "end"
   ]
  },
  {
   "cell_type": "code",
   "execution_count": null,
   "id": "0b7053cf-84d7-4aca-87c0-5781617e92eb",
   "metadata": {},
   "outputs": [],
   "source": [
    "# Δt = 0.01;\n",
    "# n_steps = 1000;\n",
    "\n",
    "t_traj, u_traj = integrate_advection_equation2(u0, c, Δx, Δt, n_steps);"
   ]
  },
  {
   "cell_type": "code",
   "execution_count": null,
   "id": "8436839c-2f6b-46e1-bea0-aa8c3edb239b",
   "metadata": {},
   "outputs": [],
   "source": [
    "anim = @animate for (n,t) in enumerate(t_traj)\n",
    "    plot(x, u_traj[n], label=\"\");\n",
    "    title!(@sprintf(\"t = %.2f\", t))\n",
    "    xlabel!(L\"$x$\");\n",
    "    # ylims!(0,1);\n",
    "end "
   ]
  },
  {
   "cell_type": "code",
   "execution_count": null,
   "id": "0a9e5f99-39e9-4c14-b9d4-8c9b18eb1fb3",
   "metadata": {},
   "outputs": [],
   "source": [
    "gif(anim, fps = 60)\n"
   ]
  },
  {
   "cell_type": "code",
   "execution_count": null,
   "id": "d91e5357-242c-4413-870d-72e94a97d375",
   "metadata": {},
   "outputs": [],
   "source": [
    "function fadvection!(du, u, p, t)\n",
    "    c = p[1];\n",
    "    Δx = p[2];\n",
    "    du[1] = - c/Δx * (u[1]-u[end-1]);\n",
    "    N = length(u);\n",
    "    for j in 2:N\n",
    "        du[j] = - c/Δx * (u[j]-u[j-1]);\n",
    "    end\n",
    "    du\n",
    "end"
   ]
  },
  {
   "cell_type": "code",
   "execution_count": null,
   "id": "e07055dd-9803-4049-8b6c-e0f0981e01a7",
   "metadata": {},
   "outputs": [],
   "source": [
    "p = [c, Δx]\n",
    "tspan = (0, 20);\n",
    "prob = ODEProblem(fadvection!, u0, tspan, p);\n"
   ]
  },
  {
   "cell_type": "code",
   "execution_count": null,
   "id": "cf04e880-0757-40fd-912c-ce4083ec3767",
   "metadata": {},
   "outputs": [],
   "source": [
    "t_vals= 0:1:20;\n",
    "\n",
    "sol = solve(prob, saveat=t_vals);"
   ]
  },
  {
   "cell_type": "code",
   "execution_count": null,
   "id": "1a2d9a14-5809-4aa2-bc1b-e493d75fcc50",
   "metadata": {},
   "outputs": [],
   "source": [
    "anim = @animate for (t, u) in zip(sol.t, sol.u)\n",
    "    plot(x, u, label=\"\")\n",
    "    title!(@sprintf(\"t = %.2f\", t))\n",
    "    xlabel!(L\"$x$\")\n",
    "    ylims!(0,1)\n",
    "end"
   ]
  },
  {
   "cell_type": "code",
   "execution_count": null,
   "id": "751b721e-7fb2-4ff0-8d5a-2ccb8209ee77",
   "metadata": {},
   "outputs": [],
   "source": [
    "gif(anim, fps = 15)\n"
   ]
  },
  {
   "cell_type": "code",
   "execution_count": null,
   "id": "00fd0ca9-b2f1-4405-831f-24ab37cdcafa",
   "metadata": {},
   "outputs": [],
   "source": []
  }
 ],
 "metadata": {
  "kernelspec": {
   "display_name": "Julia 1.9.3",
   "language": "julia",
   "name": "julia-1.9"
  },
  "language_info": {
   "file_extension": ".jl",
   "mimetype": "application/julia",
   "name": "julia",
   "version": "1.9.3"
  }
 },
 "nbformat": 4,
 "nbformat_minor": 5
}
