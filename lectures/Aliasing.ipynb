{
 "cells": [
  {
   "cell_type": "markdown",
   "id": "fa56c8d6-950b-45bf-8d76-e56c9567d08d",
   "metadata": {},
   "source": [
    "This illustrates the \"aliasing\" problem, and how to ensure that vectors of vectors (and more complicated data structures) are doing what you want."
   ]
  },
  {
   "cell_type": "code",
   "execution_count": null,
   "id": "2670b050-252d-4b05-be3e-343371d53ad2",
   "metadata": {},
   "outputs": [],
   "source": [
    "a = 1;\n",
    "b = 2; \n",
    "c = 3;\n"
   ]
  },
  {
   "cell_type": "code",
   "execution_count": null,
   "id": "d75420a0-db8f-4dbc-bfb0-ede754fedba6",
   "metadata": {},
   "outputs": [],
   "source": [
    "A = [a, b, c]"
   ]
  },
  {
   "cell_type": "code",
   "execution_count": null,
   "id": "ac2cd8e4-c9b4-42dd-8226-f10d747e8707",
   "metadata": {},
   "outputs": [],
   "source": [
    "a = 4"
   ]
  },
  {
   "cell_type": "code",
   "execution_count": null,
   "id": "396e7573-356f-45a8-b7aa-1f99c6dda39f",
   "metadata": {},
   "outputs": [],
   "source": [
    "A"
   ]
  },
  {
   "cell_type": "code",
   "execution_count": null,
   "id": "f422f125-db31-4f8c-b082-8f659ec9a35f",
   "metadata": {},
   "outputs": [],
   "source": [
    "a = [1];\n",
    "b = [2]; \n",
    "c = [3];\n",
    "a\n"
   ]
  },
  {
   "cell_type": "code",
   "execution_count": null,
   "id": "385f3369-1469-40c3-a0f0-205e24bd2739",
   "metadata": {},
   "outputs": [],
   "source": [
    "A = [a, b, c] #array of arrays"
   ]
  },
  {
   "cell_type": "code",
   "execution_count": null,
   "id": "e60bbeef-c792-4069-88ac-9a8392a79cf0",
   "metadata": {},
   "outputs": [],
   "source": [
    "a[1] = 4"
   ]
  },
  {
   "cell_type": "code",
   "execution_count": null,
   "id": "783ec19b-9ae2-46d1-9343-d7634c95ba19",
   "metadata": {},
   "outputs": [],
   "source": [
    "a"
   ]
  },
  {
   "cell_type": "code",
   "execution_count": null,
   "id": "3c1593f1-50e5-4b87-b702-6b514bfb74ad",
   "metadata": {},
   "outputs": [],
   "source": [
    "A"
   ]
  },
  {
   "cell_type": "code",
   "execution_count": null,
   "id": "d3238910-3696-47fd-b42f-5207974a6b51",
   "metadata": {},
   "outputs": [],
   "source": [
    "a = [1];\n",
    "b = [2]; \n",
    "c = [3];\n"
   ]
  },
  {
   "cell_type": "code",
   "execution_count": null,
   "id": "e58302b5-fbb5-4692-b1cf-bdf404dd6d5f",
   "metadata": {},
   "outputs": [],
   "source": [
    "A = [copy(a), copy(b), (c)] #array of arrays"
   ]
  },
  {
   "cell_type": "code",
   "execution_count": null,
   "id": "d0e008c4-e290-42da-81fc-d788ae5cab04",
   "metadata": {},
   "outputs": [],
   "source": [
    "a[1] = 4"
   ]
  },
  {
   "cell_type": "code",
   "execution_count": null,
   "id": "6bdaf9ea-80c2-41f1-9a5b-06b13bdc3eb6",
   "metadata": {},
   "outputs": [],
   "source": [
    "A # unchanged"
   ]
  },
  {
   "cell_type": "code",
   "execution_count": null,
   "id": "18295012-41a0-4ab7-a989-0a8cb701dfee",
   "metadata": {},
   "outputs": [],
   "source": [
    "a = [1];\n",
    "b = [2]; \n",
    "c = [3];"
   ]
  },
  {
   "cell_type": "code",
   "execution_count": null,
   "id": "198054fe-bc3b-432e-aa0a-affa83e253df",
   "metadata": {},
   "outputs": [],
   "source": [
    "A = [deepcopy(a), deepcopy(b), deepcopy(c)] #recursive copy"
   ]
  },
  {
   "cell_type": "code",
   "execution_count": null,
   "id": "80f14487-c01c-4b2f-8549-28d592fe0dea",
   "metadata": {},
   "outputs": [],
   "source": [
    "A = [a,b,c];\n",
    "B = deepcopy(A);"
   ]
  },
  {
   "cell_type": "code",
   "execution_count": null,
   "id": "3829cd45-d1c8-43d7-9ad6-011bfb3aef28",
   "metadata": {},
   "outputs": [],
   "source": [
    "B"
   ]
  },
  {
   "cell_type": "code",
   "execution_count": null,
   "id": "366eb7cf-0e9f-4c5e-874d-f239f4a95773",
   "metadata": {},
   "outputs": [],
   "source": [
    "a[1] = 4;"
   ]
  },
  {
   "cell_type": "code",
   "execution_count": null,
   "id": "5ba651a6-3e64-48ef-9c39-186487fc5512",
   "metadata": {},
   "outputs": [],
   "source": [
    "A"
   ]
  },
  {
   "cell_type": "code",
   "execution_count": null,
   "id": "4919e9e8-244c-44aa-afc9-7301e7810995",
   "metadata": {},
   "outputs": [],
   "source": [
    "B"
   ]
  },
  {
   "cell_type": "code",
   "execution_count": null,
   "id": "f76a11fa-8cab-40eb-886a-7a71eb46b0f8",
   "metadata": {},
   "outputs": [],
   "source": []
  }
 ],
 "metadata": {
  "kernelspec": {
   "display_name": "Julia 1.9.3",
   "language": "julia",
   "name": "julia-1.9"
  },
  "language_info": {
   "file_extension": ".jl",
   "mimetype": "application/julia",
   "name": "julia",
   "version": "1.9.3"
  }
 },
 "nbformat": 4,
 "nbformat_minor": 5
}
