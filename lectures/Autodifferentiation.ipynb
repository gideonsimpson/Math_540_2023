{
 "cells": [
  {
   "cell_type": "code",
   "execution_count": null,
   "id": "af74462f-cb84-47a8-b87b-a59063b725af",
   "metadata": {},
   "outputs": [],
   "source": [
    "using Plots\n",
    "using LaTeXStrings\n",
    "using Printf\n",
    "using ForwardDiff\n",
    "using BenchmarkTools"
   ]
  },
  {
   "cell_type": "code",
   "execution_count": null,
   "id": "ce3e0f7d-c623-43e4-a491-7486332af41a",
   "metadata": {},
   "outputs": [],
   "source": [
    "default(lw=2,markersize = 6,\n",
    "    xtickfont=font(12), ytickfont=font(12), \n",
    "    guidefont=font(14), legendfont=font(12),titlefont=font(12))"
   ]
  },
  {
   "cell_type": "markdown",
   "id": "ba134942-0a3b-469d-81f7-48fa9fa19bf9",
   "metadata": {},
   "source": [
    "# Scalar Case"
   ]
  },
  {
   "cell_type": "code",
   "execution_count": null,
   "id": "7ea87561-efbb-47f7-a370-8222a7d9bf06",
   "metadata": {},
   "outputs": [],
   "source": [
    "f(x) = x*log(x)-x+1;"
   ]
  },
  {
   "cell_type": "code",
   "execution_count": null,
   "id": "72483d4b-c199-4508-940d-b7330a79a3a7",
   "metadata": {},
   "outputs": [],
   "source": [
    "xx=LinRange(0,2,100);\n",
    "plot(xx, f.(xx),label=L\"f(x)\")\n",
    "xlabel!(L\"x\")"
   ]
  },
  {
   "cell_type": "code",
   "execution_count": null,
   "id": "f7ba9e96-d083-4c68-8717-f3e7c1faf7a1",
   "metadata": {},
   "outputs": [],
   "source": [
    "df(x) = log(x);\n",
    "df_auto(x) = ForwardDiff.derivative(f,x); # auto diff version of f, defined as a function"
   ]
  },
  {
   "cell_type": "code",
   "execution_count": null,
   "id": "55df6439-b3fa-485f-b24d-e81c7381e3c3",
   "metadata": {},
   "outputs": [],
   "source": [
    "xx=LinRange(0,2,100);\n",
    "plot(xx, df.(xx),label=L\"f'(x)\")\n",
    "plot!(xx, df_auto.(xx),label=L\"$f'(x)$ - A.D.\")\n",
    "xlabel!(L\"x\")"
   ]
  },
  {
   "cell_type": "code",
   "execution_count": null,
   "id": "f67ab7fc-fc7e-4c5d-8cee-80f8a211dfac",
   "metadata": {},
   "outputs": [],
   "source": [
    "@btime df(1.);"
   ]
  },
  {
   "cell_type": "code",
   "execution_count": null,
   "id": "a18ada6e-05f3-49a2-8b74-e486568b99ca",
   "metadata": {},
   "outputs": [],
   "source": [
    "@btime df_auto(1.);"
   ]
  },
  {
   "cell_type": "markdown",
   "id": "864a687e-cd23-40a5-a2da-99db7054cb68",
   "metadata": {},
   "source": [
    "# Vector valued case"
   ]
  },
  {
   "cell_type": "code",
   "execution_count": null,
   "id": "03b1e2c8-4839-4e97-88f6-21db53eda158",
   "metadata": {},
   "outputs": [],
   "source": [
    "function f(x)\n",
    "    return (1-x[1])^2 + 100 * (x[2]-x[1]^2)^2 #rosenbrock function\n",
    "end"
   ]
  },
  {
   "cell_type": "code",
   "execution_count": null,
   "id": "5aea303d-1f30-4b72-8650-d098963bbe4d",
   "metadata": {},
   "outputs": [],
   "source": [
    "xx = LinRange(-2,2,500);\n",
    "yy = LinRange(-2,3,500);\n",
    "contourf(xx, yy, [f([x_,y_]) for y_ in yy, x_ in xx], colorbar_scale = :log10, color=:viridis)\n",
    "xlabel!(L\"x\")\n",
    "ylabel!(L\"y\")"
   ]
  },
  {
   "cell_type": "code",
   "execution_count": null,
   "id": "857814c4-8c5e-4f1b-b137-30665e177d11",
   "metadata": {},
   "outputs": [],
   "source": [
    "function ∇f(x)\n",
    "    return [-2*(1-x[1]) + 100 * (x[2]-x[1]^2)*2*(-2)*x[1], 2* 100 * (x[2]-x[1]^2)]\n",
    "end\n",
    "∇f_auto(x) = ForwardDiff.gradient(f,x)"
   ]
  },
  {
   "cell_type": "code",
   "execution_count": null,
   "id": "b769876c-96e9-4822-b05b-01cf7e41b75b",
   "metadata": {},
   "outputs": [],
   "source": [
    "∇f([0.2, 0.3])"
   ]
  },
  {
   "cell_type": "code",
   "execution_count": null,
   "id": "deeb84df-23c2-4ac7-b141-b2acd46ee1ff",
   "metadata": {},
   "outputs": [],
   "source": [
    "∇f_auto([0.2, 0.3])"
   ]
  },
  {
   "cell_type": "code",
   "execution_count": null,
   "id": "0db0bd79-3b0f-4934-b939-de82c45d28ef",
   "metadata": {},
   "outputs": [],
   "source": [
    "@btime ∇f([0.2, 0.3]);"
   ]
  },
  {
   "cell_type": "code",
   "execution_count": null,
   "id": "28d00d70-c19e-42ca-8dc3-dfb7ec0f71e1",
   "metadata": {},
   "outputs": [],
   "source": [
    "@btime ∇f_auto([0.2, 0.3]);"
   ]
  },
  {
   "cell_type": "code",
   "execution_count": null,
   "id": "d9609d1b-23d9-4791-8f35-9eafa33077e8",
   "metadata": {},
   "outputs": [],
   "source": [
    "Jf_auto(x) = ForwardDiff.jacobian(∇f_auto,x)"
   ]
  },
  {
   "cell_type": "code",
   "execution_count": null,
   "id": "b1df6f4b-a949-419c-ac7a-898285dd528b",
   "metadata": {},
   "outputs": [],
   "source": [
    "Jf_auto([0.2, 0.3])"
   ]
  },
  {
   "cell_type": "code",
   "execution_count": null,
   "id": "b3dc625b-566d-450d-9a01-a26371b0e0f0",
   "metadata": {},
   "outputs": [],
   "source": [
    "@btime Jf_auto([0.2, 0.3])"
   ]
  },
  {
   "cell_type": "code",
   "execution_count": null,
   "id": "216b88b0-43ee-417e-9413-166867d1bc40",
   "metadata": {},
   "outputs": [],
   "source": []
  }
 ],
 "metadata": {
  "kernelspec": {
   "display_name": "Julia 1.9.3",
   "language": "julia",
   "name": "julia-1.9"
  },
  "language_info": {
   "file_extension": ".jl",
   "mimetype": "application/julia",
   "name": "julia",
   "version": "1.9.3"
  }
 },
 "nbformat": 4,
 "nbformat_minor": 5
}
