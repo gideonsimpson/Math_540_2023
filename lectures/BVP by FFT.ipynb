{
 "cells": [
  {
   "cell_type": "code",
   "execution_count": null,
   "metadata": {},
   "outputs": [],
   "source": [
    "using Plots\n",
    "using LinearAlgebra\n",
    "using Printf\n",
    "using LaTeXStrings\n",
    "using DifferentialEquations\n",
    "using FFTW"
   ]
  },
  {
   "cell_type": "code",
   "execution_count": null,
   "metadata": {},
   "outputs": [],
   "source": [
    "default(lw=2, markersize=6,\n",
    "    xtickfont=font(12), ytickfont=font(12),\n",
    "    guidefont=font(14), legendfont=font(12), titlefont=font(12))"
   ]
  },
  {
   "cell_type": "markdown",
   "metadata": {},
   "source": [
    "# Solve a BVP\n",
    "$$\n",
    "u - u'' = f(x)\n",
    "$$\n",
    "on $(0,2\\pi)$ with periodic boundary conditions.  Solve this spectrally and using the collocation method for comparison.\n"
   ]
  },
  {
   "cell_type": "code",
   "execution_count": null,
   "metadata": {},
   "outputs": [],
   "source": [
    "@show n = 2^4; # number of points\n",
    "x = LinRange(0, 2 * π, n + 1)[1:end-1];\n",
    "dx = im * [0:1:n÷2; -n÷2+1:1:-1];\n"
   ]
  },
  {
   "cell_type": "code",
   "execution_count": null,
   "metadata": {},
   "outputs": [],
   "source": [
    "\n",
    "f(x) = x;\n",
    "\n",
    "F = fft(f.(x));\n",
    "U = @. F / (1 - dx^2);\n",
    "u = ifft(U);\n"
   ]
  },
  {
   "cell_type": "code",
   "execution_count": null,
   "metadata": {},
   "outputs": [],
   "source": [
    "plot(x, real.(u))"
   ]
  },
  {
   "cell_type": "code",
   "execution_count": null,
   "metadata": {},
   "outputs": [],
   "source": [
    "function bvp_rhs!(du, u, p, t)\n",
    "    du[1] = u[2]\n",
    "    du[2] = u[1] - f(t)\n",
    "end\n",
    "\n",
    "function bvp_bc!(res, u, p, t)\n",
    "    res[1] = u[1][1] - u[end][1] # u(0) = u(2*π)\n",
    "    res[2] = u[1][2] - u[end][2] # u'(0) = u'(2*π)\n",
    "end"
   ]
  },
  {
   "cell_type": "code",
   "execution_count": null,
   "metadata": {},
   "outputs": [],
   "source": [
    "tspan = (0, 2*π)\n",
    "# [0., 0.] is an initial (constant) guess for the solution of the bvp\n",
    "bvp = BVProblem(bvp_rhs!, bvp_bc!, [0.0, 0.0], tspan)\n"
   ]
  },
  {
   "cell_type": "code",
   "execution_count": null,
   "metadata": {},
   "outputs": [],
   "source": [
    "# solve with 4th order collocation method, must specify an initial mesh spacing\n",
    "soln = solve(bvp, MIRK4(), dt=0.1)\n"
   ]
  },
  {
   "cell_type": "code",
   "execution_count": null,
   "metadata": {},
   "outputs": [],
   "source": [
    "scatter(x, real.(u), label=\"FFT\")\n",
    "plot!(soln, idxs=(1), label=\"Collocation\")\n",
    "xlabel!(L\"x\")\n",
    "ylabel!(L\"u\")"
   ]
  },
  {
   "cell_type": "code",
   "execution_count": null,
   "metadata": {},
   "outputs": [],
   "source": []
  }
 ],
 "metadata": {
  "kernelspec": {
   "display_name": "Julia 1.9.4",
   "language": "julia",
   "name": "julia-1.9"
  },
  "language_info": {
   "file_extension": ".jl",
   "mimetype": "application/julia",
   "name": "julia",
   "version": "1.9.4"
  }
 },
 "nbformat": 4,
 "nbformat_minor": 2
}
