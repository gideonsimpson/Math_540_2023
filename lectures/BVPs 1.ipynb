{
 "cells": [
  {
   "cell_type": "code",
   "execution_count": null,
   "id": "6cab6cc3-2e8f-47f5-bdd9-2bcbe0d62d5c",
   "metadata": {},
   "outputs": [],
   "source": [
    "using Plots\n",
    "using LinearAlgebra\n",
    "using Printf\n",
    "using LaTeXStrings"
   ]
  },
  {
   "cell_type": "code",
   "execution_count": null,
   "id": "74b6a16f-2f45-4df4-ae62-b5e992209408",
   "metadata": {},
   "outputs": [],
   "source": [
    "default(lw=2,markersize = 6,\n",
    "    xtickfont=font(12), ytickfont=font(12), \n",
    "    guidefont=font(14), legendfont=font(12),titlefont=font(12))"
   ]
  },
  {
   "cell_type": "code",
   "execution_count": null,
   "id": "e071d161-0a33-4b7d-80ea-e53dd30d4408",
   "metadata": {},
   "outputs": [],
   "source": [
    "a = 0;\n",
    "b = 1;\n",
    "n = 10;\n",
    "\n",
    "x = LinRange(a,b,n+1)[2:end-1];\n",
    "@show Δx = x[2] - x[1];\n",
    "\n",
    "f = @. exp(x);\n",
    "\n",
    "u_exact = @. 1 - exp(x) - x + exp(1) * x;"
   ]
  },
  {
   "cell_type": "code",
   "execution_count": null,
   "id": "8a130d22-e100-4e08-9147-442982d7d5c8",
   "metadata": {},
   "outputs": [],
   "source": [
    "A = zeros(n-1,n-1);\n",
    "\n",
    "for i = 1:n-1\n",
    "    # treat the first and last rows seperately\n",
    "    if i==1\n",
    "        A[1,1] = 2/Δx^2;\n",
    "        A[1,2] = -1/Δx^2;\n",
    "    elseif i==n-1\n",
    "        A[n-1,n-2] = -1/Δx^2;\n",
    "        A[n-1,n-1] = 2/Δx^2;\n",
    "    else\n",
    "        A[i,i-1] = -1/Δx^2;\n",
    "        A[i,i] = 2/Δx^2;\n",
    "        A[i,i+1] = -1/Δx^2;\n",
    "    end\n",
    "\n",
    "end\n"
   ]
  },
  {
   "cell_type": "code",
   "execution_count": null,
   "id": "53cec686-0408-4544-8498-5e978093a356",
   "metadata": {},
   "outputs": [],
   "source": [
    "A"
   ]
  },
  {
   "cell_type": "code",
   "execution_count": null,
   "id": "4aaa1b70-fe4e-4558-a564-0592ea048870",
   "metadata": {},
   "outputs": [],
   "source": [
    "u = A\\f;"
   ]
  },
  {
   "cell_type": "code",
   "execution_count": null,
   "id": "bbd9a649-0666-4fe2-84dc-841d04531914",
   "metadata": {},
   "outputs": [],
   "source": [
    "plot(x,u_exact,label=\"Exact\")\n",
    "scatter!(x, u, label=\"FD Soln.\")\n",
    "xlabel!(L\"x\")"
   ]
  }
 ],
 "metadata": {
  "kernelspec": {
   "display_name": "Julia 1.9.3",
   "language": "julia",
   "name": "julia-1.9"
  },
  "language_info": {
   "file_extension": ".jl",
   "mimetype": "application/julia",
   "name": "julia",
   "version": "1.9.3"
  }
 },
 "nbformat": 4,
 "nbformat_minor": 5
}
