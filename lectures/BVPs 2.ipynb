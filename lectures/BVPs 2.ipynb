{
 "cells": [
  {
   "cell_type": "code",
   "execution_count": null,
   "id": "bb653f98-4e03-4c35-81cf-358a141acde7",
   "metadata": {},
   "outputs": [],
   "source": [
    "using LinearAlgebra\n",
    "using BenchmarkTools"
   ]
  },
  {
   "cell_type": "code",
   "execution_count": null,
   "id": "c48a097c-2e7a-439e-8ae3-e583ed445a06",
   "metadata": {},
   "outputs": [],
   "source": [
    "include(\"bvps1d.jl\"); # include source file"
   ]
  },
  {
   "cell_type": "code",
   "execution_count": null,
   "id": "c56a6623-49c7-42d3-be5d-5f5b20ebdfa9",
   "metadata": {},
   "outputs": [],
   "source": [
    "a = 0;\n",
    "b = 1;"
   ]
  },
  {
   "cell_type": "code",
   "execution_count": null,
   "id": "9c076d2e-9107-47cf-8949-238806c32ffe",
   "metadata": {},
   "outputs": [],
   "source": [
    "n_vals = [10, 20, 40, 80, 160];\n",
    "\n",
    "for n in n_vals\n",
    "    @show n;\n",
    "    x = LinRange(a,b,n+1)[2:end-1];\n",
    "    Δx = x[2] - x[1];\n",
    "\n",
    "    f = @. exp(x);\n",
    "\n",
    "    @btime A = assemble_matrix($n, $Δx); # use $ for \"interpolation\"\n",
    "    A = assemble_matrix(n, Δx);\n",
    "    @btime u = $A\\$f;\n",
    "end"
   ]
  },
  {
   "cell_type": "code",
   "execution_count": null,
   "id": "18358c27-3ec1-4858-81d6-5d1d955d3316",
   "metadata": {},
   "outputs": [],
   "source": [
    "n = 10;\n",
    "x = LinRange(a,b,n+1)[2:end-1];\n",
    "Δx = x[2] - x[1];\n",
    "\n",
    "f = @. exp(x);\n",
    "\n",
    "A = assemble_spmatrix(n, Δx);\n",
    "u = A\\f;"
   ]
  },
  {
   "cell_type": "code",
   "execution_count": null,
   "id": "444071b2-7c54-4e77-b244-0f37c937eec5",
   "metadata": {},
   "outputs": [],
   "source": [
    "A"
   ]
  },
  {
   "cell_type": "code",
   "execution_count": null,
   "id": "21f4ec8c-65a0-4638-996b-172abd6786b2",
   "metadata": {},
   "outputs": [],
   "source": [
    "Matrix(A) # converts to dense representation"
   ]
  },
  {
   "cell_type": "code",
   "execution_count": null,
   "id": "bd6c6506-39f5-4cef-ac1a-e37ae2732c4e",
   "metadata": {},
   "outputs": [],
   "source": [
    "# note:\n",
    "eigen(A) # need to do something else"
   ]
  },
  {
   "cell_type": "code",
   "execution_count": null,
   "id": "0aecae00-9280-43f7-b034-af02933c90a1",
   "metadata": {},
   "outputs": [],
   "source": [
    "n_vals = [10, 20, 40, 80, 160];\n",
    "\n",
    "for n in n_vals\n",
    "    @show n;\n",
    "    x = LinRange(a,b,n+1)[2:end-1];\n",
    "    Δx = x[2] - x[1];\n",
    "\n",
    "    f = @. exp(x);\n",
    "\n",
    "    @btime A = assemble_spmatrix($n, $Δx); # use $ for \"interpolation\"\n",
    "    A = assemble_spmatrix(n, Δx);\n",
    "    @btime u = $A\\$f;\n",
    "end"
   ]
  }
 ],
 "metadata": {
  "kernelspec": {
   "display_name": "Julia 1.9.3",
   "language": "julia",
   "name": "julia-1.9"
  },
  "language_info": {
   "file_extension": ".jl",
   "mimetype": "application/julia",
   "name": "julia",
   "version": "1.9.3"
  }
 },
 "nbformat": 4,
 "nbformat_minor": 5
}
