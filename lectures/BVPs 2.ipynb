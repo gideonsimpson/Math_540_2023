{
 "cells": [
  {
   "cell_type": "code",
   "execution_count": null,
   "id": "bb653f98-4e03-4c35-81cf-358a141acde7",
   "metadata": {},
   "outputs": [],
   "source": [
    "using LinearAlgebra\n",
    "using BenchmarkTools"
   ]
  },
  {
   "cell_type": "code",
   "execution_count": null,
   "id": "c48a097c-2e7a-439e-8ae3-e583ed445a06",
   "metadata": {},
   "outputs": [],
   "source": [
    "include(\"bvps1d.jl\")"
   ]
  },
  {
   "cell_type": "code",
   "execution_count": null,
   "id": "c56a6623-49c7-42d3-be5d-5f5b20ebdfa9",
   "metadata": {},
   "outputs": [],
   "source": [
    "a = 0;\n",
    "b = 1;"
   ]
  },
  {
   "cell_type": "code",
   "execution_count": null,
   "id": "9c076d2e-9107-47cf-8949-238806c32ffe",
   "metadata": {},
   "outputs": [],
   "source": [
    "n_vals = [10, 20, 40, 80, 160];\n",
    "\n",
    "for n in n_vals\n",
    "    @show n;\n",
    "    x = LinRange(a,b,n+1)[2:end-1];\n",
    "    Δx = x[2] - x[1];\n",
    "\n",
    "    f = @. exp(x);\n",
    "\n",
    "    @btime A = assemble_matrix($n, $Δx);\n",
    "    A = assemble_matrix(n, Δx);\n",
    "    @btime u = $A\\$f;\n",
    "end"
   ]
  }
 ],
 "metadata": {
  "kernelspec": {
   "display_name": "Julia 1.9.3",
   "language": "julia",
   "name": "julia-1.9"
  },
  "language_info": {
   "file_extension": ".jl",
   "mimetype": "application/julia",
   "name": "julia",
   "version": "1.9.3"
  }
 },
 "nbformat": 4,
 "nbformat_minor": 5
}
