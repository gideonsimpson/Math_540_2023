{
 "cells": [
  {
   "cell_type": "code",
   "execution_count": null,
   "metadata": {},
   "outputs": [],
   "source": [
    "using Plots\n",
    "using LaTeXStrings\n",
    "using Statistics\n",
    "using ProgressMeter"
   ]
  },
  {
   "cell_type": "code",
   "execution_count": null,
   "metadata": {},
   "outputs": [],
   "source": [
    "default(xtickfont=font(12), ytickfont=font(12), guidefont=font(12),\n",
    "    legendfontsize=10, lw=2, ms=8)"
   ]
  },
  {
   "cell_type": "code",
   "execution_count": null,
   "metadata": {},
   "outputs": [],
   "source": [
    "include(\"bayesinverse.jl\")"
   ]
  },
  {
   "cell_type": "code",
   "execution_count": null,
   "metadata": {},
   "outputs": [],
   "source": [
    "N = 64;\n",
    "γ = 5e-4;\n",
    "x = LinRange(0, 1, N + 1) |> collect;\n",
    "\n",
    "Δx = x[2] - x[1];\n",
    "x_mid = x[1:end-1] .+ Δx / 2;\n",
    "\n",
    "# recover on particular points\n",
    "x_data = 0:0.1:1;\n",
    "x_data = x_data[2:end-1] |> collect;\n",
    "\n",
    "ut(x) = x * (1 - x);\n",
    "at(x) = exp(ut(x));\n",
    "f(x) = x^2;\n",
    "p = solve_bvp(at.(x_mid), f.(x[2:end-1]), Δx);\n",
    "\n",
    "# generate noisy data\n",
    "Random.seed!(500); # set a seed for reproducibility\n",
    "p_spl = LinearInterpolation(p, x);\n",
    "y_data = @. p_spl(x_data) + γ * randn()\n"
   ]
  },
  {
   "cell_type": "code",
   "execution_count": null,
   "metadata": {},
   "outputs": [],
   "source": [
    "plot(x, p, label=\"Truth\")\n",
    "scatter!(x_data, y_data,label=\"Data\")\n",
    "xlabel!(L\"x\")"
   ]
  },
  {
   "cell_type": "code",
   "execution_count": null,
   "metadata": {},
   "outputs": [],
   "source": [
    "function loss(u)\n",
    "    u_int = LinearInterpolation(u, x)\n",
    "    p = solve_bvp(exp.(u_int.(x_mid)), f.(x[2:end-1]), Δx)\n",
    "    p_int = LinearInterpolation(p, x)\n",
    "    l = 0.5 / γ^2 * sum(abs2, p_int(x_data) - y_data)\n",
    "    return l\n",
    "end"
   ]
  },
  {
   "cell_type": "code",
   "execution_count": null,
   "metadata": {},
   "outputs": [],
   "source": [
    "u = zeros(N+1);\n",
    "v = zeros(N+1);\n",
    "n_iters = 10^6;\n",
    "# samples = zeros(n_iters, N+1);\n",
    "u_mean = zeros(N+1);\n",
    "a_mean = zeros(N+1);\n",
    "u2_mean = zeros(N+1);\n",
    "a2_mean = zeros(N + 1);\n",
    "accept = zeros(n_iters);\n",
    "\n",
    "Φu = loss(u);\n",
    "β = 0.1;\n",
    "Random.seed!(500)\n",
    "@showprogress for j in 1:n_iters\n",
    "    ξ = sample_field_fft(N);\n",
    "    v .= sqrt(1 - β^2) * u + β * ξ\n",
    "    Φv = loss(v);\n",
    "    a = min(1, exp(Φu - Φv))\n",
    "    ζ = rand()\n",
    "    if ζ < a\n",
    "        accept[j] = 1;\n",
    "        @. u = v\n",
    "        Φu = Φv\n",
    "    end\n",
    "    @. u_mean += u;\n",
    "    @. u2_mean +=u^2;\n",
    "    @. a_mean += exp(u);\n",
    "    @. a2_mean += exp(2*u);\n",
    "\n",
    "end\n",
    "u_mean /=n_iters;\n",
    "u2_mean /=n_iters;\n",
    "u_var =@. max(u2_mean - u_mean^2, 0);\n",
    "\n",
    "a_mean /= n_iters;\n",
    "a2_mean /= n_iters;\n",
    "a_var = @. max(a2_mean - a_mean^2, 0);"
   ]
  },
  {
   "cell_type": "code",
   "execution_count": null,
   "metadata": {},
   "outputs": [],
   "source": [
    "@show mean(accept);"
   ]
  },
  {
   "cell_type": "code",
   "execution_count": null,
   "metadata": {},
   "outputs": [],
   "source": [
    "plot(x, u_mean, ribbon=sqrt.(u_var), label=\"Estimate\")\n",
    "plot!(x, ut.(x), label=\"Truth\")\n",
    "xlabel!(L\"x\")\n",
    "ylabel!(L\"u\")"
   ]
  },
  {
   "cell_type": "code",
   "execution_count": null,
   "metadata": {},
   "outputs": [],
   "source": [
    "plot(x, a_mean, ribbon=sqrt.(a_var), label=\"Estimate\")\n",
    "plot!(x, at.(x), label=\"Truth\")\n",
    "xlabel!(L\"x\")\n",
    "ylabel!(L\"a\")"
   ]
  },
  {
   "cell_type": "code",
   "execution_count": null,
   "metadata": {},
   "outputs": [],
   "source": []
  }
 ],
 "metadata": {
  "kernelspec": {
   "display_name": "Julia 1.9.4",
   "language": "julia",
   "name": "julia-1.9"
  },
  "language_info": {
   "file_extension": ".jl",
   "mimetype": "application/julia",
   "name": "julia",
   "version": "1.9.4"
  }
 },
 "nbformat": 4,
 "nbformat_minor": 2
}
