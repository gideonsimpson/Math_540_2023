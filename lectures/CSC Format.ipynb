{
 "cells": [
  {
   "cell_type": "code",
   "execution_count": 1,
   "id": "7f531868-314b-4430-abc0-f6a07085eb70",
   "metadata": {},
   "outputs": [],
   "source": [
    "using SparseArrays\n",
    "using Printf"
   ]
  },
  {
   "cell_type": "code",
   "execution_count": 2,
   "id": "cff6c064-8aa6-462f-8de5-6185efdcb063",
   "metadata": {},
   "outputs": [
    {
     "data": {
      "text/plain": [
       "4×4 SparseMatrixCSC{Float64, Int64} with 10 stored entries:\n",
       " 1.0  2.0   ⋅    ⋅ \n",
       " 3.0  1.0  2.0   ⋅ \n",
       "  ⋅   3.0  1.0  2.0\n",
       "  ⋅    ⋅   3.0  1.0"
      ]
     },
     "execution_count": 2,
     "metadata": {},
     "output_type": "execute_result"
    }
   ],
   "source": [
    "A = spdiagm(0 => 1*ones(4), 1=>2*ones(3), -1=>3*ones(3))"
   ]
  },
  {
   "cell_type": "code",
   "execution_count": 3,
   "id": "c9e6e325-e1a0-4503-bb42-bbe3d98d2447",
   "metadata": {},
   "outputs": [
    {
     "name": "stdout",
     "output_type": "stream",
     "text": [
      "sparse([1, 2, 1, 2, 3, 2, 3, 4, 3, 4], [1, 1, 2, 2, 2, 3, 3, 3, 4, 4], [1.0, 3.0, 2.0, 1.0, 3.0, 2.0, 1.0, 3.0, 2.0, 1.0], 4, 4)"
     ]
    }
   ],
   "source": [
    "show(A)"
   ]
  },
  {
   "cell_type": "code",
   "execution_count": 4,
   "id": "8bb0168f-53f0-49d9-9017-fc53660533e9",
   "metadata": {},
   "outputs": [
    {
     "data": {
      "text/plain": [
       "4"
      ]
     },
     "execution_count": 4,
     "metadata": {},
     "output_type": "execute_result"
    }
   ],
   "source": [
    "A.m # no. of rows"
   ]
  },
  {
   "cell_type": "code",
   "execution_count": 5,
   "id": "3264bcc8-ba21-4d4f-a1c7-937375d496a1",
   "metadata": {},
   "outputs": [
    {
     "data": {
      "text/plain": [
       "4"
      ]
     },
     "execution_count": 5,
     "metadata": {},
     "output_type": "execute_result"
    }
   ],
   "source": [
    "A.n # no. of cols"
   ]
  },
  {
   "cell_type": "code",
   "execution_count": 6,
   "id": "98950e2f-d289-4696-a099-b89a5ecd721d",
   "metadata": {},
   "outputs": [
    {
     "data": {
      "text/plain": [
       "5-element Vector{Int64}:\n",
       "  1\n",
       "  3\n",
       "  6\n",
       "  9\n",
       " 11"
      ]
     },
     "execution_count": 6,
     "metadata": {},
     "output_type": "execute_result"
    }
   ],
   "source": [
    "A.colptr"
   ]
  },
  {
   "cell_type": "code",
   "execution_count": 7,
   "id": "56ecc741-b6f1-4b55-8db5-69bd487575e8",
   "metadata": {},
   "outputs": [
    {
     "data": {
      "text/plain": [
       "10-element Vector{Float64}:\n",
       " 1.0\n",
       " 3.0\n",
       " 2.0\n",
       " 1.0\n",
       " 3.0\n",
       " 2.0\n",
       " 1.0\n",
       " 3.0\n",
       " 2.0\n",
       " 1.0"
      ]
     },
     "execution_count": 7,
     "metadata": {},
     "output_type": "execute_result"
    }
   ],
   "source": [
    "A.nzval"
   ]
  },
  {
   "cell_type": "code",
   "execution_count": 8,
   "id": "4973da66-0a0d-46e3-a997-71dc8c92735b",
   "metadata": {},
   "outputs": [
    {
     "data": {
      "text/plain": [
       "10-element Vector{Int64}:\n",
       " 1\n",
       " 2\n",
       " 1\n",
       " 2\n",
       " 3\n",
       " 2\n",
       " 3\n",
       " 4\n",
       " 3\n",
       " 4"
      ]
     },
     "execution_count": 8,
     "metadata": {},
     "output_type": "execute_result"
    }
   ],
   "source": [
    "A.rowval"
   ]
  },
  {
   "cell_type": "code",
   "execution_count": 9,
   "id": "c188f4db-5929-4d6a-bdaf-4536027dee25",
   "metadata": {},
   "outputs": [
    {
     "name": "stdout",
     "output_type": "stream",
     "text": [
      "A[1,1] = 1\n",
      "A[2,1] = 3\n",
      "A[1,2] = 2\n",
      "A[2,2] = 1\n",
      "A[3,2] = 3\n",
      "A[2,3] = 2\n",
      "A[3,3] = 1\n",
      "A[4,3] = 3\n",
      "A[3,4] = 2\n",
      "A[4,4] = 1\n"
     ]
    }
   ],
   "source": [
    "for j in 1:A.n # loop over columns\n",
    "    for k in A.colptr[j]:A.colptr[j+1]-1 # looping over the nonzero entries in column j\n",
    "        @printf(\"A[%d,%d] = %g\\n\", A.rowval[k], j, A.nzval[k])\n",
    "    end\n",
    "end"
   ]
  }
 ],
 "metadata": {
  "kernelspec": {
   "display_name": "Julia 1.9.3",
   "language": "julia",
   "name": "julia-1.9"
  },
  "language_info": {
   "file_extension": ".jl",
   "mimetype": "application/julia",
   "name": "julia",
   "version": "1.9.3"
  }
 },
 "nbformat": 4,
 "nbformat_minor": 5
}
