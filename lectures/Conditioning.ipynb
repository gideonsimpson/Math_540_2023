{
 "cells": [
  {
   "cell_type": "code",
   "execution_count": null,
   "id": "5d6d6f89-e860-496f-a7f6-b295859eb08e",
   "metadata": {},
   "outputs": [],
   "source": [
    "using Plots\n",
    "using LaTeXStrings"
   ]
  },
  {
   "cell_type": "code",
   "execution_count": null,
   "id": "d648b734-6124-493e-b449-d62c5a97dc6c",
   "metadata": {},
   "outputs": [],
   "source": [
    "default(lw=2,markersize = 6,\n",
    "    xtickfont=font(12), ytickfont=font(12), \n",
    "    guidefont=font(14), legendfont=font(12),titlefont=font(12))"
   ]
  },
  {
   "cell_type": "markdown",
   "id": "5b0b56e3-344e-437c-b23f-745718d70db7",
   "metadata": {},
   "source": [
    "Explore issue of condition number with\n",
    "$$\n",
    "f(x) = \\frac{1}{1-x}\n",
    "$$\n",
    "for points just a bit larger than $x=1$."
   ]
  },
  {
   "cell_type": "code",
   "execution_count": null,
   "id": "16f682c2-7836-42ba-a175-e6d4dc86f356",
   "metadata": {},
   "outputs": [],
   "source": [
    "f(x) = 1/(1-x);\n",
    "fp(x) = 1/(1-x)^2;\n",
    "x0 = 1.01;\n",
    "y0 = f(x0);\n",
    "\n",
    "condition_no(x) = abs(x*fp(x)/f(x));\n",
    "\n",
    "@show cond0 = condition_no(x0);"
   ]
  },
  {
   "cell_type": "code",
   "execution_count": null,
   "id": "50fe011c-34d3-4e9f-8e19-e15edb65c454",
   "metadata": {},
   "outputs": [],
   "source": [
    "x_vals = LinRange(x0, 1.01*x0, 100)[2:end];\n",
    "y_vals = f.(x_vals);"
   ]
  },
  {
   "cell_type": "code",
   "execution_count": null,
   "id": "dc0c8d08-e839-43df-8afb-9cb6b4fac09a",
   "metadata": {},
   "outputs": [],
   "source": [
    "plot( abs.((x_vals .-x0) ./x0), abs.((y_vals .- y0) ./y0),label=L\"|\\Delta y/y|\", xscale=:log10, yscale=:log10)\n",
    "plot!( abs.((x_vals .-x0) ./x0), abs.(cond0 * (x_vals .-x0) ./x0), \n",
    "    label=latexstring(\"\\$ \\\\mathrm{Cond. \\\\#}\\\\times |\\\\Delta x/x|\\$\"))\n",
    "xlabel!(L\"$|\\Delta x/x|$\")"
   ]
  }
 ],
 "metadata": {
  "kernelspec": {
   "display_name": "Julia 1.9.3",
   "language": "julia",
   "name": "julia-1.9"
  },
  "language_info": {
   "file_extension": ".jl",
   "mimetype": "application/julia",
   "name": "julia",
   "version": "1.9.3"
  }
 },
 "nbformat": 4,
 "nbformat_minor": 5
}
