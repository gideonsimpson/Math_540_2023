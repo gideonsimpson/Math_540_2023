{
 "cells": [
  {
   "cell_type": "code",
   "execution_count": null,
   "metadata": {},
   "outputs": [],
   "source": [
    "using FFTW\n",
    "using Plots\n",
    "using LaTeXStrings\n",
    "using Printf\n",
    "using LinearAlgebra\n",
    "using SpecialFunctions\n",
    "using Random"
   ]
  },
  {
   "cell_type": "code",
   "execution_count": null,
   "metadata": {},
   "outputs": [],
   "source": [
    "default(xtickfontsize=14, ytickfontsize=14, ztickfontsize=14,\n",
    "    guidefontsize=14, legendfontsize=12, lw=2, ms=8)"
   ]
  },
  {
   "cell_type": "code",
   "execution_count": null,
   "metadata": {},
   "outputs": [],
   "source": [
    "@show n = 2^4; # number of points\n",
    "x = LinRange(0, 2 * π, n + 1)[1:end-1]"
   ]
  },
  {
   "cell_type": "code",
   "execution_count": null,
   "metadata": {},
   "outputs": [],
   "source": [
    "f = @. sin(x);\n",
    "g = @. exp(-cos(x));\n",
    "\n",
    "F = fft(f);\n",
    "G = fft(g);\n",
    "\n",
    "H = F.*G;\n",
    "\n",
    "h = ifft(H);"
   ]
  },
  {
   "cell_type": "code",
   "execution_count": null,
   "metadata": {},
   "outputs": [],
   "source": [
    "h"
   ]
  },
  {
   "cell_type": "code",
   "execution_count": null,
   "metadata": {},
   "outputs": [],
   "source": [
    "h_exact = @. -2*π*besseli(1,1) * sin(x);\n",
    "\n",
    "plot(x, h_exact,label=L\"f * g\")\n",
    "scatter!(x, real.(h_exact), label=\"FFT\")\n",
    "xlabel!(L\"x\")"
   ]
  },
  {
   "cell_type": "markdown",
   "metadata": {},
   "source": [
    "# Denoising Example\n",
    "If we have a noisy signal, $f$, and a ''smoother'', $g$, we can convolve $f$ with $g$ to get a denoised versino of $f$.  Note that we need to scale things properly, this can be accomplished by normalizing as\n",
    "$$\n",
    "G_m \\mapsto G_m/G_0,\n",
    "$$\n",
    "which ensures that $\\int_0^{2\\pi} g(x) dx = 1$."
   ]
  },
  {
   "cell_type": "code",
   "execution_count": null,
   "metadata": {},
   "outputs": [],
   "source": [
    "@show n = 2^6; # number of points\n",
    "x = LinRange(0, 2 * π, n + 1)[1:end-1]\n",
    "\n",
    "f = @. cos(4*x);\n",
    "\n",
    "Random.seed!(100)\n",
    "f_noisy = @. f + 0.2 * randn();"
   ]
  },
  {
   "cell_type": "code",
   "execution_count": null,
   "metadata": {},
   "outputs": [],
   "source": [
    "plot(x, f, label=L\"f\")\n",
    "scatter!(x, f_noisy, label=\"Noisy\")\n",
    "xlabel!(L\"x\")"
   ]
  },
  {
   "cell_type": "code",
   "execution_count": null,
   "metadata": {},
   "outputs": [],
   "source": [
    "l = 0.2;\n",
    "g = @. exp(-x^2/(2*l^2));\n",
    "\n",
    "F= fft(f_noisy);\n",
    "G = fft(g);\n",
    "H = (F.*G)/(G[1]);\n",
    "f_denoised = ifft(H);"
   ]
  },
  {
   "cell_type": "code",
   "execution_count": null,
   "metadata": {},
   "outputs": [],
   "source": [
    "plot(x, f, label=L\"f\")\n",
    "plot!(x, real.(f_denoised), label=\"Denoised\")\n",
    "plot!(x, f_noisy, label=\"Noisy\")\n",
    "xlabel!(L\"x\")"
   ]
  },
  {
   "cell_type": "code",
   "execution_count": null,
   "metadata": {},
   "outputs": [],
   "source": []
  }
 ],
 "metadata": {
  "kernelspec": {
   "display_name": "Julia 1.9.4",
   "language": "julia",
   "name": "julia-1.9"
  },
  "language_info": {
   "file_extension": ".jl",
   "mimetype": "application/julia",
   "name": "julia",
   "version": "1.9.4"
  }
 },
 "nbformat": 4,
 "nbformat_minor": 2
}
