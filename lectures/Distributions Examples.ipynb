{
 "cells": [
  {
   "cell_type": "markdown",
   "id": "ca99ff02-3fb2-4f02-9136-3869808c6a43",
   "metadata": {},
   "source": [
    "# Distributions Package\n",
    "See https://juliastats.org/Distributions.jl/stable/univariate/ for a list of common discrete and continuous univariate distributions."
   ]
  },
  {
   "cell_type": "code",
   "execution_count": null,
   "id": "e7b62b5d-6677-4c59-a5e4-49b5769b4df6",
   "metadata": {},
   "outputs": [],
   "source": [
    "using Random\n",
    "using Plots\n",
    "using Distributions"
   ]
  },
  {
   "cell_type": "code",
   "execution_count": null,
   "id": "76200875-19c4-4a04-8ce0-8b184922532e",
   "metadata": {},
   "outputs": [],
   "source": [
    "# for readability, these are good settings to use\n",
    "default(xtickfontsize=14,  ytickfontsize=14, \n",
    "    guidefontsize=14, legendfontsize=12, lw=2,ms=8)"
   ]
  },
  {
   "cell_type": "markdown",
   "id": "2f6ab9bf-2092-458f-8621-d59104d77e41",
   "metadata": {},
   "source": [
    "# Bernoulli Random Variable"
   ]
  },
  {
   "cell_type": "code",
   "execution_count": null,
   "id": "3e956127-1291-430f-a50a-7ad38d1962f8",
   "metadata": {},
   "outputs": [],
   "source": [
    "p = 0.2;\n",
    "bernoulli_dist = Bernoulli(p)"
   ]
  },
  {
   "cell_type": "code",
   "execution_count": null,
   "id": "0c803a33-febf-4ec8-b9f7-8c30db6d3640",
   "metadata": {},
   "outputs": [],
   "source": [
    "Random.seed!(100);\n",
    "samples = rand(bernoulli_dist, 10^4);"
   ]
  },
  {
   "cell_type": "code",
   "execution_count": null,
   "id": "2188f07d-4552-4dae-9f26-20824c46b300",
   "metadata": {},
   "outputs": [],
   "source": [
    "histogram(samples, norm =:probability, label=\"Samples\")\n",
    "xlabel!(\"x\")\n",
    "ylabel!(\"Probability\")"
   ]
  },
  {
   "cell_type": "code",
   "execution_count": null,
   "id": "986880c4-9713-4db3-8747-d865408974ef",
   "metadata": {},
   "outputs": [],
   "source": []
  },
  {
   "cell_type": "markdown",
   "id": "74fe0fee-38c8-482a-ba3a-515256c02b80",
   "metadata": {},
   "source": [
    "# Geometric Random Variable"
   ]
  },
  {
   "cell_type": "code",
   "execution_count": null,
   "id": "af28fa4e-de42-47ee-a900-73a83430f221",
   "metadata": {},
   "outputs": [],
   "source": [
    "p = 0.2;\n",
    "geo_dist = Geometric(p)"
   ]
  },
  {
   "cell_type": "code",
   "execution_count": null,
   "id": "09447332-c4d0-46ca-b23a-0ecd4812f668",
   "metadata": {},
   "outputs": [],
   "source": [
    "Random.seed!(100);\n",
    "samples = rand(geo_dist, 10^4);"
   ]
  },
  {
   "cell_type": "code",
   "execution_count": null,
   "id": "645abe30-ad8a-44bb-a04a-192d45ff59b3",
   "metadata": {},
   "outputs": [],
   "source": [
    "histogram(samples, norm =:probability, label=\"Samples\")\n",
    "xlabel!(\"x\")\n",
    "ylabel!(\"Probability\")"
   ]
  },
  {
   "cell_type": "markdown",
   "id": "a7d3ffe8-9647-443a-ba11-05c1976577dc",
   "metadata": {},
   "source": [
    "# Binomial Random Variable"
   ]
  },
  {
   "cell_type": "code",
   "execution_count": null,
   "id": "1f345c64-0259-44b8-b1e4-8c171621a0c0",
   "metadata": {},
   "outputs": [],
   "source": [
    "p = 0.3;\n",
    "n = 10;\n",
    "bin_dist = Binomial(n,p)"
   ]
  },
  {
   "cell_type": "code",
   "execution_count": null,
   "id": "9fcdff1d-24db-4b69-907a-50c6b624650a",
   "metadata": {},
   "outputs": [],
   "source": [
    "Random.seed!(100);\n",
    "samples = rand(bin_dist, 10^4);"
   ]
  },
  {
   "cell_type": "code",
   "execution_count": null,
   "id": "88b7b819-45ba-470d-8396-fbcdec6c441f",
   "metadata": {},
   "outputs": [],
   "source": [
    "histogram(samples, norm =:probability, label=\"Samples\")\n",
    "xlabel!(\"x\")\n",
    "ylabel!(\"Probability\")"
   ]
  },
  {
   "cell_type": "markdown",
   "id": "ae212ca4-dc1d-46d5-8033-cdff02fc7e8b",
   "metadata": {},
   "source": [
    "# Discrete Uniform "
   ]
  },
  {
   "cell_type": "code",
   "execution_count": null,
   "id": "63a31c8a-8245-46fa-99ed-9a674315e071",
   "metadata": {},
   "outputs": [],
   "source": [
    "a = -1;\n",
    "b = 4;\n",
    "disc_unif_dist=DiscreteUniform(a,b)"
   ]
  },
  {
   "cell_type": "code",
   "execution_count": null,
   "id": "6a52b1ab-0b4f-4734-bcf5-84add81c8084",
   "metadata": {},
   "outputs": [],
   "source": [
    "Random.seed!(100);\n",
    "samples = rand(disc_unif_dist, 10^4);"
   ]
  },
  {
   "cell_type": "code",
   "execution_count": null,
   "id": "be0c146d-36f7-4fc3-bda7-e96277c70773",
   "metadata": {},
   "outputs": [],
   "source": [
    "histogram(samples, norm =:probability, label=\"Samples\")\n",
    "xlabel!(\"x\")\n",
    "ylabel!(\"Probability\")"
   ]
  },
  {
   "cell_type": "markdown",
   "id": "5b1784f8-952b-46c7-b635-6030af80ea9f",
   "metadata": {},
   "source": [
    "# Continuous Uniform"
   ]
  },
  {
   "cell_type": "code",
   "execution_count": null,
   "id": "52269dd4-a63e-4c69-b146-8a46ed42049b",
   "metadata": {},
   "outputs": [],
   "source": [
    "a = -1;\n",
    "b = 4;\n",
    "cont_unif_dist=Uniform(a,b)"
   ]
  },
  {
   "cell_type": "code",
   "execution_count": null,
   "id": "dc804067-f838-45f0-8712-ab078a1255e6",
   "metadata": {},
   "outputs": [],
   "source": [
    "Random.seed!(100);\n",
    "samples = rand(cont_unif_dist, 10^4);"
   ]
  },
  {
   "cell_type": "code",
   "execution_count": null,
   "id": "20680166-f191-44c9-990f-0af024b8a98a",
   "metadata": {},
   "outputs": [],
   "source": [
    "histogram(samples, norm =:pdf, label=\"Samples\")\n",
    "xlabel!(\"x\")\n",
    "ylabel!(\"Probability\")"
   ]
  },
  {
   "cell_type": "markdown",
   "id": "81bddf9a-5d58-4c5d-80ac-1d056f65b16c",
   "metadata": {},
   "source": [
    "# Gaussian"
   ]
  },
  {
   "cell_type": "code",
   "execution_count": null,
   "id": "d2aac02a-be40-4529-8cbb-a621e767b16c",
   "metadata": {},
   "outputs": [],
   "source": [
    "μ = 2;\n",
    "σ = 0.1\n",
    "normal_dist=Normal(μ,σ)"
   ]
  },
  {
   "cell_type": "code",
   "execution_count": null,
   "id": "4ddffd3b-14f5-4882-ae0d-53823733f92d",
   "metadata": {},
   "outputs": [],
   "source": [
    "Random.seed!(100);\n",
    "samples = rand(normal_dist, 10^6);"
   ]
  },
  {
   "cell_type": "code",
   "execution_count": null,
   "id": "ae3bcfe0-8933-401a-8500-b4c56933eb5e",
   "metadata": {},
   "outputs": [],
   "source": [
    "histogram(samples, norm =:pdf, label=\"Samples\")\n",
    "xlabel!(\"x\")\n",
    "ylabel!(\"Probability\")"
   ]
  }
 ],
 "metadata": {
  "kernelspec": {
   "display_name": "Julia 1.10.0-rc1",
   "language": "julia",
   "name": "julia-1.10"
  },
  "language_info": {
   "file_extension": ".jl",
   "mimetype": "application/julia",
   "name": "julia",
   "version": "1.10.0"
  }
 },
 "nbformat": 4,
 "nbformat_minor": 5
}
