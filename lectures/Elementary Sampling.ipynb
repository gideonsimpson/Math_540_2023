{
 "cells": [
  {
   "cell_type": "markdown",
   "id": "06ff7aca-5750-45c5-8c29-d90cc6cb4587",
   "metadata": {},
   "source": [
    "# Sample from the Uniform and Normal Distributions\n",
    "Use `rand` and `randn`"
   ]
  },
  {
   "cell_type": "code",
   "execution_count": null,
   "id": "45056aca-df91-4bef-92d7-89d30cb353f3",
   "metadata": {},
   "outputs": [],
   "source": [
    "rand()"
   ]
  },
  {
   "cell_type": "code",
   "execution_count": null,
   "id": "ea3c06ec-9f1f-44e3-916d-634665a877df",
   "metadata": {},
   "outputs": [],
   "source": [
    "randn()"
   ]
  },
  {
   "cell_type": "code",
   "execution_count": null,
   "id": "7000f378-a752-4340-b301-35f87f899a2c",
   "metadata": {},
   "outputs": [],
   "source": [
    "rand(10)"
   ]
  },
  {
   "cell_type": "code",
   "execution_count": null,
   "id": "4c8f5522-02ba-4a59-8463-d6a5afe3469a",
   "metadata": {},
   "outputs": [],
   "source": [
    "randn(10)"
   ]
  },
  {
   "cell_type": "markdown",
   "id": "9ae7018a-dbac-46fd-acbb-656400c8730b",
   "metadata": {},
   "source": [
    "# Reproducibility\n",
    "To have reproducible results, we need to set a **seed** for our random number generator.  This will require us to load the package `random`"
   ]
  },
  {
   "cell_type": "code",
   "execution_count": null,
   "id": "4bc61fea-a563-4f9b-b5cf-307f09b308a2",
   "metadata": {},
   "outputs": [],
   "source": [
    "using Random"
   ]
  },
  {
   "cell_type": "code",
   "execution_count": null,
   "id": "47615c7a-2873-4728-8e67-53c7c61c7a7e",
   "metadata": {},
   "outputs": [],
   "source": [
    "Random.seed!(100); # this is arbitrary"
   ]
  },
  {
   "cell_type": "code",
   "execution_count": null,
   "id": "d74a950d-aa57-4bf7-8dca-4aaa37eed63d",
   "metadata": {},
   "outputs": [],
   "source": [
    "rand(5)"
   ]
  },
  {
   "cell_type": "code",
   "execution_count": null,
   "id": "ba617a00-0a37-4f4f-8836-1bafc5154ce6",
   "metadata": {},
   "outputs": [],
   "source": [
    "Random.seed!(100); # now we get the same numbers\n",
    "rand(5)"
   ]
  },
  {
   "cell_type": "markdown",
   "id": "0196b59d-5bee-424e-aacc-688c9013eb6b",
   "metadata": {},
   "source": [
    "In Monte Carlo computations, for reproducibility and debugging, you should _always_ explicitly set a seed."
   ]
  },
  {
   "cell_type": "markdown",
   "id": "82ba5922-e0d8-4094-9f96-8204338e8060",
   "metadata": {},
   "source": [
    "# Basic Visualization\n",
    "Plots are generated using the `Plots` package"
   ]
  },
  {
   "cell_type": "code",
   "execution_count": null,
   "id": "5236be4c-320a-4c93-b73e-7ef2532eca0c",
   "metadata": {},
   "outputs": [],
   "source": [
    "using Plots"
   ]
  },
  {
   "cell_type": "code",
   "execution_count": null,
   "id": "82228ed1-cfd4-4d26-9860-b1c360af97de",
   "metadata": {},
   "outputs": [],
   "source": [
    "# for readability, these are good settings to use\n",
    "default(xtickfontsize=14,  ytickfontsize=14, \n",
    "    guidefontsize=14, legendfontsize=12, lw=2,ms=8)"
   ]
  },
  {
   "cell_type": "code",
   "execution_count": null,
   "id": "ab2fd030-8554-4010-95c7-31f55adee9e2",
   "metadata": {},
   "outputs": [],
   "source": [
    "# generate 10^4 samples from U(0,1) and then histogram them\n",
    "Random.seed!(100);\n",
    "samples = rand(10^4);"
   ]
  },
  {
   "cell_type": "code",
   "execution_count": null,
   "id": "24b1b398-9d71-4f6b-a087-4c9b990a0ec8",
   "metadata": {},
   "outputs": [],
   "source": [
    "histogram(samples)"
   ]
  },
  {
   "cell_type": "markdown",
   "id": "f487e3a1-5d7d-40d9-986a-4d0faa46fc8b",
   "metadata": {},
   "source": [
    "Annotations can (and should) be added"
   ]
  },
  {
   "cell_type": "code",
   "execution_count": null,
   "id": "3ee8e9f6-3ca2-4163-ba6b-cbfcad5884fe",
   "metadata": {},
   "outputs": [],
   "source": [
    "histogram(samples,label=\"Samples\")\n",
    "xlabel!(\"x\")\n",
    "ylabel!(\"Frequency\")"
   ]
  },
  {
   "cell_type": "markdown",
   "id": "8ac17588-21ed-4719-811b-10346a961426",
   "metadata": {},
   "source": [
    "The histogram can be scaled to reflect probability instead of frequency"
   ]
  },
  {
   "cell_type": "code",
   "execution_count": null,
   "id": "202ff574-a7b3-41a9-86f9-ddca4c052df1",
   "metadata": {},
   "outputs": [],
   "source": [
    "histogram(samples,label=\"Samples\", norm=:pdf)\n",
    "xlabel!(\"x\")\n",
    "ylabel!(\"Probability\")"
   ]
  },
  {
   "cell_type": "markdown",
   "id": "19fffa65-9f9f-4ba3-b394-dba8d91e639b",
   "metadata": {},
   "source": [
    "The number of histogram bins can also be controlled:"
   ]
  },
  {
   "cell_type": "code",
   "execution_count": null,
   "id": "0f17f10b-6c3b-4deb-8712-51287863c118",
   "metadata": {},
   "outputs": [],
   "source": [
    "histogram(samples,label=\"Samples\", norm=:pdf, nbins=10)\n",
    "xlabel!(\"x\")\n",
    "ylabel!(\"Probability\")"
   ]
  },
  {
   "cell_type": "markdown",
   "id": "df9af776-e6cf-4948-9197-4925008902d2",
   "metadata": {},
   "source": [
    "We can repeat this with the normal distribution"
   ]
  },
  {
   "cell_type": "code",
   "execution_count": null,
   "id": "2a49715c-6a3b-4baa-9d4f-f8b5b8155fa7",
   "metadata": {},
   "outputs": [],
   "source": [
    "Random.seed!(100);\n",
    "samples = randn(10^5);"
   ]
  },
  {
   "cell_type": "code",
   "execution_count": null,
   "id": "db095478-f0d8-4eaa-941a-1485ca1d0e19",
   "metadata": {},
   "outputs": [],
   "source": [
    "histogram(samples,label=\"Samples\", norm=:pdf, nbins=50)\n",
    "xlabel!(\"x\")\n",
    "ylabel!(\"Probability\")"
   ]
  },
  {
   "cell_type": "markdown",
   "id": "f9830c63-e72b-4445-896d-56ec7ab0aecd",
   "metadata": {},
   "source": [
    "We can add in the density, which we know, for comparison"
   ]
  },
  {
   "cell_type": "code",
   "execution_count": null,
   "id": "c4bc043d-9d24-4f7a-8473-009cb3a6eb7e",
   "metadata": {},
   "outputs": [],
   "source": [
    "xx = LinRange(-4,4,100);\n",
    "yy = @. exp(-xx^2/2)/sqrt(2*π);\n",
    "histogram(samples,label=\"Samples\", norm=:pdf, nbins=50)\n",
    "plot!(xx, yy, label=\"Density\")\n",
    "xlabel!(\"x\")\n",
    "ylabel!(\"Probability\")"
   ]
  }
 ],
 "metadata": {
  "kernelspec": {
   "display_name": "Julia 1.10.0-rc1",
   "language": "julia",
   "name": "julia-1.10"
  },
  "language_info": {
   "file_extension": ".jl",
   "mimetype": "application/julia",
   "name": "julia",
   "version": "1.10.0"
  }
 },
 "nbformat": 4,
 "nbformat_minor": 5
}
