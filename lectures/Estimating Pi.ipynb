{
 "cells": [
  {
   "cell_type": "markdown",
   "id": "92b3f4d6-8426-4be2-a7a6-0271774ca475",
   "metadata": {},
   "source": [
    "# Estimating Pi\n",
    "\"Throw darts\" to get\n",
    "$$\n",
    "\\pi \\approx 4 \\times \\frac{1}{n}\\sum_{i=1}^n 1_{X_i^2 + Y_i^2<1}\n",
    "$$\n",
    "where $(X_i,Y_i)\\sim U(-1,1)^2$ are i.i.d."
   ]
  },
  {
   "cell_type": "code",
   "execution_count": 1,
   "id": "75e037b7-42f3-4c97-821a-ac7e14c22ad9",
   "metadata": {},
   "outputs": [],
   "source": [
    "using Random\n",
    "using Distributions"
   ]
  },
  {
   "cell_type": "code",
   "execution_count": 2,
   "id": "e95f3e86-7e31-4ba0-897f-d8c37ec94265",
   "metadata": {},
   "outputs": [],
   "source": [
    "unif_dist = Uniform(-1,1);"
   ]
  },
  {
   "cell_type": "code",
   "execution_count": 3,
   "id": "f9bb99c9-1469-4794-80fa-7c83f7fc4da7",
   "metadata": {},
   "outputs": [
    {
     "name": "stdout",
     "output_type": "stream",
     "text": [
      "pi_est = 3.1156\n"
     ]
    }
   ],
   "source": [
    "n = 10^4;\n",
    "\n",
    "n_inside = 0;\n",
    "\n",
    "Random.seed!(100);\n",
    "\n",
    "for _ in 1:n\n",
    "    X, Y = rand(unif_dist,2);\n",
    "    if(X^2 +Y^2<1)\n",
    "        n_inside+=1;\n",
    "    end\n",
    "end\n",
    "\n",
    "pi_est = 4 * n_inside/n;\n",
    "@show pi_est;"
   ]
  },
  {
   "cell_type": "code",
   "execution_count": 5,
   "id": "86b3ebc1-9086-43d4-a92e-63ebe0e08eb6",
   "metadata": {},
   "outputs": [
    {
     "name": "stdout",
     "output_type": "stream",
     "text": [
      "pi_est = 3.1196\n"
     ]
    }
   ],
   "source": [
    "n = 10^4;\n",
    "\n",
    "n_inside = 0;\n",
    "\n",
    "Random.seed!(200);\n",
    "\n",
    "for _ in 1:n\n",
    "    X, Y = rand(unif_dist,2);\n",
    "    if(X^2 +Y^2<1)\n",
    "        n_inside+=1;\n",
    "    end\n",
    "end\n",
    "\n",
    "pi_est = 4 * n_inside/n;\n",
    "@show pi_est;"
   ]
  }
 ],
 "metadata": {
  "kernelspec": {
   "display_name": "Julia 1.10.0-rc1",
   "language": "julia",
   "name": "julia-1.10"
  },
  "language_info": {
   "file_extension": ".jl",
   "mimetype": "application/julia",
   "name": "julia",
   "version": "1.10.0"
  }
 },
 "nbformat": 4,
 "nbformat_minor": 5
}
