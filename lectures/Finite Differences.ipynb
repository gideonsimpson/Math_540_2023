{
 "cells": [
  {
   "cell_type": "code",
   "execution_count": null,
   "id": "3fde4270-4f97-4789-a1c9-7d119e2b90d0",
   "metadata": {},
   "outputs": [],
   "source": [
    "using Plots\n",
    "using SpecialFunctions\n",
    "using LaTeXStrings"
   ]
  },
  {
   "cell_type": "code",
   "execution_count": null,
   "id": "34ff748b-233d-4e72-acb1-3192cb83ab91",
   "metadata": {},
   "outputs": [],
   "source": [
    "default(lw=2,markersize = 6,\n",
    "    xtickfont=font(12), ytickfont=font(12), \n",
    "    guidefont=font(14), legendfont=font(12),titlefont=font(12))"
   ]
  },
  {
   "cell_type": "code",
   "execution_count": null,
   "id": "b2d69765-99a0-45e1-a570-d895c928dcbe",
   "metadata": {},
   "outputs": [],
   "source": [
    "f(x) = sin(x);\n",
    "x = 1.;\n",
    "h_vals = 2. .^(-1:-1:-40)"
   ]
  },
  {
   "cell_type": "code",
   "execution_count": null,
   "id": "3bc3f3d2-66f0-4b8d-bb1e-761847539bff",
   "metadata": {},
   "outputs": [],
   "source": [
    "fp_ests = Float64[];\n",
    "for h in h_vals\n",
    "    fp = (f(x+h)- f(x))/h;\n",
    "    push!(fp_ests, fp);\n",
    "end"
   ]
  },
  {
   "cell_type": "code",
   "execution_count": null,
   "id": "aceb87d7-2128-4565-b5c7-a79660797c85",
   "metadata": {},
   "outputs": [],
   "source": [
    "fp_exact = cos(x);\n",
    "err_vals = abs.(fp_ests .- fp_exact)"
   ]
  },
  {
   "cell_type": "code",
   "execution_count": null,
   "id": "b9dc5f09-d57f-4e3d-ab4b-5897a1f54dd4",
   "metadata": {},
   "outputs": [],
   "source": [
    "scatter(h_vals, err_vals, xscale=:log10, yaxis=(:log10, [10^-10, :auto]), label = \"Finite Differences\",legend=:topleft)\n",
    "plot!(h_vals, h_vals,ls=:dash, label=L\"\\propto h\")\n",
    "xlabel!(L\"h\")\n",
    "ylabel!(\"Absolute Error\")"
   ]
  },
  {
   "cell_type": "code",
   "execution_count": null,
   "id": "5bf326b1-ea70-465a-83ff-5130583da7cf",
   "metadata": {},
   "outputs": [],
   "source": []
  }
 ],
 "metadata": {
  "kernelspec": {
   "display_name": "Julia 1.9.3",
   "language": "julia",
   "name": "julia-1.9"
  },
  "language_info": {
   "file_extension": ".jl",
   "mimetype": "application/julia",
   "name": "julia",
   "version": "1.9.3"
  }
 },
 "nbformat": 4,
 "nbformat_minor": 5
}
