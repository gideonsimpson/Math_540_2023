{
 "cells": [
  {
   "cell_type": "code",
   "execution_count": null,
   "id": "bcb48737-1e8e-4304-a68a-ef473ecf2c65",
   "metadata": {},
   "outputs": [],
   "source": [
    "using Plots\n",
    "using Random\n",
    "using LaTeXStrings\n",
    "using FFTW\n",
    "using BenchmarkTools"
   ]
  },
  {
   "cell_type": "code",
   "execution_count": null,
   "id": "da0cc67d-9345-49cd-865a-8708e7ba4b1f",
   "metadata": {},
   "outputs": [],
   "source": [
    "default(xtickfont=font(14),  ytickfont=font(14), guidefont=font(14), \n",
    "    legendfont=font(12), lw=2,ms=8)"
   ]
  },
  {
   "cell_type": "markdown",
   "metadata": {},
   "source": [
    "# Sampling from a Gaussian Random Field\n",
    "To sample from $N(0,C)$, a mean zero Gaussian random field, we need to specifiy a covariance operator.  Here we will use\n",
    "$$\n",
    "C = (-d^2/dx^2)^{-1} + \\text{Boundary Conditions}\n",
    "$$\n",
    "on the interval $(0,1)$.  Boundary conditions must be specified for this operator to be well-defined.  "
   ]
  },
  {
   "cell_type": "markdown",
   "id": "6396a0ad-f448-4a19-b1d2-e8c4630ce67f",
   "metadata": {},
   "source": [
    "# Sample a Gaussian Random Field by Direct Summation with Dirichlet Boundary Conditions\n",
    "This shows how we can sample a Gaussian random variable by direct summation.  In this excample, the mean is zero, and the covariance is\n",
    "$$\n",
    "C = (-d^2/dx^2)^{-1} + \\text{Dirichlet Boundary Conditions}\n",
    "$$\n",
    "The eigenvalue/eigenfunction pairs are\n",
    "$$\n",
    "\\lambda_k = \\frac{1}{(\\pi k)^2}, \\quad \\varphi_k(x) = \\sqrt{2}\\sin(\\pi k x)\n",
    "$$"
   ]
  },
  {
   "cell_type": "code",
   "execution_count": null,
   "id": "86d88713-c4de-4e13-b699-d58f00a376a4",
   "metadata": {},
   "outputs": [],
   "source": [
    "function sample_field(x, N)\n",
    "    X = zeros(length(x)); #preallocate storage for the r.v.\n",
    "\n",
    "    # add all the contributions, term by term from the series\n",
    "    for k in 1:N\n",
    "       X .+= sqrt(1/(π*k)^2) * randn() * sqrt(2) * sin.(π*k*x);\n",
    "    end    \n",
    "    \n",
    "    return X\n",
    "    \n",
    "end"
   ]
  },
  {
   "cell_type": "code",
   "execution_count": null,
   "id": "2d41752d-fc43-4a53-b795-79eeea2ebfd2",
   "metadata": {},
   "outputs": [],
   "source": [
    "nx = 256; # nx + 1 interior mesh points\n",
    "x = LinRange(0,1, nx+1)[2:end-1]; # interior nodes \n",
    "\n",
    "N = 256; # number of terms in the series expansion to include"
   ]
  },
  {
   "cell_type": "code",
   "execution_count": null,
   "id": "387ac404-3b57-4230-ad99-6d20b11ed829",
   "metadata": {},
   "outputs": [],
   "source": [
    "Random.seed!(100);\n",
    "X1 = sample_field(x,N);\n",
    "X2 = sample_field(x,N);\n",
    "X3 = sample_field(x,N);"
   ]
  },
  {
   "cell_type": "code",
   "execution_count": null,
   "id": "85ced41c-cc23-4a59-98aa-e3c7e3bfb5db",
   "metadata": {},
   "outputs": [],
   "source": [
    "plot(x, X1,label=\"\")\n",
    "plot!(x, X2,label=\"\")\n",
    "plot!(x, X3,label=\"\")\n",
    "xlabel!(L\"$x$\")\n",
    "ylabel!(L\"$X$\")\n",
    "title!(\"Sample Realizations\")"
   ]
  },
  {
   "cell_type": "code",
   "execution_count": null,
   "metadata": {},
   "outputs": [],
   "source": [
    "@btime sample_field(x, N);"
   ]
  },
  {
   "cell_type": "markdown",
   "metadata": {},
   "source": [
    "# Sampling by FFT\n",
    "Repeat of the above, but with FFT sampler"
   ]
  },
  {
   "cell_type": "code",
   "execution_count": null,
   "id": "0472bd77-fc19-4722-b13e-74a25b47adda",
   "metadata": {},
   "outputs": [],
   "source": [
    "function sample_field_fft(N)\n",
    "    uhat = zeros(ComplexF64, 2 * N) # preallocate space\n",
    "\n",
    "    ξ = randn(N) # generate the random variables\n",
    "\n",
    "    # construct the eigenvalues\n",
    "    k = 1:N\n",
    "    λ = @. 1 / (π * k)^2\n",
    "\n",
    "    # fill in the nonzero entries\n",
    "    # NOTE we need to multiply by 2 * N for FFT scaling\n",
    "    @. uhat[2:N+1] = 2 * N * sqrt(λ) * sqrt(2) * ξ\n",
    "\n",
    "    # invert and get the relevant imaginary part\n",
    "    u = imag.(ifft(uhat))[N+2:end]\n",
    "    return u\n",
    "end"
   ]
  },
  {
   "cell_type": "code",
   "execution_count": null,
   "id": "3efb0299-4f04-45ef-b681-df68b3f96ab6",
   "metadata": {},
   "outputs": [],
   "source": [
    "N = 256;\n",
    "x = LinRange(0, 1, N + 1)[2:end-1];\n",
    "\n",
    "Random.seed!(100);\n",
    "X1 = sample_field_fft(N);\n",
    "X2 = sample_field_fft(N);\n",
    "X3 = sample_field_fft(N);"
   ]
  },
  {
   "cell_type": "code",
   "execution_count": null,
   "metadata": {},
   "outputs": [],
   "source": [
    "plot(x, X1, label=\"\")\n",
    "plot!(x, X2, label=\"\")\n",
    "plot!(x, X3, label=\"\")\n",
    "xlabel!(L\"$x$\")\n",
    "ylabel!(L\"$X$\")\n",
    "title!(\"Sample Realizations\")"
   ]
  },
  {
   "cell_type": "code",
   "execution_count": null,
   "metadata": {},
   "outputs": [],
   "source": [
    "@btime sample_field_fft(N);"
   ]
  },
  {
   "cell_type": "markdown",
   "metadata": {},
   "source": [
    "# Other Boundary Conditions\n",
    "We can access other boundary conditions with similar tricks."
   ]
  },
  {
   "cell_type": "markdown",
   "metadata": {},
   "source": [
    "## Neumann Boundary Conditions"
   ]
  },
  {
   "cell_type": "code",
   "execution_count": null,
   "metadata": {},
   "outputs": [],
   "source": [
    "function sample_field_neumann(N)\n",
    "    uhat = zeros(ComplexF64, 2 * N) # preallocate space\n",
    "\n",
    "    ξ = randn(N) # generate the random variables\n",
    "\n",
    "    # construct the eigenvalues\n",
    "    k = 1:N\n",
    "    λ = @. 1 / (π * k)^2\n",
    "\n",
    "    # fill in the nonzero entries\n",
    "    # NOTE we need to multiply by 2 *N for FFT scaling\n",
    "    @. uhat[2:N+1] = 2 * N * sqrt(λ) * sqrt(2) * ξ\n",
    "\n",
    "    # invert and get the relevant real part\n",
    "    u_ = real.(ifft(uhat))\n",
    "    u = [u_[N+1:end]; u_[1]] # get the solution on [-1,1], including endpoints\n",
    "    return u\n",
    "end"
   ]
  },
  {
   "cell_type": "code",
   "execution_count": null,
   "metadata": {},
   "outputs": [],
   "source": [
    "N = 512; # set number of spatial points/KLSE modes\n",
    "x = LinRange(0, 1, N + 1);\n",
    "\n",
    "Random.seed!(200);\n",
    "X1 = sample_field_neumann(N);\n",
    "X2 = sample_field_neumann(N);\n",
    "X3 = sample_field_neumann(N);\n",
    "\n",
    "plot(x, X1, label=\"\")\n",
    "plot!(x, X2, label=\"\")\n",
    "plot!(x, X3, label=\"\")\n",
    "xlabel!(L\"$x$\")\n",
    "title!(\"Sample Realizations\")"
   ]
  },
  {
   "cell_type": "markdown",
   "metadata": {},
   "source": [
    "## Periodic Boundary Conditions"
   ]
  },
  {
   "cell_type": "code",
   "execution_count": null,
   "metadata": {},
   "outputs": [],
   "source": [
    "function sample_field_pbc(N)\n",
    "    uhat = zeros(ComplexF64, N) # preallocate space\n",
    "    ξ = zeros(ComplexF64, N)\n",
    "\n",
    "    # set the eigenvalues\n",
    "    k = [0:N÷2; -N÷2+1:1:-1]\n",
    "    λ = zeros(N)\n",
    "    @. λ[2:end] = (1 / (2 * π * k[2:end]))^2\n",
    "    λ[N÷2+1] = 0 # zero out the assymetric term for k = N÷2\n",
    "\n",
    "    # generate the random variables \n",
    "    @. ξ[2:N÷2] = randn(ComplexF64)\n",
    "    # ensure complex conjugacy\n",
    "    ξ[N÷2+2:end] .= conj(ξ[N÷2:-1:2])\n",
    "\n",
    "    @. uhat = N * sqrt(λ) * sqrt(2) * ξ\n",
    "    # invert and take real part to remove any floating point\n",
    "    u = ifft(uhat)\n",
    "    return real.(u)\n",
    "    # return u\n",
    "end"
   ]
  },
  {
   "cell_type": "code",
   "execution_count": null,
   "metadata": {},
   "outputs": [],
   "source": [
    "N = 512; # set number of spatial points/KLSE modes\n",
    "x = LinRange(0, 1, N + 1)[1:end-1];\n",
    "\n",
    "Random.seed!(200);\n",
    "X1 = sample_field_pbc(N);\n",
    "X2 = sample_field_pbc(N);\n",
    "X3 = sample_field_pbc(N);\n",
    "\n",
    "\n",
    "plot(x, X1, label=\"\")\n",
    "plot!(x, X2, label=\"\")\n",
    "plot!(x, X3, label=\"\")\n",
    "xlabel!(L\"$x$\")\n",
    "title!(\"Sample Realizations\")\n"
   ]
  },
  {
   "cell_type": "code",
   "execution_count": null,
   "metadata": {},
   "outputs": [],
   "source": []
  }
 ],
 "metadata": {
  "kernelspec": {
   "display_name": "Julia 1.9.4",
   "language": "julia",
   "name": "julia-1.9"
  },
  "language_info": {
   "file_extension": ".jl",
   "mimetype": "application/julia",
   "name": "julia",
   "version": "1.9.4"
  }
 },
 "nbformat": 4,
 "nbformat_minor": 5
}
