{
 "cells": [
  {
   "cell_type": "code",
   "execution_count": null,
   "metadata": {},
   "outputs": [],
   "source": [
    "using Plots\n",
    "using LinearAlgebra\n",
    "using Krylov\n",
    "using Printf\n",
    "using LaTeXStrings\n",
    "using BenchmarkTools\n",
    "using DifferentialEquations\n",
    "include(\"poisson2d.jl\")"
   ]
  },
  {
   "cell_type": "code",
   "execution_count": null,
   "metadata": {},
   "outputs": [],
   "source": [
    "default(lw=2, markersize=6,\n",
    "    xtickfont=font(12), ytickfont=font(12),\n",
    "    guidefont=font(14), legendfont=font(12), titlefont=font(12))"
   ]
  },
  {
   "cell_type": "markdown",
   "metadata": {},
   "source": [
    "# Heat Equation Example\n",
    "Solve\n",
    "$$\n",
    "u_t = \\Delta u\n",
    "$$\n",
    "over $(0,L_x)\\times (0,L_y)$ with zero Dirichlet boundary conditions."
   ]
  },
  {
   "cell_type": "code",
   "execution_count": null,
   "metadata": {},
   "outputs": [],
   "source": [
    "Lx = 5;\n",
    "Ly = 5;\n",
    "nx = 99; # (nx-1)×(ny-1) interior points\n",
    "ny = 99;\n",
    "\n",
    "x = LinRange(0, Lx, nx + 2)\n",
    "y = LinRange(0, Ly, ny + 2)\n",
    "\n",
    "@show Δx = x[2] - x[1];\n",
    "@show Δy = y[2] - y[1];\n",
    "\n",
    "\n",
    "xy = [[x_, y_] for x_ in x, y_ in y]; # mesh including boundary points\n",
    "xy_int = [[x_, y_] for x_ in x[2:end-1], y_ in y[2:end-1]]; # interior mesh points"
   ]
  },
  {
   "cell_type": "code",
   "execution_count": null,
   "metadata": {},
   "outputs": [],
   "source": [
    "u0= [Float64((1.5<x_[1]<3.5)*(1.5<x_[2]<3.5)) for x_ in xy_int]\n",
    "U0 = u0[:];\n",
    "surface(x[2:end-1], y[2:end-1], u0', label=\"\")\n",
    "xlabel!(L\"$x$\")\n",
    "ylabel!(L\"$y$\")"
   ]
  },
  {
   "cell_type": "code",
   "execution_count": null,
   "metadata": {},
   "outputs": [],
   "source": [
    "function fheat2d_dirichlet!(dU, U, p, t)\n",
    "    Δx = p[1];\n",
    "    Δy = p[2];\n",
    "    nx = Int(p[3]);\n",
    "    ny = Int(p[4]);\n",
    "    n = length(U); # = nx * ny\n",
    "    \n",
    "    @. dU = 0;\n",
    "\n",
    "    for k = 1:n\n",
    "        j, i = fldmod1(k, nx);\n",
    "        # corners, then edges, then interior\n",
    "        if (i == 1 && j == 1)\n",
    "            dU[k] = (-2 * U[i + nx * (j-1)] + U[i+1 + nx *(j-1)])/Δx^2 + (-2 * U[i + nx * (j-1)] + U[i + nx *(j)])/Δy^2;\n",
    "        elseif (i == 1 && j == ny)\n",
    "            dU[k] = (-2 * U[i + nx * (j-1)] + U[i+1 + nx *(j-1)])/Δx^2 + (-2 * U[i + nx * (j-1)] + U[i + nx *(j-2)])/Δy^2;\n",
    "        elseif (i == nx && j == 1)\n",
    "            dU[k] = (-2 * U[i + nx * (j-1)] + U[i-1 + nx *(j-1)])/Δx^2 + (-2 * U[i + nx * (j-1)] + U[i + nx *(j)])/Δy^2;\n",
    "        elseif (i == nx && j == ny)\n",
    "            dU[k] = (-2 * U[i + nx * (j-1)] + U[i-1 + nx *(j-1)])/Δx^2 + (-2 * U[i + nx * (j-1)] + U[i + nx *(j-2)])/Δy^2;\n",
    "        elseif (i == 1 && j > 1 && j < ny)\n",
    "            # right edge of domain, (1<j<ny)\n",
    "            dU[k] = (-2 * U[i + nx * (j-1)] + U[i+1 + nx *(j-1)])/Δx^2 + (U[i + nx *(j-2)]-2 * U[i + nx * (j-1)] + U[i + nx *(j)])/Δy^2;\n",
    "        elseif (i == nx && j > 1 && j < ny)\n",
    "            # left edge of domain, (1<j<ny)\n",
    "            dU[k] = (-2 * U[i + nx * (j-1)] + U[i-1 + nx *(j-1)])/Δx^2 + (U[i + nx *(j-2)]-2 * U[i + nx * (j-1)] + U[i + nx *(j)])/Δy^2;\n",
    "        elseif (i > 1 && i < nx && j == 1)\n",
    "            # bottom edge of domain, (1<i<nx)\n",
    "            dU[k] = (U[i-1 + nx *(j-1)]-2 * U[i + nx * (j-1)] + U[i+1 + nx *(j-1)])/Δx^2 + (-2 * U[i + nx * (j-1)] + U[i + nx *(j)])/Δy^2;\n",
    "        elseif (i > 1 && i < nx && j == ny)\n",
    "            # top edge of domain, (1<i<nx)\n",
    "            dU[k] = (U[i-1 + nx *(j-1)]-2 * U[i + nx * (j-1)] + U[i+1 + nx *(j-1)])/Δx^2 + (-2 * U[i + nx * (j-1)] + U[i + nx *(j-2)])/Δy^2;\n",
    "        else\n",
    "            # interior of domain\n",
    "            dU[k] = (U[i-1 + nx *(j-1)]-2 * U[i + nx * (j-1)] + U[i+1 + nx *(j-1)])/Δx^2 + (U[i + nx *(j-2)]-2 * U[i + nx * (j-1)] + U[i + nx *(j)])/Δy^2;\n",
    "        end\n",
    "    end\n",
    "    dU\n",
    "end"
   ]
  },
  {
   "cell_type": "code",
   "execution_count": null,
   "metadata": {},
   "outputs": [],
   "source": [
    "p = [Δx, Δy, nx, ny];\n",
    "tspan = (0.0, 1.0);\n",
    "prob_dirichlet = ODEProblem(fheat2d_dirichlet!, U0, tspan, p);\n",
    "sol = solve(prob_dirichlet, saveat=0.05);"
   ]
  },
  {
   "cell_type": "code",
   "execution_count": null,
   "metadata": {},
   "outputs": [],
   "source": [
    "anim = @animate for (t, U) in zip(sol.t, sol.u)\n",
    "    surface(x[2:end-1], y[2:end-1], reshape(U,nx,ny)', label=\"\", color=:viridis)\n",
    "    title!(@sprintf(\"t = %.2f\", t))\n",
    "    xlabel!(L\"$x$\")\n",
    "    ylabel!(L\"$y$\")\n",
    "    zlims!(0, 1.5)\n",
    "end"
   ]
  },
  {
   "cell_type": "code",
   "execution_count": null,
   "metadata": {},
   "outputs": [],
   "source": [
    "gif(anim, fps=3)\n"
   ]
  },
  {
   "cell_type": "code",
   "execution_count": null,
   "metadata": {},
   "outputs": [],
   "source": [
    "function fheatsource2d_dirichlet!(dU, U, p, t)\n",
    "    Δx = p[1]\n",
    "    Δy = p[2]\n",
    "    nx = Int(p[3])\n",
    "    ny = Int(p[4])\n",
    "    n = length(U)\n",
    "\n",
    "    @. dU = 0\n",
    "\n",
    "    for k = 1:n\n",
    "        j, i = fldmod1(k, nx);\n",
    "        x = i * Δx;\n",
    "        y = j * Δy;\n",
    "        # corners, then edges, then interior\n",
    "        if (i == 1 && j == 1)\n",
    "            dU[k] = (-2 * U[i+nx*(j-1)] + U[i+1+nx*(j-1)]) / Δx^2 + (-2 * U[i+nx*(j-1)] + U[i+nx*(j)]) / Δy^2\n",
    "        elseif (i == 1 && j == ny)\n",
    "            dU[k] = (-2 * U[i+nx*(j-1)] + U[i+1+nx*(j-1)]) / Δx^2 + (-2 * U[i+nx*(j-1)] + U[i+nx*(j-2)]) / Δy^2\n",
    "        elseif (i == nx && j == 1)\n",
    "            dU[k] = (-2 * U[i+nx*(j-1)] + U[i-1+nx*(j-1)]) / Δx^2 + (-2 * U[i+nx*(j-1)] + U[i+nx*(j)]) / Δy^2\n",
    "        elseif (i == nx && j == ny)\n",
    "            dU[k] = (-2 * U[i+nx*(j-1)] + U[i-1+nx*(j-1)]) / Δx^2 + (-2 * U[i+nx*(j-1)] + U[i+nx*(j-2)]) / Δy^2\n",
    "        elseif (i == 1 && j > 1 && j < ny)\n",
    "            # right edge of domain, (1<j<ny)\n",
    "            dU[k] = (-2 * U[i+nx*(j-1)] + U[i+1+nx*(j-1)]) / Δx^2 + (U[i+nx*(j-2)] - 2 * U[i+nx*(j-1)] + U[i+nx*(j)]) / Δy^2\n",
    "        elseif (i == nx && j > 1 && j < ny)\n",
    "            # left edge of domain, (1<j<ny)\n",
    "            dU[k] = (-2 * U[i+nx*(j-1)] + U[i-1+nx*(j-1)]) / Δx^2 + (U[i+nx*(j-2)] - 2 * U[i+nx*(j-1)] + U[i+nx*(j)]) / Δy^2\n",
    "        elseif (i > 1 && i < nx && j == 1)\n",
    "            # bottom edge of domain, (1<i<nx)\n",
    "            dU[k] = (U[i-1+nx*(j-1)] - 2 * U[i+nx*(j-1)] + U[i+1+nx*(j-1)]) / Δx^2 + (-2 * U[i+nx*(j-1)] + U[i+nx*(j)]) / Δy^2\n",
    "        elseif (i > 1 && i < nx && j == ny)\n",
    "            # top edge of domain, (1<i<nx)\n",
    "            dU[k] = (U[i-1+nx*(j-1)] - 2 * U[i+nx*(j-1)] + U[i+1+nx*(j-1)]) / Δx^2 + (-2 * U[i+nx*(j-1)] + U[i+nx*(j-2)]) / Δy^2\n",
    "        else\n",
    "            # interior of domain\n",
    "            dU[k] = (U[i-1+nx*(j-1)] - 2 * U[i+nx*(j-1)] + U[i+1+nx*(j-1)]) / Δx^2 + (U[i+nx*(j-2)] - 2 * U[i+nx*(j-1)] + U[i+nx*(j)]) / Δy^2\n",
    "        end\n",
    "        dU[k] += Float64((2.5 < x < 3.) * (2.5 < y < 3.));\n",
    "    end\n",
    "    dU\n",
    "end"
   ]
  },
  {
   "cell_type": "code",
   "execution_count": null,
   "metadata": {},
   "outputs": [],
   "source": [
    "U0 = zeros(nx*ny);\n",
    "p = [Δx, Δy, nx, ny];\n",
    "tspan = (0.0, 10.0);\n",
    "source_prob_dirichlet = ODEProblem(fheatsource2d_dirichlet!, U0, tspan, p);"
   ]
  },
  {
   "cell_type": "code",
   "execution_count": null,
   "metadata": {
    "scrolled": true
   },
   "outputs": [],
   "source": [
    "sol = solve(source_prob_dirichlet, saveat=0.1)"
   ]
  },
  {
   "cell_type": "code",
   "execution_count": null,
   "metadata": {},
   "outputs": [],
   "source": [
    "anim = @animate for (t, U) in zip(sol.t, sol.u)\n",
    "    surface(x[2:end-1], y[2:end-1], reshape(U, nx, ny)', label=\"\")\n",
    "    title!(@sprintf(\"t = %.2f\", t))\n",
    "    xlabel!(L\"$x$\")\n",
    "    ylabel!(L\"$y$\")\n",
    "    zlims!(0, .1)\n",
    "end"
   ]
  },
  {
   "cell_type": "code",
   "execution_count": null,
   "metadata": {},
   "outputs": [],
   "source": [
    "gif(anim, fps=6)\n"
   ]
  },
  {
   "cell_type": "code",
   "execution_count": null,
   "metadata": {},
   "outputs": [],
   "source": [
    "function freactiondiffusion2d_dirichlet!(dU, U, p, t)\n",
    "    Δx = p[1]\n",
    "    Δy = p[2]\n",
    "    nx = Int(p[3])\n",
    "    ny = Int(p[4])\n",
    "    n = length(U)\n",
    "\n",
    "    @. dU = 0\n",
    "\n",
    "    for k = 1:n\n",
    "        j, i = fldmod1(k, nx);\n",
    "        # corners, then edges, then interior\n",
    "        if (i == 1 && j == 1)\n",
    "            dU[k] = (-2 * U[i+nx*(j-1)] + U[i+1+nx*(j-1)]) / Δx^2 + (-2 * U[i+nx*(j-1)] + U[i+nx*(j)]) / Δy^2\n",
    "        elseif (i == 1 && j == ny)\n",
    "            dU[k] = (-2 * U[i+nx*(j-1)] + U[i+1+nx*(j-1)]) / Δx^2 + (-2 * U[i+nx*(j-1)] + U[i+nx*(j-2)]) / Δy^2\n",
    "        elseif (i == nx && j == 1)\n",
    "            dU[k] = (-2 * U[i+nx*(j-1)] + U[i-1+nx*(j-1)]) / Δx^2 + (-2 * U[i+nx*(j-1)] + U[i+nx*(j)]) / Δy^2\n",
    "        elseif (i == nx && j == ny)\n",
    "            dU[k] = (-2 * U[i+nx*(j-1)] + U[i-1+nx*(j-1)]) / Δx^2 + (-2 * U[i+nx*(j-1)] + U[i+nx*(j-2)]) / Δy^2\n",
    "        elseif (i == 1 && j > 1 && j < ny)\n",
    "            # right edge of domain, (1<j<ny)\n",
    "            dU[k] = (-2 * U[i+nx*(j-1)] + U[i+1+nx*(j-1)]) / Δx^2 + (U[i+nx*(j-2)] - 2 * U[i+nx*(j-1)] + U[i+nx*(j)]) / Δy^2\n",
    "        elseif (i == nx && j > 1 && j < ny)\n",
    "            # left edge of domain, (1<j<ny)\n",
    "            dU[k] = (-2 * U[i+nx*(j-1)] + U[i-1+nx*(j-1)]) / Δx^2 + (U[i+nx*(j-2)] - 2 * U[i+nx*(j-1)] + U[i+nx*(j)]) / Δy^2\n",
    "        elseif (i > 1 && i < nx && j == 1)\n",
    "            # bottom edge of domain, (1<i<nx)\n",
    "            dU[k] = (U[i-1+nx*(j-1)] - 2 * U[i+nx*(j-1)] + U[i+1+nx*(j-1)]) / Δx^2 + (-2 * U[i+nx*(j-1)] + U[i+nx*(j)]) / Δy^2\n",
    "        elseif (i > 1 && i < nx && j == ny)\n",
    "            # top edge of domain, (1<i<nx)\n",
    "            dU[k] = (U[i-1+nx*(j-1)] - 2 * U[i+nx*(j-1)] + U[i+1+nx*(j-1)]) / Δx^2 + (-2 * U[i+nx*(j-1)] + U[i+nx*(j-2)]) / Δy^2\n",
    "        else\n",
    "            # interior of domain\n",
    "            dU[k] = (U[i-1+nx*(j-1)] - 2 * U[i+nx*(j-1)] + U[i+1+nx*(j-1)]) / Δx^2 + (U[i+nx*(j-2)] - 2 * U[i+nx*(j-1)] + U[i+nx*(j)]) / Δy^2\n",
    "        end\n",
    "        dU[k] += U[k]^2 * (1-U[k]) # nonlinearity\n",
    "    end\n",
    "    dU\n",
    "end"
   ]
  },
  {
   "cell_type": "code",
   "execution_count": null,
   "metadata": {},
   "outputs": [],
   "source": [
    "u0= [Float64((1.5<x_[1]<3.5)*(1.5<x_[2]<3.5)) for x_ in xy_int];\n",
    "U0 = u0[:];\n",
    "p = [Δx, Δy, nx, ny];\n",
    "tspan = (0.0, 1.0);\n",
    "reactiondiffuion_prob_dirichlet = ODEProblem(freactiondiffusion2d_dirichlet!, U0, tspan, p);"
   ]
  },
  {
   "cell_type": "code",
   "execution_count": null,
   "metadata": {},
   "outputs": [],
   "source": [
    "sol = solve(reactiondiffuion_prob_dirichlet, saveat=0.1);"
   ]
  },
  {
   "cell_type": "code",
   "execution_count": null,
   "metadata": {},
   "outputs": [],
   "source": [
    "anim = @animate for (t, U) in zip(sol.t, sol.u)\n",
    "    surface(x[2:end-1], y[2:end-1], reshape(U, nx, ny)', label=\"\")\n",
    "    title!(@sprintf(\"t = %.2f\", t))\n",
    "    xlabel!(L\"$x$\")\n",
    "    ylabel!(L\"$y$\")\n",
    "    zlims!(0, 1)\n",
    "end"
   ]
  },
  {
   "cell_type": "code",
   "execution_count": null,
   "metadata": {},
   "outputs": [],
   "source": [
    "gif(anim, fps=6)\n"
   ]
  },
  {
   "cell_type": "code",
   "execution_count": null,
   "metadata": {},
   "outputs": [],
   "source": []
  }
 ],
 "metadata": {
  "kernelspec": {
   "display_name": "Julia 1.10.0-rc1",
   "language": "julia",
   "name": "julia-1.10"
  },
  "language_info": {
   "file_extension": ".jl",
   "mimetype": "application/julia",
   "name": "julia",
   "version": "1.10.0"
  }
 },
 "nbformat": 4,
 "nbformat_minor": 4
}
