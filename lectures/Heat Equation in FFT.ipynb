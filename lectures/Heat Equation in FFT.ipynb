{
 "cells": [
  {
   "cell_type": "code",
   "execution_count": null,
   "metadata": {},
   "outputs": [],
   "source": [
    "using FFTW\n",
    "using Plots\n",
    "using LaTeXStrings\n",
    "using Printf\n",
    "using LinearAlgebra"
   ]
  },
  {
   "cell_type": "code",
   "execution_count": null,
   "metadata": {},
   "outputs": [],
   "source": [
    "default(xtickfontsize=14, ytickfontsize=14, ztickfontsize=14,\n",
    "    guidefontsize=14, legendfontsize=12, lw=2, ms=8)"
   ]
  },
  {
   "cell_type": "markdown",
   "metadata": {},
   "source": [
    "# Set Up Mesh"
   ]
  },
  {
   "cell_type": "markdown",
   "metadata": {},
   "source": []
  },
  {
   "cell_type": "code",
   "execution_count": null,
   "metadata": {},
   "outputs": [],
   "source": [
    "@show n = 2^6; # number of points\n",
    "x = LinRange(0, 2 * π, n + 1)[1:end-1];\n",
    "dx = im * [0:1:n÷2; -n÷2+1:1:-1];"
   ]
  },
  {
   "cell_type": "markdown",
   "metadata": {},
   "source": [
    "# Set Up Initial Condition"
   ]
  },
  {
   "cell_type": "code",
   "execution_count": null,
   "metadata": {},
   "outputs": [],
   "source": [
    "# u0 = @. exp(-(x-3).^2);\n",
    "u0 = @.  Float64(abs(x-π)< 1);\n",
    "plot(x, u0, label=\"\")\n",
    "xlabel!(L\"x\")"
   ]
  },
  {
   "cell_type": "markdown",
   "metadata": {},
   "source": [
    "# Set up Time Stepping"
   ]
  },
  {
   "cell_type": "code",
   "execution_count": null,
   "metadata": {},
   "outputs": [],
   "source": [
    "Δt = 0.1;\n",
    "n_steps = 100;\n",
    "\n",
    "u = deepcopy(u0);\n",
    "u_vals = [deepcopy(u)];\n",
    "t_vals = [0.];\n",
    "\n",
    "U = fft(u);\n",
    "for i in 1:n_steps\n",
    "    U = @. exp(Δt*dx^2) * U;\n",
    "    push!(u_vals, deepcopy(real(ifft(U))));\n",
    "    push!(t_vals, i * Δt);\n",
    "end\n"
   ]
  },
  {
   "cell_type": "code",
   "execution_count": null,
   "metadata": {},
   "outputs": [],
   "source": [
    "anim = @animate for (t, u) in zip(t_vals, u_vals)\n",
    "    plot(x, u, label=\"\")\n",
    "    title!(@sprintf(\"t = %.2f\", t))\n",
    "    xlabel!(L\"$x$\")\n",
    "    ylims!(0, 1.5)\n",
    "end"
   ]
  },
  {
   "cell_type": "code",
   "execution_count": null,
   "metadata": {},
   "outputs": [],
   "source": [
    "gif(anim, fps=6)\n"
   ]
  }
 ],
 "metadata": {
  "kernelspec": {
   "display_name": "Julia 1.9.4",
   "language": "julia",
   "name": "julia-1.9"
  },
  "language_info": {
   "file_extension": ".jl",
   "mimetype": "application/julia",
   "name": "julia",
   "version": "1.9.4"
  }
 },
 "nbformat": 4,
 "nbformat_minor": 2
}
