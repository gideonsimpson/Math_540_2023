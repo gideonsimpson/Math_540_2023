{
 "cells": [
  {
   "cell_type": "code",
   "execution_count": null,
   "metadata": {},
   "outputs": [],
   "source": [
    "using Plots\n",
    "using LinearAlgebra\n",
    "using Printf\n",
    "using LaTeXStrings\n",
    "using DifferentialEquations"
   ]
  },
  {
   "cell_type": "code",
   "execution_count": null,
   "metadata": {},
   "outputs": [],
   "source": [
    "default(lw=2, markersize=6,\n",
    "    xtickfont=font(12), ytickfont=font(12),\n",
    "    guidefont=font(14), legendfont=font(12), titlefont=font(12))"
   ]
  },
  {
   "cell_type": "markdown",
   "metadata": {},
   "source": [
    "Solve the heat equation\n",
    "$$\n",
    "u_t = \\kappa u_{xx},\n",
    "$$\n",
    "with periodic boundary conditions using finite differences."
   ]
  },
  {
   "cell_type": "code",
   "execution_count": null,
   "metadata": {},
   "outputs": [],
   "source": [
    "L = 10;\n",
    "κ = 1.0;\n",
    "\n",
    "N = 50;\n",
    "x = LinRange(0, L, N + 1)[1:end-1];\n",
    "Δx = x[2] - x[1];\n",
    "@show Δt = 0.1 * Δx^2;\n",
    "n_steps = 5000;\n",
    "\n",
    "u0 = @. exp(-(x - L / 2)^2);\n",
    "plot(x, u0, label=\"\")\n",
    "xlabel!(L\"$x$\")\n",
    "ylabel!(L\"$u_0$\")"
   ]
  },
  {
   "cell_type": "code",
   "execution_count": null,
   "metadata": {},
   "outputs": [],
   "source": [
    "function integrate_heat_equation1(u0, κ, Δx, Δt, n_steps)\n",
    "    u = deepcopy(u0)\n",
    "    t = 0.0\n",
    "\n",
    "    u_traj = [deepcopy(u)]\n",
    "    t_traj = Float64[t]\n",
    "\n",
    "    u_new = similar(u)\n",
    "\n",
    "    N = length(u)\n",
    "\n",
    "    for n in 1:n_steps\n",
    "        # update u with periodic boundary conditions\n",
    "        u_new[1] = u[1] + κ * Δt / Δx^2 * (u[2] - 2 * u[1] + u[end])\n",
    "        for j in 2:N-1\n",
    "            u_new[j] = u[j] + κ * Δt / Δx^2 * (u[j+1]- 2*u[j] + u[j-1])\n",
    "        end\n",
    "        u_new[end] = u[end] + κ * Δt / Δx^2 * (u[1] - 2 * u[end] + u[end-1])\n",
    "        # copy over\n",
    "        @. u = u_new\n",
    "\n",
    "        t += Δt\n",
    "\n",
    "        push!(u_traj, deepcopy(u))\n",
    "        push!(t_traj, t)\n",
    "    end\n",
    "\n",
    "    return t_traj, u_traj\n",
    "\n",
    "end"
   ]
  },
  {
   "cell_type": "code",
   "execution_count": null,
   "metadata": {},
   "outputs": [],
   "source": [
    "t_traj, u_traj = integrate_heat_equation1(u0, κ, Δx, Δt, n_steps);"
   ]
  },
  {
   "cell_type": "code",
   "execution_count": null,
   "metadata": {},
   "outputs": [],
   "source": [
    "anim = @animate for (n, t) in enumerate(t_traj[1:100:end])\n",
    "    plot(x, u_traj[n], label=\"\")\n",
    "    title!(@sprintf(\"t = %.2f\", t))\n",
    "    xlabel!(L\"$x$\")\n",
    "    ylims!(0,1.5)\n",
    "end"
   ]
  },
  {
   "cell_type": "code",
   "execution_count": null,
   "metadata": {},
   "outputs": [],
   "source": [
    "gif(anim, fps=15)\n"
   ]
  },
  {
   "cell_type": "code",
   "execution_count": null,
   "metadata": {},
   "outputs": [],
   "source": [
    "function fheat!(du, u, p, t)\n",
    "    κ = p[1]\n",
    "    Δx = p[2]\n",
    "    N = length(u)\n",
    "\n",
    "    du[1] = κ / Δx^2 * (u[2] - 2 * u[1] + u[end])\n",
    "    for j in 2:N-1\n",
    "        du[j] = κ / Δx^2 * (u[j+1] - 2 * u[j] + u[j-1])\n",
    "    end\n",
    "    du[end] =κ / Δx^2 * (u[1] - 2 * u[end] + u[end-1])\n",
    "\n",
    "    du\n",
    "end"
   ]
  },
  {
   "cell_type": "code",
   "execution_count": null,
   "metadata": {},
   "outputs": [],
   "source": [
    "p = [κ, Δx]\n",
    "tspan = (0, 10);\n",
    "prob = ODEProblem(fheat!, u0, tspan, p);\n"
   ]
  },
  {
   "cell_type": "code",
   "execution_count": null,
   "metadata": {},
   "outputs": [],
   "source": [
    "t_vals = 0:0.1:10;\n",
    "\n",
    "sol = solve(prob, saveat=t_vals);"
   ]
  },
  {
   "cell_type": "code",
   "execution_count": null,
   "metadata": {},
   "outputs": [],
   "source": [
    "anim = @animate for (t, u) in zip(sol.t, sol.u)\n",
    "    plot(x, u, label=\"\")\n",
    "    title!(@sprintf(\"t = %.2f\", t))\n",
    "    xlabel!(L\"$x$\")\n",
    "    ylims!(0, 1.5)\n",
    "end"
   ]
  },
  {
   "cell_type": "code",
   "execution_count": null,
   "metadata": {},
   "outputs": [],
   "source": [
    "gif(anim, fps=15)\n"
   ]
  }
 ],
 "metadata": {
  "kernelspec": {
   "display_name": "Julia 1.10.0-beta3",
   "language": "julia",
   "name": "julia-1.10"
  },
  "language_info": {
   "file_extension": ".jl",
   "mimetype": "application/julia",
   "name": "julia",
   "version": "1.10.0"
  }
 },
 "nbformat": 4,
 "nbformat_minor": 2
}
