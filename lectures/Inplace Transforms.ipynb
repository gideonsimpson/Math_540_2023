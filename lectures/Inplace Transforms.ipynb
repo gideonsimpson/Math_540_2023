{
 "cells": [
  {
   "cell_type": "code",
   "execution_count": null,
   "id": "455d9f95-cffd-46cf-9d2c-4d20713ecb36",
   "metadata": {},
   "outputs": [],
   "source": [
    "using BenchmarkTools"
   ]
  },
  {
   "cell_type": "markdown",
   "id": "2df3ec16-81f5-4d50-8d6e-db499bcbfa53",
   "metadata": {},
   "source": [
    "# Naive Implementation"
   ]
  },
  {
   "cell_type": "code",
   "execution_count": null,
   "id": "fbe1c737-fd5f-4ff7-9ea3-dfa658ef5725",
   "metadata": {},
   "outputs": [],
   "source": [
    "function f(x)\n",
    "    y = @. sin(x); # vectorized computation\n",
    "    return y; \n",
    "end"
   ]
  },
  {
   "cell_type": "markdown",
   "id": "85b9e341-a515-49b0-ba27-df356f041ec5",
   "metadata": {},
   "source": [
    "# Inplace Implementation"
   ]
  },
  {
   "cell_type": "code",
   "execution_count": null,
   "id": "66f2011e-2b11-44cf-ad9e-0c44054d53e3",
   "metadata": {},
   "outputs": [],
   "source": [
    "function f!(y, x)\n",
    "    @. y = sin(x); # vectorized computation\n",
    "    y\n",
    "end"
   ]
  },
  {
   "cell_type": "code",
   "execution_count": null,
   "id": "ceaff224-0bdf-4a81-99ff-6f72576e97b9",
   "metadata": {},
   "outputs": [],
   "source": [
    "n = 10^6;\n",
    "x = randn(n);\n",
    "y = zeros(n);"
   ]
  },
  {
   "cell_type": "code",
   "execution_count": null,
   "id": "f88ce8be-c324-4e0c-9bb8-7784ef9cc600",
   "metadata": {},
   "outputs": [],
   "source": [
    "@btime y_ = f(x);"
   ]
  },
  {
   "cell_type": "code",
   "execution_count": null,
   "id": "8fabdfc9-a76c-47dc-abca-8630ce05c2cc",
   "metadata": {},
   "outputs": [],
   "source": [
    "@btime f!(y, x);"
   ]
  }
 ],
 "metadata": {
  "kernelspec": {
   "display_name": "Julia 1.9.3",
   "language": "julia",
   "name": "julia-1.9"
  },
  "language_info": {
   "file_extension": ".jl",
   "mimetype": "application/julia",
   "name": "julia",
   "version": "1.9.3"
  }
 },
 "nbformat": 4,
 "nbformat_minor": 5
}
