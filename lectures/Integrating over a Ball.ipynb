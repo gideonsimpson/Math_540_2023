{
 "cells": [
  {
   "cell_type": "code",
   "execution_count": null,
   "metadata": {},
   "outputs": [],
   "source": [
    "using Plots\n",
    "using Random\n",
    "using Distributions\n",
    "using LinearAlgebra\n",
    "using SpecialFunctions"
   ]
  },
  {
   "cell_type": "code",
   "execution_count": null,
   "metadata": {},
   "outputs": [],
   "source": [
    "default(xtickfontsize=14, ytickfontsize=14, ztickfontsize=14,\n",
    "    guidefontsize=14, legendfontsize=12, lw=2, ms=8)"
   ]
  },
  {
   "cell_type": "code",
   "execution_count": null,
   "metadata": {},
   "outputs": [],
   "source": [
    "# setup\n",
    "unif_dist = Uniform(-1, 1);\n",
    "\n",
    "function hypersphere_sampler(d; max_iter=1000)\n",
    "    for _ in 1:max_iter\n",
    "        Y = rand(unif_dist, d)\n",
    "        if (norm(Y) < 1) # defaults to Euclidean 2-norm\n",
    "            return Y\n",
    "        end\n",
    "    end\n",
    "    println(\"ERROR: Failed to sample\")\n",
    "    return -10\n",
    "end\n",
    "\n",
    "function sphere_volume(d)\n",
    "    return sqrt(π^d) / gamma((d / 2) + 1)\n",
    "end"
   ]
  },
  {
   "cell_type": "markdown",
   "metadata": {},
   "source": [
    "# Example 1\n",
    "Integrate $f(x,y) = \\sqrt{1 + x^2 + \\cos(y)^2}$ over the unit ball in $\\mathbb{R}^2$."
   ]
  },
  {
   "cell_type": "code",
   "execution_count": null,
   "metadata": {},
   "outputs": [],
   "source": [
    "f(x) = sqrt(1 + x[1]^2 + cos(x[2])^2);\n",
    "\n",
    "n_samples = 10^6;\n",
    "\n",
    "ball_samples = [hypersphere_sampler(2) for _ in 1:n_samples];\n",
    "@show mean(f.(ball_samples)) * sphere_volume(2);"
   ]
  },
  {
   "cell_type": "code",
   "execution_count": null,
   "metadata": {},
   "outputs": [],
   "source": [
    "x_samples = [X_[1] for X_ in ball_samples];\n",
    "y_samples = [X_[2] for X_ in ball_samples];\n",
    "scatter(x_samples, y_samples, label=\"Samples\", aspect_ratio=:equal)\n",
    "xlabel!(\"x\")\n",
    "ylabel!(\"y\")"
   ]
  }
 ],
 "metadata": {
  "kernelspec": {
   "display_name": "Julia 1.10.0-rc1",
   "language": "julia",
   "name": "julia-1.10"
  },
  "language_info": {
   "file_extension": ".jl",
   "mimetype": "application/julia",
   "name": "julia",
   "version": "1.10.0"
  }
 },
 "nbformat": 4,
 "nbformat_minor": 2
}
