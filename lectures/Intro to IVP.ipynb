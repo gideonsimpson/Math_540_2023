{
 "cells": [
  {
   "cell_type": "code",
   "execution_count": null,
   "id": "136d9e59-0fca-48b0-b738-3c3f62d4cbe8",
   "metadata": {},
   "outputs": [],
   "source": [
    "using Plots\n",
    "using LaTeXStrings\n",
    "using Printf\n",
    "using DifferentialEquations"
   ]
  },
  {
   "cell_type": "code",
   "execution_count": null,
   "id": "fc773698-f62a-4bd2-a45d-f350bb34558b",
   "metadata": {},
   "outputs": [],
   "source": [
    "default(lw=2,markersize = 6,\n",
    "    xtickfont=font(12), ytickfont=font(12), \n",
    "    guidefont=font(14), legendfont=font(12),titlefont=font(12))"
   ]
  },
  {
   "cell_type": "markdown",
   "id": "4ff3649d-9a47-4c91-8659-012d3cec8d22",
   "metadata": {},
   "source": [
    "# Scalar ODE\n",
    "$$\n",
    "u' = \\lambda u\n",
    "$$"
   ]
  },
  {
   "cell_type": "code",
   "execution_count": null,
   "id": "242d46c8-72a4-4032-9889-9d25d766fc6e",
   "metadata": {},
   "outputs": [],
   "source": [
    "function f(u, p, t)\n",
    "    λ = p[1];\n",
    "\n",
    "    return λ * u\n",
    "    \n",
    "end\n",
    "\n",
    "# f(u, p, t) = p[1] * u;"
   ]
  },
  {
   "cell_type": "code",
   "execution_count": null,
   "id": "fd1e53e5-2825-4081-978f-8ba7bc9200ba",
   "metadata": {},
   "outputs": [],
   "source": [
    "u0 = 0.5;\n",
    "tspan = (0., 10.)\n",
    "p = [0.1];\n",
    "\n",
    "prob = ODEProblem(f, u0, tspan, p); # define the problem"
   ]
  },
  {
   "cell_type": "code",
   "execution_count": null,
   "id": "e9421e3a-2e13-428b-a887-52cea5d92fd5",
   "metadata": {},
   "outputs": [],
   "source": [
    "soln = solve(prob) # let it pick the solver"
   ]
  },
  {
   "cell_type": "code",
   "execution_count": null,
   "id": "73df9db7-6e76-4d4a-acda-440c0db2f1ba",
   "metadata": {},
   "outputs": [],
   "source": [
    "plot(soln, label=\"Numerical Solution\")\n",
    "scatter!(soln.t, u0 * exp.(p[1] * soln.t), label=\"Exact Solution\")\n",
    "xlabel!(L\"t\")"
   ]
  },
  {
   "cell_type": "code",
   "execution_count": null,
   "id": "50eb4a28-37e2-47c7-8a92-22f64c76c9b9",
   "metadata": {},
   "outputs": [],
   "source": [
    "soln = solve(prob, saveat = 0.5) # let it pick the solver"
   ]
  },
  {
   "cell_type": "code",
   "execution_count": null,
   "id": "44341536-4959-4c97-a57c-9f7dc41aad1c",
   "metadata": {},
   "outputs": [],
   "source": [
    "plot(soln, label=\"Numerical Solution\")\n",
    "scatter!(soln.t, u0 * exp.(p[1] * soln.t), label=\"Exact Solution\")\n",
    "xlabel!(L\"t\")"
   ]
  },
  {
   "cell_type": "markdown",
   "id": "d7b72b9b-a741-4b86-9cc9-9805b6352121",
   "metadata": {},
   "source": [
    "# Accessing other solvers\n",
    "See a full list at https://docs.sciml.ai/DiffEqDocs/stable/solvers/ode_solve/"
   ]
  },
  {
   "cell_type": "code",
   "execution_count": null,
   "id": "48462a0c-9cba-4b22-8693-cd7b0b785960",
   "metadata": {},
   "outputs": [],
   "source": [
    "soln = solve(prob, dt = 0.5, Euler());\n",
    "# soln = solve(prob,dt = 0.5,  Midpoint());\n",
    "# soln = solve(prob, RK4());\n",
    "# soln = solve(prob, Tsit5());\n",
    "\n",
    "plot(soln, label=\"Numerical Solution\")\n",
    "scatter!(soln.t, u0 * exp.(p[1] * soln.t), label=\"Exact Solution\")\n",
    "xlabel!(L\"t\")"
   ]
  },
  {
   "cell_type": "markdown",
   "id": "13897250-afa7-43b9-92b4-0c0d96d61f2a",
   "metadata": {},
   "source": [
    "# Systems"
   ]
  },
  {
   "cell_type": "markdown",
   "id": "37d64fd8-47f8-48c2-8eb5-e8514667125d",
   "metadata": {},
   "source": [
    "## Linear System\n",
    "$$\n",
    "u' = Au,\n",
    "$$\n",
    "where $A$ is a matrix."
   ]
  },
  {
   "cell_type": "code",
   "execution_count": null,
   "id": "febf6ec0-bd70-449a-9683-c9ff7c54f6af",
   "metadata": {},
   "outputs": [],
   "source": [
    "A = [0 1; -1 0];\n",
    "function linear!(du, u, p, t)\n",
    "    du .= A*u;\n",
    "    du\n",
    "end"
   ]
  },
  {
   "cell_type": "code",
   "execution_count": null,
   "id": "227ae652-a8c0-4c9f-9f89-6626ddae2934",
   "metadata": {},
   "outputs": [],
   "source": [
    "u0 = [1.0, -1.0];\n",
    "tspan = (0., 10.)\n",
    "p = [];\n",
    "\n",
    "prob = ODEProblem(linear!, u0, tspan); # define the problem"
   ]
  },
  {
   "cell_type": "code",
   "execution_count": null,
   "id": "c5f54eb7-dec0-4548-83b1-5661823018c3",
   "metadata": {},
   "outputs": [],
   "source": [
    "soln = solve(prob) # let it pick the solver"
   ]
  },
  {
   "cell_type": "code",
   "execution_count": null,
   "id": "ba148703-99f7-4e5a-827a-bf2ae2341593",
   "metadata": {},
   "outputs": [],
   "source": [
    "plot(soln)"
   ]
  },
  {
   "cell_type": "code",
   "execution_count": null,
   "id": "9125fb4c-fe1f-40ad-a9b1-379ff45deac7",
   "metadata": {},
   "outputs": [],
   "source": [
    "plot(soln, label=[L\"$u_1$\" L\"$u_2$\"] )\n",
    "xlabel!(L\"$t$\")"
   ]
  },
  {
   "cell_type": "code",
   "execution_count": null,
   "id": "46341741-0ab8-4513-8f54-86140c5ddb41",
   "metadata": {},
   "outputs": [],
   "source": [
    "plot(soln,vars=(1), label=\"\" )\n",
    "xlabel!(L\"$t$\")\n",
    "ylabel!(L\"$u_1$\")"
   ]
  },
  {
   "cell_type": "markdown",
   "id": "6e36ed21-c21a-4c19-9f2f-57ed6fef9063",
   "metadata": {},
   "source": [
    "## Nonlinear Systems"
   ]
  },
  {
   "cell_type": "markdown",
   "id": "721bacea-f9b4-4a7e-a0f4-f9fff828872e",
   "metadata": {},
   "source": [
    "### Van Der Pol Oscillator\n",
    "\\begin{align*}\n",
    "u_1' &= u_2\\\\\n",
    "u_2' &= \\mu(1-u_1^2)u_2 - u_1\n",
    "\\end{align*}\n",
    "wherre $\\mu>0$ is a parameter in the system.\n"
   ]
  },
  {
   "cell_type": "code",
   "execution_count": null,
   "id": "42f58a83-4a80-4818-9efa-9b69c85e439f",
   "metadata": {},
   "outputs": [],
   "source": [
    "function vanderpol!(du, u, p, t)\n",
    "    μ = p[1];\n",
    "    du[1] = u[2];\n",
    "    du[2] = μ * (1-u[1]^2)*u[2]-u[1];\n",
    "    \n",
    "    du\n",
    "    \n",
    "end"
   ]
  },
  {
   "cell_type": "code",
   "execution_count": null,
   "id": "a0fbc326-4763-42ce-b7cf-a63da0006b8a",
   "metadata": {},
   "outputs": [],
   "source": [
    "μ = 2.0; # try other values\n",
    "\n",
    "tspan = (0.0, 20.)\n",
    "u0 = [1., 0.5];\n",
    "p = [μ];\n",
    "prob = ODEProblem(vanderpol!, u0, tspan, p);\n"
   ]
  },
  {
   "cell_type": "markdown",
   "id": "0c9ac3ae-c90b-4040-9e75-809af4c4e047",
   "metadata": {},
   "source": [
    "### Lorenz-63"
   ]
  },
  {
   "cell_type": "code",
   "execution_count": null,
   "id": "97e22b3c-23ce-470d-a6bb-ef9466706d07",
   "metadata": {},
   "outputs": [],
   "source": [
    "function lorenz63!(du, u, p, t)\n",
    "    du[1] = 10.0 * (u[2] - u[1])\n",
    "    du[2] = u[1] * (28.0 - u[3]) - u[2]\n",
    "    du[3] = u[1] * u[2] - (8 / 3) * u[3]\n",
    "    du    \n",
    "end"
   ]
  },
  {
   "cell_type": "code",
   "execution_count": null,
   "id": "b09b39f6-ff0f-4c95-8ae1-fc61701f40d1",
   "metadata": {},
   "outputs": [],
   "source": [
    "tspan = (0.0, 100.0)\n",
    "\n",
    "u0 = [1., 1., 1.];\n",
    "prob = ODEProblem(lorenz63!, u0, tspan);\n"
   ]
  },
  {
   "cell_type": "code",
   "execution_count": null,
   "id": "aa03449e-6e44-4ff5-95ae-4f6af29ef9ea",
   "metadata": {},
   "outputs": [],
   "source": [
    "sol = solve(prob,Tsit5());"
   ]
  },
  {
   "cell_type": "code",
   "execution_count": null,
   "id": "a45826cf-6966-46d8-a7b1-5632f651e1c8",
   "metadata": {},
   "outputs": [],
   "source": [
    "plot(sol, label=[L\"$x$\" L\"$y$\" L\"$z$\"] )\n",
    "xlabel!(L\"t\")"
   ]
  },
  {
   "cell_type": "code",
   "execution_count": null,
   "id": "9e4c70ba-89c9-4847-a41f-49e7d692e71c",
   "metadata": {},
   "outputs": [],
   "source": [
    "sol(0.5)"
   ]
  },
  {
   "cell_type": "code",
   "execution_count": null,
   "id": "d583c636-5ce2-450a-a5f7-b8a1fcea4dee",
   "metadata": {},
   "outputs": [],
   "source": [
    "t_anim = 0:0.01:100;\n",
    "\n",
    "plt = plot3d(\n",
    "    1,\n",
    "    xlim = (-30, 30),\n",
    "    ylim = (-30, 30),\n",
    "    zlim = (0, 60),\n",
    "    title = \"Lorenz Attractor\",\n",
    "    legend = false,\n",
    "    marker = 2,\n",
    ")\n",
    "\n",
    "anim = @animate for t in t_anim\n",
    "    u_ = sol(t);\n",
    "    push!(plt, u_[1],  u_[2],  u_[3])\n",
    "    title!(@sprintf(\"t = %.2f\", t))\n",
    "end \n",
    "\n",
    "gif(anim, fps = 30)\n",
    "\n"
   ]
  }
 ],
 "metadata": {
  "kernelspec": {
   "display_name": "Julia 1.9.3",
   "language": "julia",
   "name": "julia-1.9"
  },
  "language_info": {
   "file_extension": ".jl",
   "mimetype": "application/julia",
   "name": "julia",
   "version": "1.9.3"
  }
 },
 "nbformat": 4,
 "nbformat_minor": 5
}
