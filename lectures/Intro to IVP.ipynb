{
 "cells": [
  {
   "cell_type": "code",
   "execution_count": null,
   "id": "136d9e59-0fca-48b0-b738-3c3f62d4cbe8",
   "metadata": {},
   "outputs": [],
   "source": [
    "using Plots\n",
    "using LaTeXStrings\n",
    "using Printf\n",
    "using DifferentialEquations"
   ]
  },
  {
   "cell_type": "code",
   "execution_count": null,
   "id": "fc773698-f62a-4bd2-a45d-f350bb34558b",
   "metadata": {},
   "outputs": [],
   "source": [
    "default(lw=2,markersize = 6,\n",
    "    xtickfont=font(12), ytickfont=font(12), \n",
    "    guidefont=font(14), legendfont=font(12),titlefont=font(12))"
   ]
  },
  {
   "cell_type": "code",
   "execution_count": null,
   "id": "242d46c8-72a4-4032-9889-9d25d766fc6e",
   "metadata": {},
   "outputs": [],
   "source": [
    "function f(u, p, t)\n",
    "    λ = p[1];\n",
    "\n",
    "    return λ * u\n",
    "    \n",
    "end\n",
    "\n",
    "# f(u, p, t) = p[1] * u;"
   ]
  },
  {
   "cell_type": "code",
   "execution_count": null,
   "id": "fd1e53e5-2825-4081-978f-8ba7bc9200ba",
   "metadata": {},
   "outputs": [],
   "source": [
    "u0 = 0.5;\n",
    "tspan = (0., 10.)\n",
    "p = [0.1];\n",
    "\n",
    "prob = ODEProblem(f, u0, tspan, p); # define the problem"
   ]
  },
  {
   "cell_type": "code",
   "execution_count": null,
   "id": "e9421e3a-2e13-428b-a887-52cea5d92fd5",
   "metadata": {},
   "outputs": [],
   "source": [
    "soln = solve(prob) # let it pick the solver"
   ]
  },
  {
   "cell_type": "code",
   "execution_count": null,
   "id": "73df9db7-6e76-4d4a-acda-440c0db2f1ba",
   "metadata": {},
   "outputs": [],
   "source": [
    "plot(soln, label=\"Numerical Solution\")\n",
    "scatter!(soln.t, u0 * exp.(p[1] * soln.t), label=\"Exact Solution\")\n",
    "xlabel!(L\"t\")"
   ]
  },
  {
   "cell_type": "code",
   "execution_count": null,
   "id": "50eb4a28-37e2-47c7-8a92-22f64c76c9b9",
   "metadata": {},
   "outputs": [],
   "source": [
    "soln = solve(prob, saveat = 0.5) # let it pick the solver"
   ]
  },
  {
   "cell_type": "code",
   "execution_count": null,
   "id": "44341536-4959-4c97-a57c-9f7dc41aad1c",
   "metadata": {},
   "outputs": [],
   "source": [
    "plot(soln, label=\"Numerical Solution\")\n",
    "scatter!(soln.t, u0 * exp.(p[1] * soln.t), label=\"Exact Solution\")\n",
    "xlabel!(L\"t\")"
   ]
  },
  {
   "cell_type": "code",
   "execution_count": null,
   "id": "06d2e2eb-2f84-45f7-819a-0b9a5685beb6",
   "metadata": {},
   "outputs": [],
   "source": []
  }
 ],
 "metadata": {
  "kernelspec": {
   "display_name": "Julia 1.9.3",
   "language": "julia",
   "name": "julia-1.9"
  },
  "language_info": {
   "file_extension": ".jl",
   "mimetype": "application/julia",
   "name": "julia",
   "version": "1.9.3"
  }
 },
 "nbformat": 4,
 "nbformat_minor": 5
}
