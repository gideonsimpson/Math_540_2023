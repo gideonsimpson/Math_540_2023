{
 "cells": [
  {
   "cell_type": "code",
   "execution_count": null,
   "id": "bafd41b8-927a-424b-b498-044d78a69ae0",
   "metadata": {},
   "outputs": [],
   "source": [
    "using Plots\n",
    "using Printf\n",
    "using LaTeXStrings\n",
    "using Optim"
   ]
  },
  {
   "cell_type": "code",
   "execution_count": null,
   "id": "c600b771-6f6b-4c63-90de-85268b3a2d72",
   "metadata": {},
   "outputs": [],
   "source": [
    "default(lw=2,markersize = 6,\n",
    "    xtickfont=font(12), ytickfont=font(12), \n",
    "    guidefont=font(14), legendfont=font(12),titlefont=font(12))"
   ]
  },
  {
   "cell_type": "markdown",
   "id": "882fd8a2-797f-4810-98ec-842cb67e372a",
   "metadata": {},
   "source": [
    "# One Dimensional Problem"
   ]
  },
  {
   "cell_type": "code",
   "execution_count": null,
   "id": "ccbad2d6-6811-4692-b6b1-47df4579ef10",
   "metadata": {},
   "outputs": [],
   "source": [
    "f(x) = (x^2-1)^2;\n",
    "xx = LinRange(-1.5, 1.5, 100);\n",
    "plot(xx, f.(xx),label=L\"f\")\n",
    "xlabel!(L\"x\")"
   ]
  },
  {
   "cell_type": "markdown",
   "id": "49a11ddb-9701-4c6f-9ba5-e74db58a1250",
   "metadata": {},
   "source": [
    "To use the optimizer in `Optim.jl` we need to convert this to a problem that takes vector arguments:"
   ]
  },
  {
   "cell_type": "code",
   "execution_count": null,
   "id": "5a9c6f04-53a4-4208-990f-25cefa29b882",
   "metadata": {},
   "outputs": [],
   "source": [
    "fvec(x) = (x[1]^2-1)^2;"
   ]
  },
  {
   "cell_type": "code",
   "execution_count": null,
   "id": "31b9eb91-0a1b-4be4-8686-a79d2e218319",
   "metadata": {},
   "outputs": [],
   "source": [
    "opt = optimize(fvec, [0.5])"
   ]
  },
  {
   "cell_type": "code",
   "execution_count": null,
   "id": "5f856fe3-fe22-4a65-b40f-f9471a788b30",
   "metadata": {},
   "outputs": [],
   "source": [
    "@show opt.minimizer;"
   ]
  },
  {
   "cell_type": "markdown",
   "id": "0ac712a4-039c-4651-91b6-6a71128c3f79",
   "metadata": {},
   "source": [
    "Note that this returns a vector (array) quantity"
   ]
  },
  {
   "cell_type": "code",
   "execution_count": null,
   "id": "4af661a4-2e4b-49e9-8b7c-61170349b531",
   "metadata": {},
   "outputs": [],
   "source": [
    "@show opt.minimum;"
   ]
  },
  {
   "cell_type": "markdown",
   "id": "3b8cd5be-fe82-41b4-b096-c9935c0b7438",
   "metadata": {},
   "source": [
    "## Optimization in 2D"
   ]
  },
  {
   "cell_type": "code",
   "execution_count": null,
   "id": "41b2ed54-3e1d-4102-ac64-4758b425f9a6",
   "metadata": {},
   "outputs": [],
   "source": [
    "function EntropicSwitch(x)\n",
    "    return (3 * exp(-x[1]^2 - (x[2]-1/3)^2)\n",
    "     - 3 * exp(-x[1]^2 - (x[2]-5/3)^2)\n",
    "     - 5 * exp(-(x[1]-1)^2 - x[2]^2)\n",
    "     - 5 * exp(-(x[1]+1)^2 - x[2]^2)\n",
    "     + 1/5 * x[1]^4 + 1/5 * (x[2]-1/3)^4);\n",
    "end\n"
   ]
  },
  {
   "cell_type": "code",
   "execution_count": null,
   "id": "633e27a2-fc98-415c-baac-f2e6bdb81b1d",
   "metadata": {},
   "outputs": [],
   "source": [
    "xx = LinRange(-1.5, 1.5, 100)\n",
    "yy = LinRange(-1, 2.5, 100)\n",
    "contourf(xx, yy, \n",
    "    [EntropicSwitch([x_, y_]) for y_ in yy, x_ in xx], color=:viridis)\n",
    "xlabel!(L\"x\")\n",
    "ylabel!(L\"y\")"
   ]
  },
  {
   "cell_type": "code",
   "execution_count": null,
   "id": "408caf9c-cb87-47d8-9f2a-85dbb41532ba",
   "metadata": {},
   "outputs": [],
   "source": [
    "opt = optimize(EntropicSwitch, [-1., 0.])"
   ]
  },
  {
   "cell_type": "code",
   "execution_count": null,
   "id": "ba6e0e58-fa9f-4dd0-b719-28e8d1e22097",
   "metadata": {},
   "outputs": [],
   "source": [
    "@show opt.minimizer"
   ]
  },
  {
   "cell_type": "code",
   "execution_count": null,
   "id": "c4dfda08-e9a1-4fae-abde-3633f956f03a",
   "metadata": {},
   "outputs": [],
   "source": [
    "xx = LinRange(-1.5, 1.5, 100)\n",
    "yy = LinRange(-1, 2.5, 100)\n",
    "contourf(xx, yy, \n",
    "    [EntropicSwitch([x_, y_]) for y_ in yy, x_ in xx], color=:viridis)\n",
    "scatter!([opt.minimizer[1]],[opt.minimizer[2]], label=\"Minimizer\")\n",
    "xlabel!(L\"x\")\n",
    "ylabel!(L\"y\")"
   ]
  }
 ],
 "metadata": {
  "kernelspec": {
   "display_name": "Julia 1.9.3",
   "language": "julia",
   "name": "julia-1.9"
  },
  "language_info": {
   "file_extension": ".jl",
   "mimetype": "application/julia",
   "name": "julia",
   "version": "1.9.3"
  }
 },
 "nbformat": 4,
 "nbformat_minor": 5
}
