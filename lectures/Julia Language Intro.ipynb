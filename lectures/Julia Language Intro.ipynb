{
 "cells": [
  {
   "cell_type": "markdown",
   "id": "00fc2d69-4013-4752-b37f-02c9bbd8977c",
   "metadata": {},
   "source": [
    "This notebook reviews the Julia material found in the *Nuts and Bolts* lecture notes.  "
   ]
  },
  {
   "cell_type": "markdown",
   "id": "692284f6-05d5-4a45-b588-c04fcf255545",
   "metadata": {},
   "source": [
    "# Hello World"
   ]
  },
  {
   "cell_type": "code",
   "execution_count": null,
   "id": "71c8ee35-0530-4ac5-993f-084f7f755b2a",
   "metadata": {},
   "outputs": [],
   "source": [
    "println(\"Hello World\")"
   ]
  },
  {
   "cell_type": "markdown",
   "id": "b25ca514-de02-4d1a-9d71-1defe260a063",
   "metadata": {},
   "source": [
    "# Variables"
   ]
  },
  {
   "cell_type": "code",
   "execution_count": null,
   "id": "dcc1c69f-cea8-4913-a07b-d56be3fe58a7",
   "metadata": {},
   "outputs": [],
   "source": [
    "x = 5;\n",
    "y = 5.5;\n",
    "name = \"Mario\";\n",
    "k = true;"
   ]
  },
  {
   "cell_type": "code",
   "execution_count": null,
   "id": "2a980853-7e3e-4545-9b54-c4c9cc6a7f12",
   "metadata": {},
   "outputs": [],
   "source": [
    "x"
   ]
  },
  {
   "cell_type": "code",
   "execution_count": null,
   "id": "f23ce1c8-7a44-4619-9f28-cc3ff180cd4b",
   "metadata": {},
   "outputs": [],
   "source": [
    "y"
   ]
  },
  {
   "cell_type": "code",
   "execution_count": null,
   "id": "1e85e7cf-65a4-46f1-b647-c7c7819c8863",
   "metadata": {},
   "outputs": [],
   "source": [
    "name"
   ]
  },
  {
   "cell_type": "code",
   "execution_count": null,
   "id": "3d9830f3-50ca-4678-a49a-faf6cd7e6e38",
   "metadata": {},
   "outputs": [],
   "source": [
    "k"
   ]
  },
  {
   "cell_type": "code",
   "execution_count": null,
   "id": "16fe9429-5c80-4309-8544-533f85e6721c",
   "metadata": {},
   "outputs": [],
   "source": [
    "typeof(x)"
   ]
  },
  {
   "cell_type": "code",
   "execution_count": null,
   "id": "bd26fbb4-2d8e-4181-95a6-134b13980447",
   "metadata": {},
   "outputs": [],
   "source": [
    "@show typeof(x);"
   ]
  },
  {
   "cell_type": "code",
   "execution_count": null,
   "id": "494022e6-c544-408f-a26c-b30832cbc0d6",
   "metadata": {},
   "outputs": [],
   "source": [
    "@show typeof(y);"
   ]
  },
  {
   "cell_type": "code",
   "execution_count": null,
   "id": "f70a9fb7-6665-47f2-92b9-2833574283ee",
   "metadata": {},
   "outputs": [],
   "source": [
    "name"
   ]
  },
  {
   "cell_type": "code",
   "execution_count": null,
   "id": "2415afb7-6742-4864-b3bc-ef254b2862dd",
   "metadata": {},
   "outputs": [],
   "source": [
    "@show typeof(name);"
   ]
  },
  {
   "cell_type": "code",
   "execution_count": null,
   "id": "3a170554-ea41-49c3-b3b0-8fe3fdb8e8b2",
   "metadata": {},
   "outputs": [],
   "source": [
    "typeof(k)"
   ]
  },
  {
   "cell_type": "code",
   "execution_count": null,
   "id": "e66dbf2c-812a-4899-85cb-acb858a268b5",
   "metadata": {},
   "outputs": [],
   "source": [
    "x = [1,2,3];\n",
    "y = LinRange(0,1,11);\n",
    "z = zeros(5);\n"
   ]
  },
  {
   "cell_type": "code",
   "execution_count": null,
   "id": "adbd5ac1-12c8-42db-9f05-f94dcf812f1e",
   "metadata": {},
   "outputs": [],
   "source": [
    "@show x;"
   ]
  },
  {
   "cell_type": "code",
   "execution_count": null,
   "id": "87f985cb-8a05-44dd-b0e1-d2bc3c7b124c",
   "metadata": {},
   "outputs": [],
   "source": [
    "y"
   ]
  },
  {
   "cell_type": "code",
   "execution_count": null,
   "id": "aa41993c-2fa4-4b2f-9661-3d729dd63267",
   "metadata": {},
   "outputs": [],
   "source": [
    "z"
   ]
  },
  {
   "cell_type": "markdown",
   "id": "5c8feb6d-f385-41e5-95ed-6869b6ab187a",
   "metadata": {},
   "source": [
    "# String Formatting"
   ]
  },
  {
   "cell_type": "code",
   "execution_count": null,
   "id": "b03a9c02-948f-4176-9d23-aa92638bc146",
   "metadata": {},
   "outputs": [],
   "source": [
    "using Printf"
   ]
  },
  {
   "cell_type": "code",
   "execution_count": null,
   "id": "20bd683b-60f2-4fcc-99dc-7b98414f2be4",
   "metadata": {},
   "outputs": [],
   "source": [
    "x = 5.343217569;\n",
    "y = -1.0;\n",
    "d = -53;\n",
    "name = \"Mario\";\n",
    "@printf(\"Variables: x = %g, y = %g, d = %d, name = %s\\n\", x,y,d,name);"
   ]
  },
  {
   "cell_type": "markdown",
   "id": "62d6c218-01c3-483f-b0a7-9547a524c627",
   "metadata": {},
   "source": [
    "# If-Then-Else"
   ]
  },
  {
   "cell_type": "code",
   "execution_count": null,
   "id": "2441a532-21b5-4466-bb1f-a29628fa7861",
   "metadata": {},
   "outputs": [],
   "source": [
    "x = 1;\n",
    "y = 0;\n",
    "if x>y\n",
    "    println(\"x > y\");\n",
    "elseif x == y\n",
    "    println(\"x = y\");\n",
    "else\n",
    "    println(\"x < y\");\n",
    "end"
   ]
  },
  {
   "cell_type": "markdown",
   "id": "3290a955-9d8e-48f5-bca6-0314a9e24e98",
   "metadata": {},
   "source": [
    "# Loops"
   ]
  },
  {
   "cell_type": "code",
   "execution_count": null,
   "id": "8524e545-1e7d-437f-a535-e13e012b0be0",
   "metadata": {},
   "outputs": [],
   "source": [
    "n = 5;\n",
    "for i in 1:n\n",
    "    @printf(\"i = %d\\n\",i);\n",
    "end"
   ]
  },
  {
   "cell_type": "markdown",
   "id": "3ae64d07-f2d6-4e62-ae79-d9a9091f96f2",
   "metadata": {},
   "source": [
    "# Basic Mathematical Functions"
   ]
  },
  {
   "cell_type": "code",
   "execution_count": null,
   "id": "04052d28-c827-47b8-afba-5892905524b6",
   "metadata": {},
   "outputs": [],
   "source": [
    "sin(3)"
   ]
  },
  {
   "cell_type": "code",
   "execution_count": null,
   "id": "0b8317f1-db94-419d-a7e8-88579b5dbbd4",
   "metadata": {},
   "outputs": [],
   "source": [
    "log(4)"
   ]
  },
  {
   "cell_type": "code",
   "execution_count": null,
   "id": "f70313e3-ea3c-4705-8f7d-79de4123f823",
   "metadata": {},
   "outputs": [],
   "source": [
    "2^3"
   ]
  },
  {
   "cell_type": "markdown",
   "id": "cccc4395-bc41-47b5-8479-35ead001248b",
   "metadata": {},
   "source": [
    "# Defining Fucntions"
   ]
  },
  {
   "cell_type": "code",
   "execution_count": null,
   "id": "ecf81c30-d1d9-421e-ba07-13e3002b0ab5",
   "metadata": {},
   "outputs": [],
   "source": [
    "function func(x)\n",
    "    return sin(x)^2\n",
    "end"
   ]
  },
  {
   "cell_type": "code",
   "execution_count": null,
   "id": "089e9196-9da2-4fc5-b60f-90745bf45d2b",
   "metadata": {},
   "outputs": [],
   "source": [
    "func(1.0)"
   ]
  },
  {
   "cell_type": "markdown",
   "id": "45a18bb8-fdc7-4635-bc06-cc73783661de",
   "metadata": {},
   "source": [
    "## Anonymous Functions"
   ]
  },
  {
   "cell_type": "code",
   "execution_count": null,
   "id": "13733ea7-4c54-4a06-8346-7c9d5e21b7e8",
   "metadata": {},
   "outputs": [],
   "source": [
    "f = x->sin(x) + x;\n",
    "f(1)"
   ]
  },
  {
   "cell_type": "markdown",
   "id": "6d06301d-9629-481f-8df7-c9c261738ac6",
   "metadata": {},
   "source": [
    "## Passing Functions as Arguments"
   ]
  },
  {
   "cell_type": "code",
   "execution_count": null,
   "id": "40835ad5-a715-46e7-b8da-37eb2452bd7f",
   "metadata": {},
   "outputs": [],
   "source": [
    "function evaluatef2(f, x)\n",
    "    return f(x)^2\n",
    "end\n"
   ]
  },
  {
   "cell_type": "code",
   "execution_count": null,
   "id": "6f92bc19-b976-4a48-a275-0649882624b8",
   "metadata": {},
   "outputs": [],
   "source": [
    "evaluatef2(f, 0.5)"
   ]
  },
  {
   "cell_type": "markdown",
   "id": "c61d4826-5095-4c9f-aaf2-6095358b5f38",
   "metadata": {},
   "source": [
    "# Plotting"
   ]
  },
  {
   "cell_type": "code",
   "execution_count": null,
   "id": "697e2a57-573a-447e-b660-cf864edd0460",
   "metadata": {},
   "outputs": [],
   "source": [
    "using Plots"
   ]
  },
  {
   "cell_type": "code",
   "execution_count": null,
   "id": "8d56021d-3581-4e39-937e-761a0e151962",
   "metadata": {},
   "outputs": [],
   "source": [
    "x = LinRange(0,2* pi,51);\n",
    "y = sin.(x);\n",
    "\n",
    "plot(x,y,linewidth=2, label=\"Sample Data\")\n",
    "title!(\"Sample Plot\")\n",
    "xlabel!(\"x\")\n",
    "ylabel!(\"y\")\n",
    "xlims!(0, 2* pi)\n"
   ]
  },
  {
   "cell_type": "markdown",
   "id": "60253848-84e9-4739-9d37-93314c91d00d",
   "metadata": {},
   "source": [
    "# Random Number Generation"
   ]
  },
  {
   "cell_type": "code",
   "execution_count": null,
   "id": "3d2bc386-c2d6-4d36-ae30-101dbe3dfbb4",
   "metadata": {},
   "outputs": [],
   "source": [
    "rand()"
   ]
  },
  {
   "cell_type": "code",
   "execution_count": null,
   "id": "175d1cf9-311e-4fb7-aa4e-c10727c8652f",
   "metadata": {},
   "outputs": [],
   "source": [
    "randn()"
   ]
  },
  {
   "cell_type": "code",
   "execution_count": null,
   "id": "ab945572-63ae-4052-b9c0-ed0d142a7a47",
   "metadata": {},
   "outputs": [],
   "source": [
    "rand(4)"
   ]
  },
  {
   "cell_type": "code",
   "execution_count": null,
   "id": "1018e165-c996-4d9b-9bcd-139184b6e970",
   "metadata": {},
   "outputs": [],
   "source": [
    "randn(2,2)"
   ]
  },
  {
   "cell_type": "code",
   "execution_count": null,
   "id": "34586a0c-5d28-40f0-9213-c5eb5f9046cc",
   "metadata": {},
   "outputs": [],
   "source": [
    "using Random"
   ]
  },
  {
   "cell_type": "code",
   "execution_count": null,
   "id": "5f3708cb-2f0c-4412-aa89-c958a59fb9e7",
   "metadata": {},
   "outputs": [],
   "source": [
    "Random.seed!(100)"
   ]
  },
  {
   "cell_type": "code",
   "execution_count": null,
   "id": "015092dd-9b16-42b6-8e0d-7f9c15998ad3",
   "metadata": {},
   "outputs": [],
   "source": [
    "randn(5)"
   ]
  },
  {
   "cell_type": "code",
   "execution_count": null,
   "id": "0dd9f0ca-3c13-40e9-b1ee-24c885dd3180",
   "metadata": {},
   "outputs": [],
   "source": [
    "Random.seed!(100)"
   ]
  },
  {
   "cell_type": "code",
   "execution_count": null,
   "id": "4cac6934-70f0-4cdf-be4c-770b7d0039c5",
   "metadata": {},
   "outputs": [],
   "source": [
    "randn()"
   ]
  },
  {
   "cell_type": "code",
   "execution_count": null,
   "id": "4da42a1e-cf98-4e5d-ad9b-ddf7047754f2",
   "metadata": {},
   "outputs": [],
   "source": []
  }
 ],
 "metadata": {
  "kernelspec": {
   "display_name": "Julia 1.9.3",
   "language": "julia",
   "name": "julia-1.9"
  },
  "language_info": {
   "file_extension": ".jl",
   "mimetype": "application/julia",
   "name": "julia",
   "version": "1.9.3"
  }
 },
 "nbformat": 4,
 "nbformat_minor": 5
}
