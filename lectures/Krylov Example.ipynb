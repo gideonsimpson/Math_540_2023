{
 "cells": [
  {
   "cell_type": "code",
   "execution_count": 7,
   "id": "d310cac1-3114-40b9-b9d4-742c5a11e448",
   "metadata": {},
   "outputs": [],
   "source": [
    "using LinearAlgebra\n",
    "using BenchmarkTools\n",
    "using Krylov"
   ]
  },
  {
   "cell_type": "code",
   "execution_count": 8,
   "id": "0f109657-982d-4d32-97a4-17560d7bb7ff",
   "metadata": {},
   "outputs": [],
   "source": [
    "include(\"bvps1d.jl\"); # include source file"
   ]
  },
  {
   "cell_type": "code",
   "execution_count": 9,
   "id": "6c7bb28e-a4ea-489a-abfb-5c4d85e53d49",
   "metadata": {},
   "outputs": [],
   "source": [
    "a = 0;\n",
    "b = 1;"
   ]
  },
  {
   "cell_type": "code",
   "execution_count": 21,
   "id": "2b4413e2-4717-45d8-abc4-b1309343d5e8",
   "metadata": {},
   "outputs": [
    {
     "name": "stdout",
     "output_type": "stream",
     "text": [
      "norm(u - u_cg) = 9.784236091853883e-15\n"
     ]
    },
    {
     "data": {
      "text/plain": [
       "SimpleStats\n",
       " niter: 79\n",
       " solved: true\n",
       " inconsistent: false\n",
       " residuals: []\n",
       " Aresiduals: []\n",
       " κ₂(A): []\n",
       " timer: 81.69μs\n",
       " status: solution good enough given atol and rtol\n"
      ]
     },
     "execution_count": 21,
     "metadata": {},
     "output_type": "execute_result"
    }
   ],
   "source": [
    "n = 80;\n",
    "x = LinRange(a,b,n+1)[2:end-1];\n",
    "Δx = x[2] - x[1];\n",
    "\n",
    "f = @. exp(x);\n",
    "A = assemble_spmatrix(n, Δx);\n",
    "u = A\\f;\n",
    "u_cg, stats_cg = cg(A,f);\n",
    "@show norm(u-u_cg);\n",
    "stats_cg"
   ]
  },
  {
   "cell_type": "code",
   "execution_count": 5,
   "id": "ffa751d2-acc3-4897-8faf-6fe4efd99a58",
   "metadata": {},
   "outputs": [
    {
     "name": "stdout",
     "output_type": "stream",
     "text": [
      "n = 10\n",
      "  36.449 μs (123 allocations: 31.41 KiB)\n",
      "  2.825 μs (11 allocations: 992 bytes)\n",
      "norm(u - u_cg, Inf) = 5.551115123125783e-17\n",
      "n = 20\n",
      "  49.438 μs (123 allocations: 46.94 KiB)\n",
      "  5.893 μs (11 allocations: 1.28 KiB)\n",
      "norm(u - u_cg, Inf) = 1.1102230246251565e-16\n",
      "n = 40\n",
      "  73.120 μs (123 allocations: 78.00 KiB)\n",
      "  15.396 μs (11 allocations: 1.91 KiB)\n",
      "norm(u - u_cg, Inf) = 9.992007221626409e-16\n",
      "n = 80\n",
      "  120.337 μs (123 allocations: 138.25 KiB)\n",
      "  46.703 μs (11 allocations: 3.34 KiB)\n",
      "norm(u - u_cg, Inf) = 1.9984014443252818e-15\n",
      "n = 160\n",
      "  208.777 μs (123 allocations: 257.47 KiB)\n",
      "  149.877 μs (11 allocations: 5.78 KiB)\n",
      "norm(u - u_cg, Inf) = 2.7755575615628914e-15\n"
     ]
    }
   ],
   "source": [
    "n_vals = [10, 20, 40, 80, 160];\n",
    "\n",
    "for n in n_vals\n",
    "    @show n;\n",
    "    x = LinRange(a,b,n+1)[2:end-1];\n",
    "    Δx = x[2] - x[1];\n",
    "\n",
    "    f = @. exp(x);\n",
    "\n",
    "    A = assemble_spmatrix(n, Δx);\n",
    "    @btime u = $A\\$f;\n",
    "    @btime u_cg, _ = cg($A,$f);\n",
    "\n",
    "    u = A\\f;\n",
    "    u_cg, _ = cg(A,f);\n",
    "    @show norm(u - u_cg, Inf);\n",
    "end"
   ]
  },
  {
   "cell_type": "code",
   "execution_count": null,
   "id": "ef97530d-c60e-4987-8d65-0ce5bbf2564f",
   "metadata": {},
   "outputs": [],
   "source": []
  }
 ],
 "metadata": {
  "kernelspec": {
   "display_name": "Julia 1.9.3",
   "language": "julia",
   "name": "julia-1.9"
  },
  "language_info": {
   "file_extension": ".jl",
   "mimetype": "application/julia",
   "name": "julia",
   "version": "1.9.3"
  }
 },
 "nbformat": 4,
 "nbformat_minor": 5
}
