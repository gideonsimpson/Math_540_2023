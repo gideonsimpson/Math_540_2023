{
 "cells": [
  {
   "cell_type": "code",
   "execution_count": null,
   "metadata": {},
   "outputs": [],
   "source": [
    "using Plots\n",
    "using LinearAlgebra\n",
    "using Krylov\n",
    "using Printf\n",
    "using LaTeXStrings\n",
    "using BenchmarkTools\n",
    "include(\"poisson2d.jl\")\n",
    "include(\"laplace2d.jl\")"
   ]
  },
  {
   "cell_type": "code",
   "execution_count": null,
   "metadata": {},
   "outputs": [],
   "source": [
    "default(lw=2, markersize=6,\n",
    "    xtickfont=font(12), ytickfont=font(12),\n",
    "    guidefont=font(14), legendfont=font(12), titlefont=font(12))"
   ]
  },
  {
   "cell_type": "markdown",
   "metadata": {},
   "source": [
    "# Laplace Equation Example\n",
    "Solve\n",
    "$$\n",
    "-\\Delta u = 0\n",
    "$$\n",
    "over $(0,L_x)\\times (0,L_y)$ with Dirichlet boundary conditions on the four edges (North, South, East, West) specified by $g_N$, $g_S$, $g_E$, $g_W$."
   ]
  },
  {
   "cell_type": "code",
   "execution_count": null,
   "metadata": {},
   "outputs": [],
   "source": [
    "Lx = 1;\n",
    "Ly = 1;\n",
    "nx = 99; # (nx-1)×(ny-1) interior points\n",
    "ny = 99;\n",
    "\n",
    "x = LinRange(0, Lx, nx + 2)\n",
    "y = LinRange(0, Ly, ny + 2)\n",
    "\n",
    "@show Δx = x[2] - x[1];\n",
    "@show Δy = y[2] - y[1];\n",
    "\n",
    "\n",
    "xy = [[x_, y_] for x_ in x, y_ in y]; # mesh including boundary points\n",
    "xy_int = [[x_, y_] for x_ in x[2:end-1], y_ in y[2:end-1]]; # interior mesh points"
   ]
  },
  {
   "cell_type": "code",
   "execution_count": null,
   "metadata": {},
   "outputs": [],
   "source": [
    "A = assemble_laplacian2d(Δx, Δy, nx, ny);"
   ]
  },
  {
   "cell_type": "code",
   "execution_count": null,
   "metadata": {},
   "outputs": [],
   "source": [
    "B = zeros(nx*ny);\n",
    "\n",
    "# gS(x) = sin(π*x);\n",
    "gS(x) = 0;\n",
    "gN(x) = exp(x);\n",
    "gE(y) = cos(π *y);\n",
    "# gN(x) = 0;\n",
    "# gE(y) = 0;\n",
    "gW(y) = 0;\n",
    "\n",
    "assemble_laplace_box_rhs!(B, gN, gS, gE, gW, x[2:end-1], y[2:end-1]);"
   ]
  },
  {
   "cell_type": "code",
   "execution_count": null,
   "metadata": {},
   "outputs": [],
   "source": [
    "U = A \\ B;\n",
    "u = reshape(U, nx, ny); # get as a 2D array"
   ]
  },
  {
   "cell_type": "code",
   "execution_count": null,
   "metadata": {},
   "outputs": [],
   "source": [
    "contourf(x[2:end-1], y[2:end-1], u') # note transpose\n",
    "xlabel!(L\"x\")\n",
    "ylabel!(L\"y\")"
   ]
  },
  {
   "cell_type": "code",
   "execution_count": null,
   "metadata": {},
   "outputs": [],
   "source": [
    "# surface(x[2:end-1], y[2:end-1], u')\n",
    "surface(x[2:end-1], y[2:end-1], u', color=:cork)\n",
    "xlabel!(L\"x\")\n",
    "ylabel!(L\"y\")\n",
    "zlabel!(L\"u\")"
   ]
  },
  {
   "cell_type": "code",
   "execution_count": null,
   "metadata": {},
   "outputs": [],
   "source": []
  }
 ],
 "metadata": {
  "kernelspec": {
   "display_name": "Julia 1.10.0-rc1",
   "language": "julia",
   "name": "julia-1.10"
  },
  "language_info": {
   "file_extension": ".jl",
   "mimetype": "application/julia",
   "name": "julia",
   "version": "1.10.0"
  }
 },
 "nbformat": 4,
 "nbformat_minor": 4
}
