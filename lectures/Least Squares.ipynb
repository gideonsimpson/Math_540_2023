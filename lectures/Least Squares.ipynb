{
 "cells": [
  {
   "cell_type": "code",
   "execution_count": null,
   "id": "b6e0d052-e791-4eaa-a520-70fa35221452",
   "metadata": {},
   "outputs": [],
   "source": [
    "using Plots\n",
    "using LinearAlgebra\n",
    "using Polynomials\n",
    "using LaTeXStrings"
   ]
  },
  {
   "cell_type": "code",
   "execution_count": null,
   "id": "f400b18d-974c-4694-bd9f-b51913136179",
   "metadata": {},
   "outputs": [],
   "source": [
    "default(lw=2,markersize = 6,\n",
    "    xtickfont=font(12), ytickfont=font(12), \n",
    "    guidefont=font(14), legendfont=font(12),titlefont=font(12))"
   ]
  },
  {
   "cell_type": "code",
   "execution_count": null,
   "id": "f170e255-aec3-4140-a701-b2ade9d1e34e",
   "metadata": {},
   "outputs": [],
   "source": [
    "m = 25;\n",
    "t = LinRange(0,1,m);\n",
    "b = @. cos(4*t);"
   ]
  },
  {
   "cell_type": "code",
   "execution_count": null,
   "id": "23de2caa-b33b-454f-9113-5846733b8901",
   "metadata": {},
   "outputs": [],
   "source": [
    "scatter(t, b, label=\"Data\")\n",
    "xlabel!(L\"t\")"
   ]
  },
  {
   "cell_type": "code",
   "execution_count": null,
   "id": "dea11c19-464c-4aeb-b8c1-e4cf9443d5f5",
   "metadata": {},
   "outputs": [],
   "source": [
    "# construct design matrix\n",
    "n = 20; # fit up to degree n-1 polynomials\n",
    "A=zeros(m,n);\n",
    "for j in 1:n\n",
    "    @. A[:,j] = t^(j-1);  # build the columns up\n",
    "end"
   ]
  },
  {
   "cell_type": "code",
   "execution_count": null,
   "id": "c05c3b87-0452-4b9b-9681-4cd97a2f1496",
   "metadata": {},
   "outputs": [],
   "source": [
    "@show cond(A);\n",
    "@show cond(A'*A);"
   ]
  },
  {
   "cell_type": "code",
   "execution_count": null,
   "id": "d9282e79-cd43-4120-93c5-877a33d67af6",
   "metadata": {},
   "outputs": [],
   "source": [
    "# Solve normal equations\n",
    "x_normal = (A' * A)\\(A' * b);\n",
    "\n",
    "# Solve by built in least squares\n",
    "x_lsq = A\\b;"
   ]
  },
  {
   "cell_type": "code",
   "execution_count": null,
   "id": "7b75b756-5695-41e5-9e88-a1e705a917d1",
   "metadata": {},
   "outputs": [],
   "source": [
    "scatter(0:n-1,x_normal,marker=:auto, label=\"Normal\")\n",
    "scatter!(0:n-1,x_lsq,marker=:auto, label = \"LSQ\")\n",
    "xlabel!(L\"j\");\n",
    "ylabel!(L\"Regressed $x_j$\")"
   ]
  },
  {
   "cell_type": "code",
   "execution_count": null,
   "id": "4a55b1fe-940e-4420-93c6-cc26fac2f21b",
   "metadata": {},
   "outputs": [],
   "source": [
    "@show norm(x_lsq - x_normal,Inf);"
   ]
  },
  {
   "cell_type": "markdown",
   "id": "0878e0c3-da4f-42f6-954a-2f9ca39356aa",
   "metadata": {},
   "source": [
    "Note that the function `Polynomial` turns an array of coefficients into the corresponding polynomial function which can then be evaluated."
   ]
  },
  {
   "cell_type": "code",
   "execution_count": null,
   "id": "ee59bab6-a9fd-48ed-b273-037916085131",
   "metadata": {},
   "outputs": [],
   "source": [
    "p_normal = Polynomial(x_normal);\n",
    "p_lsq = Polynomial(x_lsq);\n",
    "\n",
    "tt = LinRange(0,1,100);\n",
    "\n",
    "scatter(t, b, label=\"Data\")\n",
    "plot!(tt, cos.(4*tt), ls=:dash,label=\"Truth\")\n",
    "plot!(tt, p_normal.(tt),label=\"Normal\")\n",
    "plot!(tt, p_lsq.(tt),label=\"LSQ\")\n",
    "xlabel!(L\"t\")"
   ]
  }
 ],
 "metadata": {
  "kernelspec": {
   "display_name": "Julia 1.9.3",
   "language": "julia",
   "name": "julia-1.9"
  },
  "language_info": {
   "file_extension": ".jl",
   "mimetype": "application/julia",
   "name": "julia",
   "version": "1.9.3"
  }
 },
 "nbformat": 4,
 "nbformat_minor": 5
}
