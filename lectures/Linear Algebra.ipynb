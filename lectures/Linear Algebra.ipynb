{
 "cells": [
  {
   "cell_type": "code",
   "execution_count": null,
   "id": "cf87597e-a0a0-48f1-a68b-d3e1acf91d94",
   "metadata": {},
   "outputs": [],
   "source": [
    "using LinearAlgebra"
   ]
  },
  {
   "cell_type": "markdown",
   "id": "e0400092-a60e-4046-b7da-11a8ac032f07",
   "metadata": {},
   "source": [
    "## Constructing Vectors"
   ]
  },
  {
   "cell_type": "code",
   "execution_count": null,
   "id": "18a308dd-f0e0-482d-a9ec-c43a04e46bcf",
   "metadata": {},
   "outputs": [],
   "source": [
    "x = [1, 2, 3] # interpreted as integers"
   ]
  },
  {
   "cell_type": "code",
   "execution_count": null,
   "id": "89ddc237-24c3-440d-bc7e-dd7373318f89",
   "metadata": {},
   "outputs": [],
   "source": [
    "x = [1 2 3] # no commmas"
   ]
  },
  {
   "cell_type": "code",
   "execution_count": null,
   "id": "2a3ea5c8-f228-4e32-9e56-2e7ec5f1f2d9",
   "metadata": {},
   "outputs": [],
   "source": [
    "x = [1;2;3]"
   ]
  },
  {
   "cell_type": "markdown",
   "id": "6a639463-ddc0-4baa-ab65-659c777192ee",
   "metadata": {},
   "source": [
    "Generally, prefer to work with column vectors"
   ]
  },
  {
   "cell_type": "code",
   "execution_count": null,
   "id": "ebe6b2c7-ab65-4359-84bc-c2ca3189b206",
   "metadata": {},
   "outputs": [],
   "source": [
    "z = zeros(5)"
   ]
  },
  {
   "cell_type": "code",
   "execution_count": null,
   "id": "b19c5b47-426e-4b84-823d-ddbb88b61f3a",
   "metadata": {},
   "outputs": [],
   "source": [
    "e = ones(4)"
   ]
  },
  {
   "cell_type": "code",
   "execution_count": null,
   "id": "df19e366-abec-4b24-ba8b-75d52261f51c",
   "metadata": {},
   "outputs": [],
   "source": [
    "u = rand(5)"
   ]
  },
  {
   "cell_type": "code",
   "execution_count": null,
   "id": "5c25bdb5-7fee-44d5-97f0-a2ef7db6f23d",
   "metadata": {},
   "outputs": [],
   "source": [
    "x = LinRange(0,1,11)"
   ]
  },
  {
   "cell_type": "code",
   "execution_count": null,
   "id": "ac0c8416-47a9-4fbc-be40-4e68eddab211",
   "metadata": {},
   "outputs": [],
   "source": [
    "x = LinRange(0,1,11)|>collect # concrete version of the above array"
   ]
  },
  {
   "cell_type": "code",
   "execution_count": null,
   "id": "50b0c1a9-2142-4295-8107-11e5c3c75210",
   "metadata": {},
   "outputs": [],
   "source": [
    "x = 0:0.1:1"
   ]
  },
  {
   "cell_type": "code",
   "execution_count": null,
   "id": "5b80a07f-2375-4ff5-b021-0e73074e159b",
   "metadata": {},
   "outputs": [],
   "source": [
    "x = 0:0.1:1|>collect"
   ]
  },
  {
   "cell_type": "code",
   "execution_count": null,
   "id": "55113805-21ef-439e-bbbe-9f3265ca079f",
   "metadata": {},
   "outputs": [],
   "source": [
    "x = [1, 2, 3] # interpreted as integers\n",
    "x[1]=0.5"
   ]
  },
  {
   "cell_type": "code",
   "execution_count": null,
   "id": "6bf22cee-f0fc-4cc3-989d-7430aa0a3ec2",
   "metadata": {},
   "outputs": [],
   "source": [
    "x = [1., 2., 3.]"
   ]
  },
  {
   "cell_type": "code",
   "execution_count": null,
   "id": "fd78cee1-eb1e-49df-a252-e0efda36db26",
   "metadata": {},
   "outputs": [],
   "source": [
    "x = Float64[1, 2, 3] #explicit casting\n",
    "x[1] = 0.5"
   ]
  },
  {
   "cell_type": "markdown",
   "id": "24f1c20f-6ce4-4bf3-b283-720eca39f8b7",
   "metadata": {},
   "source": [
    "## Matrices"
   ]
  },
  {
   "cell_type": "code",
   "execution_count": null,
   "id": "9a655034-9ded-40e2-9cb3-6b0d5b80ab78",
   "metadata": {},
   "outputs": [],
   "source": [
    "A = [1 2 3; 4 5 6] # defaults to integers"
   ]
  },
  {
   "cell_type": "code",
   "execution_count": null,
   "id": "b0c0f837-ba3c-4147-8660-fc6f54e1ef28",
   "metadata": {},
   "outputs": [],
   "source": [
    "A = [1, 2, 3; 4, 5, 6] # does not work"
   ]
  },
  {
   "cell_type": "code",
   "execution_count": null,
   "id": "8464377a-8700-4ef0-a61c-6833b9cc568b",
   "metadata": {},
   "outputs": [],
   "source": [
    "A = [1. 2 3; 4 5 6]"
   ]
  },
  {
   "cell_type": "code",
   "execution_count": null,
   "id": "e291e63d-0920-4eac-8bfa-9fe118b57a14",
   "metadata": {},
   "outputs": [],
   "source": [
    "B = ones(5,2)"
   ]
  },
  {
   "cell_type": "code",
   "execution_count": null,
   "id": "6c5c4693-be44-4bfa-8fc7-f6663cd12063",
   "metadata": {},
   "outputs": [],
   "source": [
    "C = zeros(2,4)"
   ]
  },
  {
   "cell_type": "markdown",
   "id": "7cbdbab3-277a-4685-93e0-516966d50871",
   "metadata": {},
   "source": [
    "## Linear Algebra Operations"
   ]
  },
  {
   "cell_type": "code",
   "execution_count": null,
   "id": "c216c86f-e5a0-4f15-a535-0839a5d965a8",
   "metadata": {},
   "outputs": [],
   "source": [
    "x = [1,2];\n",
    "y = [3,-1];\n",
    "A = [2 -2; 1 -3];"
   ]
  },
  {
   "cell_type": "code",
   "execution_count": null,
   "id": "9e8fbc18-011c-4a89-99ec-caba1d12152d",
   "metadata": {},
   "outputs": [],
   "source": [
    "z = A*x - 3*y"
   ]
  },
  {
   "cell_type": "code",
   "execution_count": null,
   "id": "9d344eb5-a978-462b-8b26-da88ac3ab07b",
   "metadata": {},
   "outputs": [],
   "source": [
    "x"
   ]
  },
  {
   "cell_type": "code",
   "execution_count": null,
   "id": "7b97de89-694c-46b2-8e28-1e59b9953805",
   "metadata": {},
   "outputs": [],
   "source": [
    "x'"
   ]
  },
  {
   "cell_type": "code",
   "execution_count": null,
   "id": "7c9609a9-02f7-4bf1-8b3c-7dfda854f92a",
   "metadata": {},
   "outputs": [],
   "source": [
    "u = [1*im,2-1*im]"
   ]
  },
  {
   "cell_type": "code",
   "execution_count": null,
   "id": "6ed49c02-93f8-49fe-b633-a03f11051466",
   "metadata": {},
   "outputs": [],
   "source": [
    "u' # conjugate transpose"
   ]
  },
  {
   "cell_type": "code",
   "execution_count": null,
   "id": "9357c0d2-ba76-4c25-b81c-48a0b0a598d2",
   "metadata": {},
   "outputs": [],
   "source": [
    "transpose(u) # no complex conjugation"
   ]
  },
  {
   "cell_type": "code",
   "execution_count": null,
   "id": "c7fba9c3-d819-4bdf-885b-094d10b53a3a",
   "metadata": {},
   "outputs": [],
   "source": [
    "x = [1,2];\n",
    "A = Float64[2 -2; 1 -3];"
   ]
  },
  {
   "cell_type": "code",
   "execution_count": null,
   "id": "b0d07c53-9b66-4185-9e8e-1e9ae6d4e0ef",
   "metadata": {},
   "outputs": [],
   "source": [
    "A*x"
   ]
  },
  {
   "cell_type": "code",
   "execution_count": null,
   "id": "8426a829-ee8f-4b9f-931b-dcf29c4f473e",
   "metadata": {},
   "outputs": [],
   "source": [
    "A'"
   ]
  },
  {
   "cell_type": "code",
   "execution_count": null,
   "id": "b362cd1c-06cd-4395-b078-7f3a8c7c05a4",
   "metadata": {},
   "outputs": [],
   "source": [
    "x'*y"
   ]
  },
  {
   "cell_type": "code",
   "execution_count": null,
   "id": "3f2f38e7-3689-47fa-b274-7ab4bb0ade28",
   "metadata": {},
   "outputs": [],
   "source": [
    "dot(x,y)"
   ]
  },
  {
   "cell_type": "code",
   "execution_count": null,
   "id": "90411411-0b4d-49ef-9c12-380bc2f368fd",
   "metadata": {},
   "outputs": [],
   "source": [
    "x ⋅ y"
   ]
  },
  {
   "cell_type": "markdown",
   "id": "7b1ed3f6-3b5a-468b-bdab-28b3ec60818a",
   "metadata": {},
   "source": [
    "## Norms"
   ]
  },
  {
   "cell_type": "code",
   "execution_count": null,
   "id": "bfeeed78-8c21-476d-a8b0-6efa35d28ee5",
   "metadata": {},
   "outputs": [],
   "source": [
    "x"
   ]
  },
  {
   "cell_type": "code",
   "execution_count": null,
   "id": "f27dd5c4-ccfa-49b9-bef0-ac7ef5189e63",
   "metadata": {},
   "outputs": [],
   "source": [
    "norm(x) # 2 -norm"
   ]
  },
  {
   "cell_type": "code",
   "execution_count": null,
   "id": "306113e5-959f-4f77-b049-d607d0498573",
   "metadata": {},
   "outputs": [],
   "source": [
    "norm(x, 1) # 1 -norm"
   ]
  },
  {
   "cell_type": "code",
   "execution_count": null,
   "id": "11a480c4-58d6-423c-ab37-029d17c4bce9",
   "metadata": {},
   "outputs": [],
   "source": [
    "norm(x, Inf) # ∞-norm"
   ]
  },
  {
   "cell_type": "code",
   "execution_count": null,
   "id": "757f8df8-3612-4f26-aa70-d86ff5f96a55",
   "metadata": {},
   "outputs": [],
   "source": [
    "A"
   ]
  },
  {
   "cell_type": "code",
   "execution_count": null,
   "id": "d79fa6bc-9b93-4457-8507-d19871d3cb27",
   "metadata": {},
   "outputs": [],
   "source": [
    "norm(A)  # Frobenius norm"
   ]
  },
  {
   "cell_type": "code",
   "execution_count": null,
   "id": "d82dff94-4b7f-4844-a028-435ca4ea2d67",
   "metadata": {},
   "outputs": [],
   "source": [
    "sqrt(sum(A[:].^2)) # Frobenius norm"
   ]
  },
  {
   "cell_type": "markdown",
   "id": "d6d53854-ddf7-41d5-aa9d-1b71641bfbc5",
   "metadata": {},
   "source": [
    "Typical operator norm:\n",
    "$$\n",
    "\\sup_{x \\neq 0}\\frac{\\|Ax\\|_p}{\\|x\\|_p}\n",
    "$$"
   ]
  },
  {
   "cell_type": "code",
   "execution_count": null,
   "id": "5f45bf54-f69a-4f3a-91f5-d54f74a27571",
   "metadata": {},
   "outputs": [],
   "source": [
    "opnorm(A) # 2 operator norm by default"
   ]
  },
  {
   "cell_type": "code",
   "execution_count": null,
   "id": "8855c35b-1984-44f8-ae03-6c8eb58df8dd",
   "metadata": {},
   "outputs": [],
   "source": [
    "opnorm(A,1) # 1 operator norm"
   ]
  },
  {
   "cell_type": "markdown",
   "id": "7edaa234-03e1-4b49-8552-bd1d5a21c813",
   "metadata": {},
   "source": [
    "## Condition Numbers"
   ]
  },
  {
   "cell_type": "markdown",
   "id": "01a90cf8-5fa9-4321-b609-3e5dbe05adcb",
   "metadata": {},
   "source": [
    "$p$-norm condition number of a matrix $A$:\n",
    "$$\n",
    "\\kappa_p(A) = \\|A\\|_p \\|A^+\\|_p\n",
    "$$\n",
    "where $A^+$ is the Moore-Penrose pseudo inverse"
   ]
  },
  {
   "cell_type": "code",
   "execution_count": null,
   "id": "6a203e6e-efaa-4c90-a989-e790196a7603",
   "metadata": {},
   "outputs": [],
   "source": [
    "cond(A) # κ_2 condition number"
   ]
  },
  {
   "cell_type": "code",
   "execution_count": null,
   "id": "0e99bfb3-ea93-4ef1-bbff-bf0440e91142",
   "metadata": {},
   "outputs": [],
   "source": [
    "cond(A, 1)"
   ]
  },
  {
   "cell_type": "code",
   "execution_count": null,
   "id": "4f9244bd-9ad6-48b5-935d-4ad3fe7253f4",
   "metadata": {},
   "outputs": [],
   "source": [
    "cond(A,Inf)"
   ]
  },
  {
   "cell_type": "markdown",
   "id": "1fca0c01-fd0b-4e76-849c-02718641ed2d",
   "metadata": {},
   "source": [
    "## Solving Linear Systems"
   ]
  },
  {
   "cell_type": "code",
   "execution_count": null,
   "id": "06b515a9-6564-44a6-b966-f1ad57ded4ed",
   "metadata": {},
   "outputs": [],
   "source": [
    "A = [2 3; 5 4];\n",
    "b = [8; 13];"
   ]
  },
  {
   "cell_type": "code",
   "execution_count": null,
   "id": "f109e093-cef8-4881-9ab0-c9e8062bee32",
   "metadata": {},
   "outputs": [],
   "source": [
    "x = A\\b # solves Ax = b"
   ]
  },
  {
   "cell_type": "markdown",
   "id": "2d3b703b-8f88-421b-9111-28b4d8142df7",
   "metadata": {},
   "source": [
    "for nonsingular square systems, that uses LU"
   ]
  },
  {
   "cell_type": "code",
   "execution_count": null,
   "id": "494936ee-d6f0-4255-8e5e-04a752289a15",
   "metadata": {},
   "outputs": [],
   "source": []
  }
 ],
 "metadata": {
  "kernelspec": {
   "display_name": "Julia 1.9.3",
   "language": "julia",
   "name": "julia-1.9"
  },
  "language_info": {
   "file_extension": ".jl",
   "mimetype": "application/julia",
   "name": "julia",
   "version": "1.9.3"
  }
 },
 "nbformat": 4,
 "nbformat_minor": 5
}
