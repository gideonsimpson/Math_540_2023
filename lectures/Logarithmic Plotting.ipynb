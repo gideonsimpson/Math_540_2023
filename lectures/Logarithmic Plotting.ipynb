{
 "cells": [
  {
   "cell_type": "code",
   "execution_count": null,
   "id": "f7819d45-2003-45d2-a7da-3ec17c220a01",
   "metadata": {},
   "outputs": [],
   "source": [
    "using Plots\n",
    "using LaTeXStrings\n",
    "using Printf"
   ]
  },
  {
   "cell_type": "code",
   "execution_count": null,
   "id": "3d1c27a5-31e5-4377-8463-559d3e72e058",
   "metadata": {},
   "outputs": [],
   "source": [
    "default(lw=2,markersize = 6,\n",
    "    xtickfont=font(12), ytickfont=font(12), \n",
    "    guidefont=font(14), legendfont=font(12),titlefont=font(12))"
   ]
  },
  {
   "cell_type": "code",
   "execution_count": null,
   "id": "79074446-719e-4c6f-9f8c-b7be1f4f27dd",
   "metadata": {},
   "outputs": [],
   "source": [
    "x = LinRange(0,10,100);\n",
    "plot(x, exp.(x.^2))"
   ]
  },
  {
   "cell_type": "code",
   "execution_count": null,
   "id": "7fd3babd-a71a-4a0f-baf7-a5bdcf2721eb",
   "metadata": {},
   "outputs": [],
   "source": [
    "x = LinRange(0,10,100);\n",
    "plot(x, exp.(x.^2), yscale=:log10)"
   ]
  },
  {
   "cell_type": "code",
   "execution_count": null,
   "id": "8504d747-c43f-44ac-81e3-027623ddde82",
   "metadata": {},
   "outputs": [],
   "source": [
    "x = 2.0 .^(0:0.1:4)\n",
    "plot(x, exp.(x), xscale=:log10, yscale=:log10)"
   ]
  },
  {
   "cell_type": "code",
   "execution_count": null,
   "id": "1d3d0dc7-8847-4460-8518-fd011f5ae40c",
   "metadata": {},
   "outputs": [],
   "source": [
    "x = 2.0 .^(0:0.1:4)\n",
    "plot(x, x.^2, xscale=:log10)"
   ]
  }
 ],
 "metadata": {
  "kernelspec": {
   "display_name": "Julia 1.9.3",
   "language": "julia",
   "name": "julia-1.9"
  },
  "language_info": {
   "file_extension": ".jl",
   "mimetype": "application/julia",
   "name": "julia",
   "version": "1.9.3"
  }
 },
 "nbformat": 4,
 "nbformat_minor": 5
}
