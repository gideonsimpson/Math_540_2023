{
 "cells": [
  {
   "cell_type": "code",
   "execution_count": null,
   "id": "fac06079-ac57-42cb-9d2a-f72776f71767",
   "metadata": {},
   "outputs": [],
   "source": [
    "using LinearAlgebra"
   ]
  },
  {
   "cell_type": "markdown",
   "id": "da1c67f2-ba63-40dc-80ae-9b9d9519505c",
   "metadata": {},
   "source": [
    "# LU"
   ]
  },
  {
   "cell_type": "code",
   "execution_count": null,
   "id": "facadcfe-b541-4b60-b4e5-66e12861b42d",
   "metadata": {},
   "outputs": [],
   "source": [
    "A = [2 3; 5 4]"
   ]
  },
  {
   "cell_type": "code",
   "execution_count": null,
   "id": "5ec0b366-5398-4645-a96a-a9c4f39868b2",
   "metadata": {},
   "outputs": [],
   "source": [
    "F = lu(A) # F for factorization"
   ]
  },
  {
   "cell_type": "code",
   "execution_count": null,
   "id": "b1525384-7662-408c-9193-d3d066dc5b2c",
   "metadata": {},
   "outputs": [],
   "source": [
    "F.P"
   ]
  },
  {
   "cell_type": "code",
   "execution_count": null,
   "id": "4fbcbf90-a1b4-449e-a26b-4600f32f22e3",
   "metadata": {},
   "outputs": [],
   "source": [
    "F.L * F.U"
   ]
  },
  {
   "cell_type": "code",
   "execution_count": null,
   "id": "18b39277-d1fd-450a-9f14-c892d75af79a",
   "metadata": {},
   "outputs": [],
   "source": [
    "F.P * A"
   ]
  },
  {
   "cell_type": "code",
   "execution_count": null,
   "id": "a69a1155-2196-47f8-a9b8-807afa0d4b15",
   "metadata": {},
   "outputs": [],
   "source": [
    "L, U =Llu(A)"
   ]
  },
  {
   "cell_type": "code",
   "execution_count": null,
   "id": "2d396294-b82d-48c5-9c0e-0efd4a818b11",
   "metadata": {},
   "outputs": [],
   "source": [
    "L"
   ]
  },
  {
   "cell_type": "code",
   "execution_count": null,
   "id": "8c3b642b-06ee-4f82-a49f-a61abba15933",
   "metadata": {},
   "outputs": [],
   "source": [
    "U"
   ]
  },
  {
   "cell_type": "code",
   "execution_count": null,
   "id": "b7719c8d-a274-48b6-8354-5736af828d06",
   "metadata": {},
   "outputs": [],
   "source": [
    "F.p # permutation vector for row permutation matrix F.P"
   ]
  },
  {
   "cell_type": "code",
   "execution_count": null,
   "id": "413a0b23-a89f-494a-817b-02c0e9eb8264",
   "metadata": {},
   "outputs": [],
   "source": [
    "F.P"
   ]
  },
  {
   "cell_type": "markdown",
   "id": "70027adc-8b4b-4720-82cb-61a38d51b571",
   "metadata": {},
   "source": [
    "# Cholesky"
   ]
  },
  {
   "cell_type": "code",
   "execution_count": null,
   "id": "4896b7b3-5413-4adc-97f4-d5d020b5e842",
   "metadata": {},
   "outputs": [],
   "source": [
    "A"
   ]
  },
  {
   "cell_type": "code",
   "execution_count": null,
   "id": "67cf3649-d3e3-41b7-8d53-ca4988ccaae1",
   "metadata": {},
   "outputs": [],
   "source": [
    "cholesky(A)"
   ]
  },
  {
   "cell_type": "code",
   "execution_count": null,
   "id": "cf16df7d-36c9-46b8-ad2a-3351c2892400",
   "metadata": {},
   "outputs": [],
   "source": [
    "B = [2 -1; -1 1]"
   ]
  },
  {
   "cell_type": "code",
   "execution_count": null,
   "id": "9ba17335-1bb6-49b0-8519-4d4c62c742f0",
   "metadata": {},
   "outputs": [],
   "source": [
    "cholesky(B)"
   ]
  },
  {
   "cell_type": "code",
   "execution_count": null,
   "id": "08f7f2a6-769d-46d4-b0b0-4c6ce11772c4",
   "metadata": {},
   "outputs": [],
   "source": [
    "F = cholesky(B)"
   ]
  },
  {
   "cell_type": "code",
   "execution_count": null,
   "id": "ea06aa6b-7a38-4549-a1c9-80c3fbcc557c",
   "metadata": {},
   "outputs": [],
   "source": [
    "F.L"
   ]
  },
  {
   "cell_type": "code",
   "execution_count": null,
   "id": "2b57ddb5-2164-4f44-a132-5e12af16ffc5",
   "metadata": {},
   "outputs": [],
   "source": [
    "F.U"
   ]
  },
  {
   "cell_type": "markdown",
   "id": "68230023-0cd2-495a-834b-9d27964ed6a9",
   "metadata": {},
   "source": [
    "# QR"
   ]
  },
  {
   "cell_type": "code",
   "execution_count": null,
   "id": "ffe15392-d2a3-4ce4-965d-edf39301c6fb",
   "metadata": {},
   "outputs": [],
   "source": [
    "F = qr(A)"
   ]
  },
  {
   "cell_type": "code",
   "execution_count": null,
   "id": "4c8e4eda-cda2-40f0-b57f-09357e806451",
   "metadata": {},
   "outputs": [],
   "source": [
    "F.Q"
   ]
  },
  {
   "cell_type": "code",
   "execution_count": null,
   "id": "dea02a8e-66dc-4dfa-aa6b-fcacacd84e4c",
   "metadata": {},
   "outputs": [],
   "source": [
    "F.R"
   ]
  },
  {
   "cell_type": "code",
   "execution_count": null,
   "id": "26a9f1fe-2439-4116-b6c6-31d3b3fdb510",
   "metadata": {},
   "outputs": [],
   "source": [
    "F.Q * F.R"
   ]
  },
  {
   "cell_type": "markdown",
   "id": "3fe6dc81-2126-4503-9540-6d5f6925151e",
   "metadata": {},
   "source": [
    "# SVD"
   ]
  },
  {
   "cell_type": "code",
   "execution_count": null,
   "id": "f45966fc-5c3a-49c5-bd74-97d3bcbabd41",
   "metadata": {},
   "outputs": [],
   "source": [
    "F = svd(A)"
   ]
  },
  {
   "cell_type": "code",
   "execution_count": null,
   "id": "6c549e45-d8f9-40bd-9c4a-6c97052183f2",
   "metadata": {},
   "outputs": [],
   "source": [
    "F.S # singular values stored in a vector"
   ]
  },
  {
   "cell_type": "code",
   "execution_count": null,
   "id": "0b121099-8f39-4a9d-9789-15e06f8d29ae",
   "metadata": {},
   "outputs": [],
   "source": [
    "F.U"
   ]
  },
  {
   "cell_type": "code",
   "execution_count": null,
   "id": "35ffce34-0187-4b82-b650-bd8e8a1083a6",
   "metadata": {},
   "outputs": [],
   "source": [
    "F.V"
   ]
  },
  {
   "cell_type": "code",
   "execution_count": null,
   "id": "89bf2045-a6dc-41bb-9c2b-87591b5911dd",
   "metadata": {},
   "outputs": [],
   "source": [
    "F.Vt"
   ]
  },
  {
   "cell_type": "markdown",
   "id": "92591102-5a56-412a-a9cc-4054d6eed562",
   "metadata": {},
   "source": [
    "# Eigenvalues and Eigenvectors"
   ]
  },
  {
   "cell_type": "code",
   "execution_count": null,
   "id": "bacae99e-93a2-4af8-9078-6112bd822592",
   "metadata": {},
   "outputs": [],
   "source": [
    "A"
   ]
  },
  {
   "cell_type": "code",
   "execution_count": null,
   "id": "7d93df7a-a326-4edc-a634-09709a1dd3cb",
   "metadata": {},
   "outputs": [],
   "source": [
    "F = eigen(A)"
   ]
  },
  {
   "cell_type": "code",
   "execution_count": null,
   "id": "2ea569d2-3506-4e10-aac3-edc526c51265",
   "metadata": {},
   "outputs": [],
   "source": [
    "F.values # eigenvalues"
   ]
  },
  {
   "cell_type": "code",
   "execution_count": null,
   "id": "064dd2fd-54b8-4d5d-9b73-361a93d75e22",
   "metadata": {},
   "outputs": [],
   "source": [
    "F.vectors # columns are the RIGHT eigenvectors"
   ]
  },
  {
   "cell_type": "code",
   "execution_count": null,
   "id": "217c7022-dd83-4c87-8b77-c64827d2e589",
   "metadata": {},
   "outputs": [],
   "source": [
    "eigvals(A) # just get the eigenvalues"
   ]
  },
  {
   "cell_type": "code",
   "execution_count": null,
   "id": "eef7c3f3-87ed-4e46-ad8f-4e8034d890bb",
   "metadata": {},
   "outputs": [],
   "source": [
    "eigvecs(A)"
   ]
  }
 ],
 "metadata": {
  "kernelspec": {
   "display_name": "Julia 1.9.3",
   "language": "julia",
   "name": "julia-1.9"
  },
  "language_info": {
   "file_extension": ".jl",
   "mimetype": "application/julia",
   "name": "julia",
   "version": "1.9.3"
  }
 },
 "nbformat": 4,
 "nbformat_minor": 5
}
