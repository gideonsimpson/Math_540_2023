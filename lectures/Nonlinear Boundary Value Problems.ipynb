{
 "cells": [
  {
   "cell_type": "code",
   "execution_count": null,
   "id": "a908980b-b822-46a6-b1d0-d3dd7dc9dea2",
   "metadata": {},
   "outputs": [],
   "source": [
    "using Plots\n",
    "using LinearAlgebra\n",
    "using Printf\n",
    "using LaTeXStrings\n",
    "using NLsolve\n",
    "using BenchmarkTools\n",
    "using Random\n",
    "using ForwardDiff"
   ]
  },
  {
   "cell_type": "code",
   "execution_count": null,
   "id": "a365292c-3826-4fa3-a070-5dc5611b9a8f",
   "metadata": {},
   "outputs": [],
   "source": [
    "default(lw=2,markersize = 6,\n",
    "    xtickfont=font(12), ytickfont=font(12), \n",
    "    guidefont=font(14), legendfont=font(12),titlefont=font(12))"
   ]
  },
  {
   "cell_type": "markdown",
   "id": "bca67f36-34b4-44c5-b021-680f5bec23b6",
   "metadata": {},
   "source": [
    "# Bratu's equation\n",
    "$$\n",
    "u'' + \\lambda e^u = 0, \\quad u(0) = u(1) = 0\n",
    "$$"
   ]
  },
  {
   "cell_type": "code",
   "execution_count": null,
   "id": "9b641873-6600-4020-baef-8d1d32d49de7",
   "metadata": {},
   "outputs": [],
   "source": [
    "include(\"bvps1d.jl\"); # include source file with matrix discretizations"
   ]
  },
  {
   "cell_type": "code",
   "execution_count": null,
   "id": "2bf66ba8-8916-4b7a-bd91-17eed9ea573e",
   "metadata": {},
   "outputs": [],
   "source": [
    "n = 100;\n",
    "x = LinRange(0,1,n+1)[2:end-1];\n",
    "Δx = x[2] - x[1];\n",
    "A = assemble_spmatrix(n, Δx); # matrix discretization of d^2/dx^2\n",
    "λ = 1;"
   ]
  },
  {
   "cell_type": "code",
   "execution_count": null,
   "id": "b65298f0-4e65-484f-91b3-477112f03f28",
   "metadata": {},
   "outputs": [],
   "source": [
    "function f!(f, u)\n",
    "    f .= A*u .+ λ* exp.(u);\n",
    "    f\n",
    "end"
   ]
  },
  {
   "cell_type": "code",
   "execution_count": null,
   "id": "9a315164-74fa-4739-ad33-81d9759d924f",
   "metadata": {},
   "outputs": [],
   "source": [
    "function J!(J, u)\n",
    "    J .= A + λ * spdiagm(exp.(u));\n",
    "    J\n",
    "end"
   ]
  },
  {
   "cell_type": "code",
   "execution_count": null,
   "id": "e908d756-0b00-473c-a967-aa4dd90f1e52",
   "metadata": {},
   "outputs": [],
   "source": [
    "f = zeros(n-1);\n",
    "Jf!(Jf,u) = ForwardDiff.jacobian!(Jf, f!, f, u);"
   ]
  },
  {
   "cell_type": "code",
   "execution_count": null,
   "id": "d2178b93-703c-4e3f-b09e-92d75d625ae4",
   "metadata": {},
   "outputs": [],
   "source": [
    "Random.seed!(100);\n",
    "u0 = zeros(n-1);\n",
    "# u0 =3*randn(n-1); # compare with 0.5 * rand(n-1)\n",
    "# u0 = 0.5*randn(n-1); \n",
    "sol = nlsolve(f!, u0); # try turning autodiff \n",
    "sol\n"
   ]
  },
  {
   "cell_type": "code",
   "execution_count": null,
   "id": "7579e3c9-9270-4b6a-a686-c99f175e3f4f",
   "metadata": {},
   "outputs": [],
   "source": [
    "plot(x, sol.zero, label=\"Soln\")\n",
    "xlabel!(L\"x\")"
   ]
  },
  {
   "cell_type": "code",
   "execution_count": null,
   "id": "c18ff4e7-c82c-4b45-ba40-c58a2cb704cc",
   "metadata": {},
   "outputs": [],
   "source": []
  }
 ],
 "metadata": {
  "kernelspec": {
   "display_name": "Julia 1.9.3",
   "language": "julia",
   "name": "julia-1.9"
  },
  "language_info": {
   "file_extension": ".jl",
   "mimetype": "application/julia",
   "name": "julia",
   "version": "1.9.3"
  }
 },
 "nbformat": 4,
 "nbformat_minor": 5
}
