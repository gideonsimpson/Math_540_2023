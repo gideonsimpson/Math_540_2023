{
 "cells": [
  {
   "cell_type": "code",
   "execution_count": null,
   "id": "9d88ad72-943d-49e2-9a06-a81cbc3c9960",
   "metadata": {},
   "outputs": [],
   "source": [
    "using Plots\n",
    "using ImplicitPlots\n",
    "using LaTeXStrings\n",
    "using Printf"
   ]
  },
  {
   "cell_type": "code",
   "execution_count": null,
   "id": "e8687fb4-981e-4e62-b123-9f9369c087c6",
   "metadata": {},
   "outputs": [],
   "source": [
    "default(lw=2,markersize = 6,\n",
    "    xtickfont=font(12), ytickfont=font(12), \n",
    "    guidefont=font(14), legendfont=font(12),titlefont=font(12))"
   ]
  },
  {
   "cell_type": "markdown",
   "id": "60822341-352e-450c-a540-011a4a47f873",
   "metadata": {},
   "source": [
    "# Geometric Examples of Nonlinear Problems"
   ]
  },
  {
   "cell_type": "code",
   "execution_count": null,
   "id": "557d917c-6458-4da6-bc5e-899cfb924847",
   "metadata": {},
   "outputs": [],
   "source": [
    "c_vals = -2:0.1:2\n",
    "xx = LinRange(-2,2,100);\n",
    "anim = @animate for c in c_vals\n",
    "    plot(xx, xx.^2 .+ c,label=L\"x^2 + c\")\n",
    "    plot!(xx, 0 .* xx, label=\"\", ls=:dash)\n",
    "    xlims!(-2,2)\n",
    "    ylims!(-6,6)\n",
    "    title!(@sprintf(\"c = %g\", c))\n",
    "    xlabel!(L\"x\")\n",
    "    ylabel!(L\"y\")\n",
    "end\n"
   ]
  },
  {
   "cell_type": "code",
   "execution_count": null,
   "id": "67f8e263-7739-4d77-b7e4-106c8c5873a0",
   "metadata": {},
   "outputs": [],
   "source": [
    "gif(anim, fps=1)"
   ]
  },
  {
   "cell_type": "code",
   "execution_count": null,
   "id": "ab988835-6571-4e23-997a-c52194416046",
   "metadata": {},
   "outputs": [],
   "source": [
    "xx = LinRange(-2,2,100);\n",
    "yy = @. xx^2 - 4*sin(xx);\n",
    "plot(xx, yy)\n",
    "plot!(xx, 0 .* xx, label=\"\", ls=:dash)\n",
    "xlabel!(L\"x\")\n",
    "ylabel!(L\"y\")\n"
   ]
  },
  {
   "cell_type": "code",
   "execution_count": null,
   "id": "e370d838-f97f-4687-b10e-52804b7484a4",
   "metadata": {},
   "outputs": [],
   "source": [
    "γ_vals = 1:-0.1:-2;\n",
    "anim = @animate for γ in γ_vals\n",
    "    f(x,y)= x^2 - y + γ\n",
    "    g(x,y)= -x + y^2 + γ\n",
    "    implicit_plot(f; legend=:bottomleft, label=L\"f=0\")\n",
    "    implicit_plot!(g;xlims=(-2,2), ylims=(-2,2), label=L\"g=0\", lc=:red)\n",
    "    xlabel!(L\"x\")\n",
    "    ylabel!(L\"y\")\n",
    "    title!(@sprintf(\"γ = %g\", γ))\n",
    "end"
   ]
  },
  {
   "cell_type": "code",
   "execution_count": null,
   "id": "92aedc87-5539-4fc0-b679-1cb96a1e0fde",
   "metadata": {},
   "outputs": [],
   "source": [
    "gif(anim, fps=1)"
   ]
  },
  {
   "cell_type": "markdown",
   "id": "752cf55a-8e40-4864-b95d-36417f29adb0",
   "metadata": {},
   "source": [
    "# Root Finding Examples"
   ]
  },
  {
   "cell_type": "code",
   "execution_count": null,
   "id": "435cba89-c78d-46b4-88ee-c903d2cb7b2a",
   "metadata": {},
   "outputs": [],
   "source": [
    "using Roots\n",
    "using Polynomials\n",
    "using NLsolve"
   ]
  },
  {
   "cell_type": "markdown",
   "id": "0fc41f1b-4450-457c-9941-7bc343a84468",
   "metadata": {},
   "source": [
    "## Polynomial Example"
   ]
  },
  {
   "cell_type": "code",
   "execution_count": null,
   "id": "96706d1f-d0b3-4e7e-a1d8-ad6f40c57043",
   "metadata": {},
   "outputs": [],
   "source": [
    "p = Polynomial([-1,2,-3,1]) # x^3 - 3x^2 +2x -1\n",
    "xx = LinRange(-2,3,100);\n",
    "plot(xx, p.(xx),label=\"\")\n",
    "plot!(xx, 0 .* xx, label=\"\", ls=:dash)\n",
    "\n",
    "xlabel!(L\"x\")\n",
    "ylabel!(L\"y\")\n"
   ]
  },
  {
   "cell_type": "code",
   "execution_count": null,
   "id": "b75d9faf-f924-4c11-8ac9-54368fcfd13e",
   "metadata": {},
   "outputs": [],
   "source": [
    "roots(p) "
   ]
  },
  {
   "cell_type": "markdown",
   "id": "2c13f6ca-1168-4cc6-bb16-a6b9e928bd19",
   "metadata": {},
   "source": [
    "## Scalar Example"
   ]
  },
  {
   "cell_type": "code",
   "execution_count": null,
   "id": "c40c5979-272d-4e15-9ab6-0e4405ae1fa4",
   "metadata": {},
   "outputs": [],
   "source": [
    "f(x) =x^2-4* sin(x);\n",
    "\n",
    "xx = LinRange(-1,3,100);\n",
    "plot(xx, f.(xx),label=L\"f(x)\")\n",
    "plot!(xx, 0 .* xx, label=\"\", ls=:dash)\n",
    "xlabel!(L\"x\")\n",
    "ylabel!(L\"y\")\n"
   ]
  },
  {
   "cell_type": "code",
   "execution_count": null,
   "id": "028f9804-c907-4df3-bca9-a50b925f2365",
   "metadata": {},
   "outputs": [],
   "source": [
    "# find_zero(f,0) # comes from Roots, analog of MATLAB's fzero\n",
    "find_zero(f,0, verbose=true)"
   ]
  },
  {
   "cell_type": "code",
   "execution_count": null,
   "id": "3b60a8ee-8623-4f18-b686-e5762c9cc097",
   "metadata": {},
   "outputs": [],
   "source": [
    "# find_zero(f,2)\n",
    "find_zero(f,.5, verbose=true)"
   ]
  },
  {
   "cell_type": "markdown",
   "id": "cfd255e2-b971-48b5-a9b9-7ea15dc17b85",
   "metadata": {},
   "source": [
    "## System Example"
   ]
  },
  {
   "cell_type": "code",
   "execution_count": null,
   "id": "7f4cfa11-d2bd-4aa7-abb6-0432e40c8181",
   "metadata": {},
   "outputs": [],
   "source": [
    "γ = -0.25;\n",
    "f(x,y)= x^2 - y + γ\n",
    "g(x,y)= -x + y^2 + γ\n",
    "implicit_plot(f; legend=:bottomleft, label=L\"f=0\")\n",
    "implicit_plot!(g;xlims=(-2,2), ylims=(-2,2), label=L\"g=0\", lc=:red)\n",
    "scatter!([sol.zero[1]],[sol.zero[2]],label=\"Root\")"
   ]
  },
  {
   "cell_type": "code",
   "execution_count": null,
   "id": "132f5b75-0774-4f7d-9ea2-f9938e0eb01b",
   "metadata": {},
   "outputs": [],
   "source": [
    "function f(x) #treats x as an element of R²\n",
    "    γ = -0.25;\n",
    "    return [x[1]^2 - x[2] + γ, -x[1] + x[2]^2 + γ]\n",
    "end\n"
   ]
  },
  {
   "cell_type": "code",
   "execution_count": null,
   "id": "4ebdbbef-51d7-4691-99ce-39341edd1c39",
   "metadata": {},
   "outputs": [],
   "source": [
    " # x0 = [0., 0.]; #starting guess\n",
    "x0 = [1., 0.5];\n",
    "sol = nlsolve(f, x0) # comes from the NLsolve package\n"
   ]
  },
  {
   "cell_type": "code",
   "execution_count": null,
   "id": "460b6595-0379-4a1f-bd02-852dbbe426d6",
   "metadata": {},
   "outputs": [],
   "source": [
    "sol.zero"
   ]
  },
  {
   "cell_type": "markdown",
   "id": "29198f63-54c2-4628-abc8-ec1f2f5fe26b",
   "metadata": {},
   "source": [
    "### Using Jacobians"
   ]
  },
  {
   "cell_type": "code",
   "execution_count": null,
   "id": "7da83aa7-dd49-49ed-8998-434e5a9ad679",
   "metadata": {},
   "outputs": [],
   "source": [
    "# in place variation of f above\n",
    "function f!(f, x)\n",
    "\n",
    "    γ = -0.25;\n",
    "    \n",
    "    f[1] = x[1]^2 - x[2] + γ;\n",
    "    f[2] = -x[1] + x[2]^2 + γ;\n",
    "\n",
    "    f\n",
    "end\n",
    "\n",
    "# in place jacobian\n",
    "function J!(J, x)\n",
    "\n",
    "    J[1,1] = 2 * x[1];\n",
    "    J[1,2] = -1;\n",
    "\n",
    "    J[2,1] = -1;\n",
    "    J[2,2] = 2*x[2];\n",
    "\n",
    "    J\n",
    "\n",
    "end"
   ]
  },
  {
   "cell_type": "code",
   "execution_count": null,
   "id": "b5e36578-cae8-4580-b20f-60e2d255301a",
   "metadata": {},
   "outputs": [],
   "source": [
    "# x0 = [0., 0.]; #starting guess\n",
    "x0 = [10., 15.];\n",
    "sol = nlsolve(f!, J!, x0, method=:newton)\n"
   ]
  },
  {
   "cell_type": "code",
   "execution_count": null,
   "id": "b9d491e3-1bcd-452c-8b55-1bb4ca76c08f",
   "metadata": {},
   "outputs": [],
   "source": [
    "# x0 = [0., 0.]; #starting guess\n",
    "x0 = [1., 1];\n",
    "sol = nlsolve(f!, x0, autodiff = :forward, method=:newton)\n"
   ]
  }
 ],
 "metadata": {
  "kernelspec": {
   "display_name": "Julia 1.9.3",
   "language": "julia",
   "name": "julia-1.9"
  },
  "language_info": {
   "file_extension": ".jl",
   "mimetype": "application/julia",
   "name": "julia",
   "version": "1.9.3"
  }
 },
 "nbformat": 4,
 "nbformat_minor": 5
}
