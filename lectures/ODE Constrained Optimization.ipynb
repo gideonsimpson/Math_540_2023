{
 "cells": [
  {
   "cell_type": "code",
   "execution_count": null,
   "id": "d818d27e-e0cf-4037-a1f8-6f361adc4ce0",
   "metadata": {},
   "outputs": [],
   "source": [
    "using Plots\n",
    "using LinearAlgebra\n",
    "using Printf\n",
    "using LaTeXStrings\n",
    "using Optim\n",
    "using BenchmarkTools\n",
    "using Random\n",
    "using ForwardDiff\n",
    "using Dierckx"
   ]
  },
  {
   "cell_type": "code",
   "execution_count": null,
   "id": "ca1005b5-e8a5-4986-9426-d84cca70acec",
   "metadata": {},
   "outputs": [],
   "source": [
    "default(lw=2,markersize = 6,\n",
    "    xtickfont=font(12), ytickfont=font(12), \n",
    "    guidefont=font(14), legendfont=font(12),titlefont=font(12))"
   ]
  },
  {
   "cell_type": "code",
   "execution_count": null,
   "id": "c428132b-5caf-4f8f-9628-41bce77c7b64",
   "metadata": {},
   "outputs": [],
   "source": [
    "include(\"bvps1d.jl\"); # include source file with matrix discretizations"
   ]
  },
  {
   "cell_type": "code",
   "execution_count": null,
   "id": "8565c41a-74c3-46ba-bb89-b9dfc23d0416",
   "metadata": {},
   "outputs": [],
   "source": [
    "n = 50; # set\n",
    "x = LinRange(0,1,n+1)[2:end-1];\n",
    "Δx = x[2] - x[1];\n",
    "x_mid = LinRange(0,1,n+1)[2:end] .- Δx;\n",
    "A = assemble_spmatrix(n, Δx); # matrix discretization of d^2/dx^2\n"
   ]
  },
  {
   "cell_type": "code",
   "execution_count": null,
   "id": "50c69b53-42c5-4b49-94b7-26c68ce6754e",
   "metadata": {},
   "outputs": [],
   "source": [
    "function solve_ode(f)\n",
    "    return A\\f;\n",
    "end\n",
    "\n",
    "function evaluate_u(x, u, x_new)\n",
    "    Spline1D([0;x;1], [0; u; 0],k=3)(x_new);\n",
    "end"
   ]
  },
  {
   "cell_type": "code",
   "execution_count": null,
   "id": "ad477d72-f70e-4ddc-aa16-e6ed8a13e8fd",
   "metadata": {},
   "outputs": [],
   "source": [
    "# a_true = 0.5;\n",
    "# z_true = @. exp(-a_true * x);\n",
    "\n",
    "p_true = 2;\n",
    "\n",
    "f(p) = cos.(π * p * x);\n",
    "\n",
    "f_true = f(p_true);\n",
    "\n",
    "\n",
    "u_true = solve_ode(f_true);\n",
    "plot(x, u_true)\n",
    "\n",
    "Random.seed!(10);\n",
    "# x_data = sort(rand(25));\n",
    "x_data = [0.3, 0.45, 0.8];\n",
    "u_data = Spline1D([0; x; 1], [0; u_true; 0],k=3)(x_data)\n",
    "\n",
    "Random.seed!(100)\n",
    "γ = 1e-2;\n",
    "y_data = @. u_data + γ * randn();\n",
    "plot(x, u_true)\n",
    "scatter!(x_data, y_data)"
   ]
  },
  {
   "cell_type": "code",
   "execution_count": null,
   "id": "e0a5288d-761f-4fd5-9851-ecb366668775",
   "metadata": {},
   "outputs": [],
   "source": [
    "function F(p; λ = 1e-4)\n",
    "    u = solve_ode(f(p[1]));\n",
    "    u_predict = evaluate_u(x, u, x_data);\n",
    "    res = .5 * mean(abs2, u_predict-y_data) + .5 * λ * p[1]^2;\n",
    "    return res\n",
    "end"
   ]
  },
  {
   "cell_type": "code",
   "execution_count": null,
   "id": "982a03aa-ddfb-4ad2-8b8a-a53711225063",
   "metadata": {},
   "outputs": [],
   "source": [
    "p0= [0.];\n",
    "opt = optimize(F, p0)\n"
   ]
  },
  {
   "cell_type": "code",
   "execution_count": null,
   "id": "03d7b9c7-725e-4418-8ab5-a0342907fdd1",
   "metadata": {},
   "outputs": [],
   "source": [
    "@show p_true;\n",
    "@show opt.minimizer[1];"
   ]
  }
 ],
 "metadata": {
  "kernelspec": {
   "display_name": "Julia 1.9.3",
   "language": "julia",
   "name": "julia-1.9"
  },
  "language_info": {
   "file_extension": ".jl",
   "mimetype": "application/julia",
   "name": "julia",
   "version": "1.9.3"
  }
 },
 "nbformat": 4,
 "nbformat_minor": 5
}
