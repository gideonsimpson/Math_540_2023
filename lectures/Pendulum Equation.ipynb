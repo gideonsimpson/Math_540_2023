{
 "cells": [
  {
   "cell_type": "code",
   "execution_count": null,
   "metadata": {},
   "outputs": [],
   "source": [
    "using Plots\n",
    "using LaTeXStrings\n",
    "using Printf\n",
    "using DifferentialEquations"
   ]
  },
  {
   "cell_type": "code",
   "execution_count": null,
   "metadata": {},
   "outputs": [],
   "source": [
    "default(lw=2, markersize=6,\n",
    "    xtickfont=font(12), ytickfont=font(12),\n",
    "    guidefont=font(14), legendfont=font(12), titlefont=font(12))"
   ]
  },
  {
   "cell_type": "markdown",
   "metadata": {},
   "source": [
    "# Pendulum Equation\n",
    "The classical pendulum equation, up to a rescaling, is\n",
    "$$\n",
    "q'' = - \\sin(q)\n",
    "$$\n",
    "which can be recast as a first order system in $(q,p)$ coordinates,\n",
    "\\begin{align*}\n",
    "q' & = p\\\\\n",
    "p' & = - \\sin(q)\n",
    "\\end{align*}\n",
    "which has the associated Hamiltonian energy\n",
    "\\begin{equation*}\n",
    "H = \\frac{1}{2}p^2 - \\cos(q)\n",
    "\\end{equation*}"
   ]
  },
  {
   "cell_type": "code",
   "execution_count": null,
   "metadata": {},
   "outputs": [],
   "source": [
    "function f!(du, u, p, t)\n",
    "    du[1] = u[2];\n",
    "    du[2] = -sin(u[1]);\n",
    "    du\n",
    "end"
   ]
  },
  {
   "cell_type": "code",
   "execution_count": null,
   "metadata": {},
   "outputs": [],
   "source": [
    "H(u) = .5 * u[2]^2 - cos(u[1]); # define the energy"
   ]
  },
  {
   "cell_type": "code",
   "execution_count": null,
   "metadata": {},
   "outputs": [],
   "source": [
    "u0 = [1.0, 0.];\n",
    "tspan = (0.0, 25.0)\n",
    "\n",
    "prob = ODEProblem(f!, u0, tspan); # define the problem\n"
   ]
  },
  {
   "cell_type": "code",
   "execution_count": null,
   "metadata": {},
   "outputs": [],
   "source": [
    "# soln = solve(prob) \n",
    "# soln = solve(prob, dt = 0.1, Euler())\n",
    "# soln = solve(prob, dt=0.1, ImplicitEuler())\n",
    "# soln = solve(prob, dt=0.1, ImplicitMidpoint())\n",
    "soln = solve(prob, dt=0.1, Trapezoidal())\n",
    "plot(soln, label=[L\"q\" L\"p\"])\n",
    "xlabel!(L\"t\")"
   ]
  },
  {
   "cell_type": "code",
   "execution_count": null,
   "metadata": {},
   "outputs": [],
   "source": [
    "plot(soln, idxs=(1,2),label=[\"\" \"\"])\n",
    "xlabel!(L\"q\")\n",
    "ylabel!(L\"p\")\n",
    "title!(\"Phase Portrait\")\n"
   ]
  },
  {
   "cell_type": "code",
   "execution_count": null,
   "metadata": {},
   "outputs": [],
   "source": [
    "plot(soln.t, H.(soln.u),label=\"\")\n",
    "xlabel!(L\"t\")\n",
    "ylabel!(L\"H(t)\")"
   ]
  },
  {
   "cell_type": "code",
   "execution_count": null,
   "metadata": {},
   "outputs": [],
   "source": []
  }
 ],
 "metadata": {
  "kernelspec": {
   "display_name": "Julia 1.9.3",
   "language": "julia",
   "name": "julia-1.9"
  },
  "language_info": {
   "file_extension": ".jl",
   "mimetype": "application/julia",
   "name": "julia",
   "version": "1.9.3"
  }
 },
 "nbformat": 4,
 "nbformat_minor": 2
}
