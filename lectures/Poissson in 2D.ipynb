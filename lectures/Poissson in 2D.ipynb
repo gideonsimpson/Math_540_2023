{
 "cells": [
  {
   "cell_type": "code",
   "execution_count": null,
   "metadata": {},
   "outputs": [],
   "source": [
    "using Plots\n",
    "using LinearAlgebra\n",
    "using Krylov\n",
    "using Printf\n",
    "using LaTeXStrings\n",
    "using BenchmarkTools\n",
    "include(\"poisson2d.jl\")"
   ]
  },
  {
   "cell_type": "code",
   "execution_count": null,
   "metadata": {},
   "outputs": [],
   "source": [
    "default(lw=2, markersize=6,\n",
    "    xtickfont=font(12), ytickfont=font(12),\n",
    "    guidefont=font(14), legendfont=font(12), titlefont=font(12))"
   ]
  },
  {
   "cell_type": "markdown",
   "metadata": {},
   "source": [
    "# Poisson Equation Example\n",
    "Solve\n",
    "$$\n",
    "-\\Delta u = f\n",
    "$$\n",
    "over $(0,L_x)\\times (0,L_y)$ with zero Dirichlet boundary conditions.\n",
    "\n",
    "Test with the eigenfunctions\n",
    "$$\n",
    "u = \\sin(k_x \\pi/L_x x)\\sin(k_y \\pi y/L_y)\n",
    "$$\n",
    "where $k_x,k_y\\in \\mathbb{Z}$, since these satisfy the boudnary conditions and\n",
    "$$\n",
    "-\\Delta u = [(k_x \\pi/L_x)^2 + (k_y\\pi/L_y)^2] u\n",
    "$$"
   ]
  },
  {
   "cell_type": "code",
   "execution_count": null,
   "metadata": {},
   "outputs": [],
   "source": [
    "Lx = 1;\n",
    "Ly = 1;\n",
    "nx = 9; # (nx-1)×(ny-1) interior points\n",
    "ny = 9;\n",
    "\n",
    "x = LinRange(0, Lx, nx + 2)\n",
    "y = LinRange(0, Ly, ny + 2)\n",
    "\n",
    "@show Δx = x[2] - x[1];\n",
    "@show Δy = y[2] - y[1];\n",
    "\n",
    "\n",
    "xy = [[x_, y_] for y_ in y, x_ in x]; # mesh including boundary points\n",
    "xy_int = [[x_, y_] for y_ in y[2:end-1], x_ in x[2:end-1]]; # interior mesh points"
   ]
  },
  {
   "cell_type": "code",
   "execution_count": null,
   "metadata": {},
   "outputs": [],
   "source": [
    "A = assemble_laplacian2d(Δx, Δy, nx, ny);"
   ]
  },
  {
   "cell_type": "code",
   "execution_count": null,
   "metadata": {},
   "outputs": [],
   "source": [
    "A"
   ]
  },
  {
   "cell_type": "code",
   "execution_count": null,
   "metadata": {},
   "outputs": [],
   "source": [
    "kx = 3;\n",
    "ky = 2;\n",
    "# X = (x,y) in 2D\n",
    "u_exact = X -> sin(kx * π * X[1] / Lx) * sin(ky * π * X[2] / Ly);\n",
    "f = X -> ((kx * π / Lx)^2 + (ky * π / Ly)^2) * u_exact(X);"
   ]
  },
  {
   "cell_type": "code",
   "execution_count": null,
   "metadata": {},
   "outputs": [],
   "source": [
    "B = f.(xy_int)[:]; # flattern into a column vector"
   ]
  },
  {
   "cell_type": "code",
   "execution_count": null,
   "metadata": {},
   "outputs": [],
   "source": [
    "contourf(x, y, u_exact.(xy))# note use of transpose;\n",
    "xlabel!(L\"$x$\")\n",
    "ylabel!(L\"$y$\")\n",
    "title!(L\"Exact Solution, $u$\")"
   ]
  },
  {
   "cell_type": "code",
   "execution_count": null,
   "metadata": {},
   "outputs": [],
   "source": [
    "contourf(x, y, f.(xy))# note use of transpose;\n",
    "xlabel!(L\"$x$\")\n",
    "ylabel!(L\"$y$\")\n",
    "title!(L\"Data, $f$\")"
   ]
  },
  {
   "cell_type": "code",
   "execution_count": null,
   "metadata": {},
   "outputs": [],
   "source": [
    "U = A \\ B;\n",
    "u = reshape(U, nx, ny); # get as a 2D array"
   ]
  },
  {
   "cell_type": "code",
   "execution_count": null,
   "metadata": {},
   "outputs": [],
   "source": [
    "contourf(x[2:end-1], y[2:end-1], u)"
   ]
  },
  {
   "cell_type": "code",
   "execution_count": null,
   "metadata": {},
   "outputs": [],
   "source": [
    "err = norm(U .- u_exact.(xy_int)[:], Inf);\n",
    "println(\"Error = \", err)"
   ]
  },
  {
   "cell_type": "markdown",
   "metadata": {},
   "source": [
    "# Timing and Error"
   ]
  },
  {
   "cell_type": "code",
   "execution_count": null,
   "metadata": {},
   "outputs": [],
   "source": [
    "function poisson_solve(n, kx=1, ky=1)\n",
    "    Lx = 1\n",
    "    Ly = 1\n",
    "    nx = n \n",
    "    ny = n\n",
    "    x = LinRange(0, Lx, nx + 2)\n",
    "    y = LinRange(0, Ly, ny + 2)\n",
    "\n",
    "    Δx = x[2] - x[1]\n",
    "    Δy = y[2] - y[1]\n",
    "\n",
    "    kx = 1\n",
    "    ky = 1\n",
    "    u_exact = X -> sin(kx * π * X[1] / Lx) * sin(ky * π * X[2] / Ly)\n",
    "    f = X -> ((kx * π / Lx)^2 + (ky * π / Ly)^2) * sin(kx * π * X[1] / Lx) * sin(ky * π * X[2] / Ly)\n",
    "    xy_int = [[x_, y_] for y_ in y[2:end-1],x_ in x[2:end-1]] # interior mesh points\n",
    "    B = f.(xy_int)[:] # flattern into a column vector\n",
    "    A = assemble_laplacian2d(Δx, Δy, nx, ny)\n",
    "    U = A \\ B\n",
    "    err = norm(U .- u_exact.(xy_int)[:], Inf)\n",
    "    return err\n",
    "end"
   ]
  },
  {
   "cell_type": "code",
   "execution_count": null,
   "metadata": {},
   "outputs": [],
   "source": [
    "n_vals = [10, 20, 40, 80, 160, 320];\n",
    "for n in n_vals\n",
    "    @btime poisson_solve($n);\n",
    "end"
   ]
  },
  {
   "cell_type": "code",
   "execution_count": null,
   "metadata": {},
   "outputs": [],
   "source": [
    "function poisson_solve_krylov(n, kx=1, ky=1)\n",
    "    Lx = 1\n",
    "    Ly = 1\n",
    "    nx = n\n",
    "    ny = n\n",
    "    x = LinRange(0, Lx, nx + 2)\n",
    "    y = LinRange(0, Ly, ny + 2)\n",
    "\n",
    "    Δx = x[2] - x[1]\n",
    "    Δy = y[2] - y[1]\n",
    "\n",
    "    kx = 1\n",
    "    ky = 1\n",
    "    u_exact = X -> sin(kx * π * X[1] / Lx) * sin(ky * π * X[2] / Ly)\n",
    "    f = X -> ((kx * π / Lx)^2 + (ky * π / Ly)^2) * sin(kx * π * X[1] / Lx) * sin(ky * π * X[2] / Ly)\n",
    "    xy_int = [[x_, y_] for y_ in y[2:end-1], x_ in x[2:end-1]] # interior mesh points\n",
    "    B = f.(xy_int)[:] # flattern into a column vector\n",
    "    A = assemble_laplacian2d(Δx, Δy, nx, ny)\n",
    "    U, _= cg(A, B)\n",
    "    err = norm(U .- u_exact.(xy_int)[:], Inf)\n",
    "    return err\n",
    "end"
   ]
  },
  {
   "cell_type": "code",
   "execution_count": null,
   "metadata": {},
   "outputs": [],
   "source": [
    "n_vals = [10, 20, 40, 80, 160, 320];\n",
    "for n in n_vals\n",
    "    @btime poisson_solve_krylov($n)\n",
    "end"
   ]
  },
  {
   "cell_type": "code",
   "execution_count": null,
   "metadata": {},
   "outputs": [],
   "source": [
    "err_vals = Float64[];\n",
    "for n in n_vals\n",
    "    push!(err_vals, poisson_solve(n))\n",
    "end"
   ]
  },
  {
   "cell_type": "code",
   "execution_count": null,
   "metadata": {},
   "outputs": [],
   "source": [
    "scatter(1 ./ n_vals, err_vals, \n",
    "    xscale=:log10, yscale=:log10, label=\"Error\")\n",
    "plot!(1 ./ n_vals, 1 ./ n_vals .^ 2, \n",
    "    label=L\"$\\propto \\Delta x^2$\")\n",
    "xlabel!(L\"$\\Delta x$\")"
   ]
  }
 ],
 "metadata": {
  "kernelspec": {
   "display_name": "Julia 1.10.0-rc1",
   "language": "julia",
   "name": "julia-1.10"
  },
  "language_info": {
   "file_extension": ".jl",
   "mimetype": "application/julia",
   "name": "julia",
   "version": "1.10.0"
  }
 },
 "nbformat": 4,
 "nbformat_minor": 2
}
