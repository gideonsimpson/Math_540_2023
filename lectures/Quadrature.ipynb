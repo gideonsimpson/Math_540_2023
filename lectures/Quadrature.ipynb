{
 "cells": [
  {
   "cell_type": "code",
   "execution_count": null,
   "id": "91afac90-2ca7-4d7d-9bc9-1d90eae690e7",
   "metadata": {},
   "outputs": [],
   "source": [
    "using Plots\n",
    "using Printf\n",
    "using LaTeXStrings\n",
    "\n",
    "using NumericalIntegration\n",
    "using Trapz\n",
    "using QuadGK"
   ]
  },
  {
   "cell_type": "code",
   "execution_count": null,
   "id": "9a243f19-64cf-46db-9e3e-08ea2db31187",
   "metadata": {},
   "outputs": [],
   "source": [
    "default(lw=2,markersize = 6,\n",
    "    xtickfont=font(12), ytickfont=font(12), \n",
    "    guidefont=font(14), legendfont=font(12),titlefont=font(12))"
   ]
  },
  {
   "cell_type": "code",
   "execution_count": null,
   "id": "ca5a478d-02f1-492d-8c8f-df0ce6e45746",
   "metadata": {},
   "outputs": [],
   "source": [
    "function left_riemann(x, y)\n",
    "    return sum((x[2:end] .-x[1:end-1]) .* y[1:end-1]);\n",
    "end\n",
    "\n",
    "function right_riemann(x, y)\n",
    "    return sum((x[2:end] .- x[1:end-1]) .* y[2:end]);\n",
    "end"
   ]
  },
  {
   "cell_type": "markdown",
   "id": "a77c33a6-b6eb-4a74-bee0-bbf3664ce3ab",
   "metadata": {},
   "source": [
    "# Example\n",
    "Compute\n",
    "$$\n",
    "\\int_0^{\\pi/2} \\sin(x) dx = 1;\n",
    "$$"
   ]
  },
  {
   "cell_type": "code",
   "execution_count": null,
   "id": "028a14ba-dea0-4f2b-bd82-d9b09f38d61d",
   "metadata": {},
   "outputs": [],
   "source": [
    "n_vals = [5, 10, 20, 40, 80, 160, 320, 640];\n",
    "left_riemann_vals = Float64[];\n",
    "right_riemann_vals = Float64[];\n",
    "trapz_vals = Float64[];\n",
    "simps_vals = Float64[];\n",
    "\n",
    "f(x) = sin(x);\n",
    "\n",
    "for n in n_vals\n",
    "    x = LinRange(0, π/2, n+1); # create the nodes\n",
    "    y = f.(x); # evaluate at the nodes\n",
    "    \n",
    "    push!(left_riemann_vals, left_riemann(x, y));\n",
    "    push!(right_riemann_vals, right_riemann(x, y));\n",
    "\n",
    "    push!(trapz_vals, trapz(x, y));\n",
    "    push!(simps_vals, integrate(x, y, SimpsonEven())); # Even for evenly/uniformly spaced points\n",
    "end"
   ]
  },
  {
   "cell_type": "code",
   "execution_count": null,
   "id": "df759755-00ae-4616-838c-98c2553b3881",
   "metadata": {},
   "outputs": [],
   "source": [
    "scatter(n_vals, left_riemann_vals, label=\"Left Riemann\")\n",
    "scatter!(n_vals, right_riemann_vals, label=\"Right Riemann\")\n",
    "scatter!(n_vals, trapz_vals, label=\"Trapezoidal\")\n",
    "scatter!(n_vals, simps_vals, label=\"Simpsons\")\n",
    "xlabel!(L\"n\")"
   ]
  },
  {
   "cell_type": "code",
   "execution_count": null,
   "id": "685cc67d-d2a1-4d3c-950e-a509178bf8e4",
   "metadata": {},
   "outputs": [],
   "source": [
    "scatter(n_vals, abs.(left_riemann_vals .-1), xscale=:log10, yscale=:log10, label=\"Left Riemann\", legend=:bottomleft)\n",
    "scatter!(n_vals, abs.(right_riemann_vals .-1), label=\"Right Riemann\")\n",
    "scatter!(n_vals, abs.(trapz_vals .-1), label=\"Trapezoidal\")\n",
    "scatter!(n_vals, abs.(simps_vals .-1), label=\"Simpsons\")\n",
    "plot!(n_vals, 1 ./n_vals, label=\"First Order\", ls=:dash)\n",
    "plot!(n_vals, 0.2 ./(n_vals.^2), label=\"Second Order\", ls=:dash)\n",
    "plot!(n_vals, 0.05 ./(n_vals.^4), label=\"Fourth Order\", ls=:dash)\n",
    "xlabel!(L\"n\")\n",
    "ylabel!(\"Abs. Error\")"
   ]
  },
  {
   "cell_type": "code",
   "execution_count": null,
   "id": "be49ec5c-2aa0-4742-bcc1-31dfd3c09507",
   "metadata": {},
   "outputs": [],
   "source": [
    "quadgk(f, 0, π/2)"
   ]
  },
  {
   "cell_type": "code",
   "execution_count": null,
   "id": "26ec4d7c-37dc-42c5-8587-ef20918dd3a9",
   "metadata": {},
   "outputs": [],
   "source": [
    "quadgk(x->x*log(x) + x*sin(x), 0, π/2)"
   ]
  }
 ],
 "metadata": {
  "kernelspec": {
   "display_name": "Julia 1.9.3",
   "language": "julia",
   "name": "julia-1.9"
  },
  "language_info": {
   "file_extension": ".jl",
   "mimetype": "application/julia",
   "name": "julia",
   "version": "1.9.3"
  }
 },
 "nbformat": 4,
 "nbformat_minor": 5
}
