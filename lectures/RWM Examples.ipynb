{
 "cells": [
  {
   "cell_type": "markdown",
   "id": "6fa47e11-0fb1-46b4-a6fa-b98202676e1a",
   "metadata": {},
   "source": [
    "# Illustrate the Random Walk Metropolis Method"
   ]
  },
  {
   "cell_type": "code",
   "execution_count": null,
   "id": "16b86395-a780-446c-9be8-eb3dab1a9ad6",
   "metadata": {},
   "outputs": [],
   "source": [
    "using Random\n",
    "using Distributions\n",
    "using Statistics\n",
    "using Printf\n",
    "using Plots\n",
    "using StatsPlots\n",
    "using LaTeXStrings"
   ]
  },
  {
   "cell_type": "code",
   "execution_count": null,
   "id": "98bc4c88-b612-4a3a-9139-c60052d3fef6",
   "metadata": {},
   "outputs": [],
   "source": [
    "# for readability, these are good settings to use\n",
    "default(xtickfontsize=14,  ytickfontsize=14, ztickfontsize=14,\n",
    "    guidefontsize=14, legendfontsize=12, lw=2,ms=8)"
   ]
  },
  {
   "cell_type": "markdown",
   "id": "d56aca68-581d-43f7-8f11-c76316d04049",
   "metadata": {},
   "source": [
    "# Double Well Potential\n",
    "Sample from\n",
    "$$\n",
    "p(x) \\propto \\exp\\{-\\beta V(x)\\}\n",
    "$$\n",
    "with \n",
    "$$\n",
    "V(x) = (x^2-1)^2\n",
    "$$\n",
    "and $\\beta >0$."
   ]
  },
  {
   "cell_type": "code",
   "execution_count": null,
   "id": "16664271-d79a-4492-bf60-3ff1a84809a7",
   "metadata": {},
   "outputs": [],
   "source": [
    "V(x) = (x^2-1)^2;\n",
    "β = 10.; # the larger this is, the harder the problem\n",
    "σ = 0.5; # this is the variance parameter of the random walk method\n",
    "\n",
    "a(x,y) = min(1, exp(β * (V(x) -V(y)))); # acceptance probability\n",
    "\n",
    "X0 = -1.;\n",
    "\n",
    "T = 10^6; # total number of iterations"
   ]
  },
  {
   "cell_type": "code",
   "execution_count": null,
   "id": "cfacda50-db1a-4145-95b7-2bb9a3b9b306",
   "metadata": {},
   "outputs": [],
   "source": [
    "X = X0;\n",
    "X_samples = [X];\n",
    "Random.seed!(100);\n",
    "for _ in 1:T-1\n",
    "    Y = X + σ * randn(); # this is N(0, σ² I)\n",
    "    ζ = rand();\n",
    "    if (ζ< a(X,Y))\n",
    "        X = Y\n",
    "    end\n",
    "    push!(X_samples, X)\n",
    "end"
   ]
  },
  {
   "cell_type": "code",
   "execution_count": null,
   "id": "d415bcbe-9cfc-4038-a0f9-2aa1bfda481d",
   "metadata": {},
   "outputs": [],
   "source": [
    "histogram(X_samples, label=\"Samples\", norm=:pdf, legend=:top)\n",
    "xlabel!(L\"x\")\n",
    "ylabel!(\"Density\")"
   ]
  },
  {
   "cell_type": "markdown",
   "id": "403e3cef-46ec-44f1-b11e-0b093749616f",
   "metadata": {},
   "source": [
    "# 2D\n",
    "Here,\n",
    "$$\n",
    "p(x) \\propto \\exp\\{-(x_1^2 x_2^2 + x_1^2 + x_2^2 - 8x_1 - 8x_2)/2\\}\n",
    "$$"
   ]
  },
  {
   "cell_type": "code",
   "execution_count": null,
   "id": "d9503bd2-18d4-495d-8691-d73f0eb6f400",
   "metadata": {},
   "outputs": [],
   "source": [
    "V(x) =0.5 * ( x[1]^2*x[2]^2+x[1]^2 + x[2]^2 - 8 * x[1] - 8 * x[2])\n",
    "σ = 2; # this is the variance parameter of the random walk method\n",
    "\n",
    "a(x,y) = min(1, exp((V(x) -V(y)))); # acceptance probability\n",
    "\n",
    "X0 = [1., 1.];\n",
    "\n",
    "T = 10^6; # total number of iterations"
   ]
  },
  {
   "cell_type": "markdown",
   "id": "ac3ef24c-8d74-4e22-805e-4e8ce25685f2",
   "metadata": {},
   "source": [
    "Plot the unnormalized density"
   ]
  },
  {
   "cell_type": "code",
   "execution_count": null,
   "id": "23795110-7882-4a0b-a0f4-8dadcab202b8",
   "metadata": {},
   "outputs": [],
   "source": [
    "xx = LinRange(-2,6, 500);\n",
    "yy = LinRange(-1,7, 500);\n",
    "contourf(xx, yy, [exp(-V([x_,y_])) for y_ in yy,x_ in xx])\n",
    "xlabel!(L\"x\")\n",
    "ylabel!(L\"y\")"
   ]
  },
  {
   "cell_type": "code",
   "execution_count": null,
   "id": "f2fbbd7f-b122-4ef6-96ef-1cdcd2e32380",
   "metadata": {},
   "outputs": [],
   "source": [
    "X = deepcopy(X0);\n",
    "X_samples = [deepcopy(X)];\n",
    "Random.seed!(100);\n",
    "for _ in 1:T-1\n",
    "    Y = X + σ * randn(2);\n",
    "    ζ = rand();\n",
    "    if (ζ< a(X,Y))\n",
    "        X = Y\n",
    "    end\n",
    "    push!(X_samples, deepcopy(X))\n",
    "end"
   ]
  },
  {
   "cell_type": "code",
   "execution_count": null,
   "id": "ea7832e8-f4c4-4120-ab11-2c1372efd52e",
   "metadata": {},
   "outputs": [],
   "source": [
    "histogram2d([X_[1] for X_ in X_samples],[X_[2] for X_ in X_samples], \n",
    "    norm =:pdf)\n",
    "xlabel!(\"x\")\n",
    "ylabel!(\"y\")"
   ]
  },
  {
   "cell_type": "markdown",
   "id": "1efcef4a-a1eb-437c-855a-d9be8ce58580",
   "metadata": {},
   "source": [
    "Estimate\n",
    "$$\n",
    "\\mathbb{E}[X_1]\n",
    "$$"
   ]
  },
  {
   "cell_type": "code",
   "execution_count": null,
   "id": "223bcefd-a5f4-42a7-b93f-414bcddcd4a6",
   "metadata": {},
   "outputs": [],
   "source": [
    "@show mean([X_[1] for X_ in X_samples]);"
   ]
  },
  {
   "cell_type": "code",
   "execution_count": null,
   "id": "f256b6b9-a09d-4275-a9f4-5d14016933e1",
   "metadata": {},
   "outputs": [],
   "source": [
    "plot(1:T, cumsum([X_[1] for X_ in X_samples])./(1:T), xscale=:log10,\n",
    "    label=\"Running Avg.\", legend=:bottomright)\n",
    "xlabel!(\"Iterate\")\n",
    "ylabel!(\"Estimate\")"
   ]
  },
  {
   "cell_type": "code",
   "execution_count": null,
   "id": "44ae8ceb-a1bd-4e11-8332-dc8e7362e49a",
   "metadata": {},
   "outputs": [],
   "source": [
    "histogram([X_[1] for X_ in X_samples], label=\"Samples\", norm=:pdf)\n",
    "xlabel!(L\"x\")\n",
    "ylabel!(\"Density\")"
   ]
  }
 ],
 "metadata": {
  "kernelspec": {
   "display_name": "Julia 1.9.4",
   "language": "julia",
   "name": "julia-1.9"
  },
  "language_info": {
   "file_extension": ".jl",
   "mimetype": "application/julia",
   "name": "julia",
   "version": "1.9.4"
  }
 },
 "nbformat": 4,
 "nbformat_minor": 5
}
