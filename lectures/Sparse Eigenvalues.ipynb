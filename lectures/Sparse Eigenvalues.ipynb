{
 "cells": [
  {
   "cell_type": "code",
   "execution_count": null,
   "id": "2be38465-8d5e-45bf-9585-c4d9196dae40",
   "metadata": {},
   "outputs": [],
   "source": [
    "using LinearAlgebra\n",
    "using Plots\n",
    "using Arpack"
   ]
  },
  {
   "cell_type": "code",
   "execution_count": null,
   "id": "3a0298b1-5b23-4a0e-bc53-d67db63da11f",
   "metadata": {},
   "outputs": [],
   "source": [
    "include(\"bvps1d.jl\"); # include source file"
   ]
  },
  {
   "cell_type": "code",
   "execution_count": null,
   "id": "9a0c42f6-a7c0-4bf2-a3a3-7b1a70da968c",
   "metadata": {},
   "outputs": [],
   "source": [
    "a = 0;\n",
    "b = 1;\n",
    "n = 20;\n",
    "\n",
    "x = LinRange(a,b,n+1)[2:end-1];\n",
    "@show Δx = x[2] - x[1];\n",
    "\n",
    "A = -assemble_spmatrix(n, Δx); # matrix approximation of -d^2/dx^2 "
   ]
  },
  {
   "cell_type": "code",
   "execution_count": null,
   "id": "9a9f84de-0534-4eb5-b729-698c80251879",
   "metadata": {},
   "outputs": [],
   "source": [
    "evals, evecs = eigs(A) # defaults to six eigenvalues of largest magnitude"
   ]
  },
  {
   "cell_type": "code",
   "execution_count": null,
   "id": "e2fff536-514b-4b1d-92c2-c54e6a8e34c6",
   "metadata": {},
   "outputs": [],
   "source": [
    "evals"
   ]
  },
  {
   "cell_type": "code",
   "execution_count": null,
   "id": "ee888114-6be2-4d97-9a1e-49bb618e6f7f",
   "metadata": {},
   "outputs": [],
   "source": [
    "evals, evecs = eigs(A, nev=15, which= :SR); # get 10 eigenvalues with smallest real part"
   ]
  },
  {
   "cell_type": "code",
   "execution_count": null,
   "id": "c4c4fa60-d405-4d3a-bc1b-9dc464491e50",
   "metadata": {},
   "outputs": [],
   "source": [
    "evals"
   ]
  },
  {
   "cell_type": "code",
   "execution_count": null,
   "id": "d0bcaa4c-e5c6-4d1b-8c81-c67947f25426",
   "metadata": {},
   "outputs": [],
   "source": [
    "scatter(evals,label=\"Approximations\", yscale=:log10)\n",
    "scatter!( π^2 * (1:length(evals)).^2, label=\"Exact\")\n",
    "xlabel!(\"Eigenvalue Index\")"
   ]
  },
  {
   "cell_type": "code",
   "execution_count": null,
   "id": "2a36581f-84ad-4478-b600-aef227f1a8d1",
   "metadata": {},
   "outputs": [],
   "source": []
  }
 ],
 "metadata": {
  "kernelspec": {
   "display_name": "Julia 1.9.3",
   "language": "julia",
   "name": "julia-1.9"
  },
  "language_info": {
   "file_extension": ".jl",
   "mimetype": "application/julia",
   "name": "julia",
   "version": "1.9.3"
  }
 },
 "nbformat": 4,
 "nbformat_minor": 5
}
