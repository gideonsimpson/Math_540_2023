{
 "cells": [
  {
   "cell_type": "code",
   "execution_count": null,
   "metadata": {},
   "outputs": [],
   "source": [
    "using FFTW\n",
    "using Plots\n",
    "using LaTeXStrings\n",
    "using Printf\n",
    "using LinearAlgebra"
   ]
  },
  {
   "cell_type": "code",
   "execution_count": null,
   "metadata": {},
   "outputs": [],
   "source": [
    "default(xtickfontsize=14, ytickfontsize=14, ztickfontsize=14,\n",
    "    guidefontsize=14, legendfontsize=12, lw=2, ms=8)"
   ]
  },
  {
   "cell_type": "code",
   "execution_count": null,
   "metadata": {},
   "outputs": [],
   "source": [
    "@show n = 2^4; # number of points\n",
    "x = LinRange(0, 2 * π, n + 1)[1:end-1]"
   ]
  },
  {
   "cell_type": "code",
   "execution_count": null,
   "metadata": {},
   "outputs": [],
   "source": [
    "f = @. exp(-sin(x));\n",
    "plot(x, f, label=\"\")\n",
    "xlabel!(L\"x\")"
   ]
  },
  {
   "cell_type": "code",
   "execution_count": null,
   "metadata": {},
   "outputs": [],
   "source": [
    "dx = im * [0:1:n÷2; -n÷2+1:1:-1];\n",
    "F = fft(f);\n",
    "fp_fft = ifft(dx .* F);\n",
    "\n",
    "fp =@. -cos(x) * exp(-sin(x));"
   ]
  },
  {
   "cell_type": "code",
   "execution_count": null,
   "metadata": {},
   "outputs": [],
   "source": [
    "plot(x, fp, label=\"Exact\")\n",
    "scatter!(x, real.(fp_fft), label=\"FFT\")\n",
    "xlabel!(L\"x\")"
   ]
  },
  {
   "cell_type": "code",
   "execution_count": null,
   "metadata": {},
   "outputs": [],
   "source": [
    "@show norm(fp_fft - fp);"
   ]
  },
  {
   "cell_type": "markdown",
   "metadata": {},
   "source": [
    "# Spectral Accuracy\n",
    "Vary the number of nodes and explore the convergence of spectral differentiation."
   ]
  },
  {
   "cell_type": "code",
   "execution_count": null,
   "metadata": {},
   "outputs": [],
   "source": [
    "n_vals = 2 .^(2:6);\n",
    "err_vals = Float64[];\n",
    "\n",
    "for n in n_vals\n",
    "    x = LinRange(0, 2 * π, n + 1)[1:end-1];\n",
    "    f = @. exp(-sin(x))\n",
    "    dx = im * [0:1:n÷2; -n÷2+1:1:-1]\n",
    "    F = fft(f)\n",
    "    fp_fft = ifft(dx .* F);\n",
    "\n",
    "    fp = @. -cos(x) * exp(-sin(x));\n",
    "    push!(err_vals, norm(fp_fft - fp,Inf));\n",
    "end"
   ]
  },
  {
   "cell_type": "code",
   "execution_count": null,
   "metadata": {},
   "outputs": [],
   "source": [
    "scatter(n_vals, err_vals, yscale=:log10, label=\"\")\n",
    "xlabel!(L\"n\")\n",
    "ylabel!(\"Error\")"
   ]
  },
  {
   "cell_type": "markdown",
   "metadata": {},
   "source": [
    "With 32 points, we have achieved floating point accuracy."
   ]
  },
  {
   "cell_type": "markdown",
   "metadata": {},
   "source": []
  }
 ],
 "metadata": {
  "kernelspec": {
   "display_name": "Julia 1.9.4",
   "language": "julia",
   "name": "julia-1.9"
  },
  "language_info": {
   "file_extension": ".jl",
   "mimetype": "application/julia",
   "name": "julia",
   "version": "1.9.4"
  }
 },
 "nbformat": 4,
 "nbformat_minor": 2
}
