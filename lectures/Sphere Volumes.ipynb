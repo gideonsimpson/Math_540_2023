{
 "cells": [
  {
   "cell_type": "code",
   "execution_count": null,
   "metadata": {},
   "outputs": [],
   "source": [
    "using Plots\n",
    "using Random\n",
    "using Distributions\n",
    "using LinearAlgebra\n",
    "using Printf\n",
    "using SpecialFunctions"
   ]
  },
  {
   "cell_type": "code",
   "execution_count": null,
   "metadata": {},
   "outputs": [],
   "source": [
    "default(xtickfontsize=14, ytickfontsize=14, ztickfontsize=14,\n",
    "    guidefontsize=14, legendfontsize=12, lw=2, ms=8)"
   ]
  },
  {
   "cell_type": "code",
   "execution_count": null,
   "metadata": {},
   "outputs": [],
   "source": [
    "# setup\n",
    "unif_dist = Uniform(-1, 1); # this is used repeatedly"
   ]
  },
  {
   "cell_type": "code",
   "execution_count": null,
   "metadata": {},
   "outputs": [],
   "source": [
    "d = 3;\n",
    "n_samples = 10^4;\n",
    "n_inside = 0;\n",
    "\n",
    "for _ in 1:n_samples\n",
    "    X = rand(unif_dist, d);\n",
    "    if(norm(X)< 1)\n",
    "        n_inside += 1;\n",
    "    end\n",
    "end\n",
    "@printf(\"Volume Estimate = %g\\n\", (n_inside/n_samples) * 2^d)\n",
    "@printf(\"    Exact Value = %g\\n\", sqrt(π^d) / gamma((d / 2) + 1));"
   ]
  }
 ],
 "metadata": {
  "kernelspec": {
   "display_name": "Julia 1.10.0-rc1",
   "language": "julia",
   "name": "julia-1.10"
  },
  "language_info": {
   "file_extension": ".jl",
   "mimetype": "application/julia",
   "name": "julia",
   "version": "1.10.0"
  }
 },
 "nbformat": 4,
 "nbformat_minor": 2
}
